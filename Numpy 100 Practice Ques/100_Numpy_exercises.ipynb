{
 "cells": [
  {
   "cell_type": "markdown",
   "source": [
    "# 100 numpy exercises\n",
    "\n",
    "This is a collection of exercises that have been collected in the numpy mailing list, on stack overflow\n",
    "and in the numpy documentation. The goal of this collection is to offer a quick reference for both old\n",
    "and new users but also to provide a set of exercises for those who teach.\n",
    "\n",
    "\n",
    "If you find an error or think you've a better way to solve some of them, feel\n",
    "free to open an issue at <https://github.com/rougier/numpy-100>."
   ],
   "metadata": {}
  },
  {
   "cell_type": "markdown",
   "source": [
    "File automatically generated. See the documentation to update questions/answers/hints programmatically."
   ],
   "metadata": {}
  },
  {
   "cell_type": "markdown",
   "source": [
    "Run the `initialize.py` module, then for each question you can query the\n",
    "answer or an hint with `hint(n)` or `answer(n)` for `n` question number."
   ],
   "metadata": {}
  },
  {
   "cell_type": "code",
   "execution_count": 1,
   "source": [
    "%run initialise.py"
   ],
   "outputs": [
    {
     "output_type": "error",
     "ename": "ModuleNotFoundError",
     "evalue": "No module named 'mdutils'",
     "traceback": [
      "\u001b[1;31m---------------------------------------------------------------------------\u001b[0m",
      "\u001b[1;31mModuleNotFoundError\u001b[0m                       Traceback (most recent call last)",
      "\u001b[1;32md:\\NISER\\Physics\\7th Sem Stuffs\\Machine Learning\\numpy-100-master\\initialise.py\u001b[0m in \u001b[0;36m<module>\u001b[1;34m\u001b[0m\n\u001b[0;32m      1\u001b[0m \u001b[1;32mimport\u001b[0m \u001b[0mnumpy\u001b[0m \u001b[1;32mas\u001b[0m \u001b[0mnp\u001b[0m\u001b[1;33m\u001b[0m\u001b[1;33m\u001b[0m\u001b[0m\n\u001b[0;32m      2\u001b[0m \u001b[1;33m\u001b[0m\u001b[0m\n\u001b[1;32m----> 3\u001b[1;33m \u001b[1;32mimport\u001b[0m \u001b[0mgenerators\u001b[0m \u001b[1;32mas\u001b[0m \u001b[0mge\u001b[0m\u001b[1;33m\u001b[0m\u001b[1;33m\u001b[0m\u001b[0m\n\u001b[0m\u001b[0;32m      4\u001b[0m \u001b[1;33m\u001b[0m\u001b[0m\n\u001b[0;32m      5\u001b[0m \u001b[1;33m\u001b[0m\u001b[0m\n",
      "\u001b[1;32md:\\NISER\\Physics\\7th Sem Stuffs\\Machine Learning\\numpy-100-master\\generators.py\u001b[0m in \u001b[0;36m<module>\u001b[1;34m\u001b[0m\n\u001b[0;32m      1\u001b[0m \u001b[1;32mimport\u001b[0m \u001b[0mos\u001b[0m\u001b[1;33m\u001b[0m\u001b[1;33m\u001b[0m\u001b[0m\n\u001b[0;32m      2\u001b[0m \u001b[1;32mimport\u001b[0m \u001b[0mnbformat\u001b[0m \u001b[1;32mas\u001b[0m \u001b[0mnbf\u001b[0m\u001b[1;33m\u001b[0m\u001b[1;33m\u001b[0m\u001b[0m\n\u001b[1;32m----> 3\u001b[1;33m \u001b[1;32mimport\u001b[0m \u001b[0mmdutils\u001b[0m\u001b[1;33m\u001b[0m\u001b[1;33m\u001b[0m\u001b[0m\n\u001b[0m\u001b[0;32m      4\u001b[0m \u001b[1;33m\u001b[0m\u001b[0m\n\u001b[0;32m      5\u001b[0m \u001b[1;33m\u001b[0m\u001b[0m\n",
      "\u001b[1;31mModuleNotFoundError\u001b[0m: No module named 'mdutils'"
     ]
    }
   ],
   "metadata": {}
  },
  {
   "cell_type": "markdown",
   "source": [
    "#### 1. Import the numpy package under the name `np` (★☆☆)"
   ],
   "metadata": {}
  },
  {
   "cell_type": "code",
   "execution_count": 1,
   "source": [
    "import numpy as np\r\n",
    "import pprint"
   ],
   "outputs": [],
   "metadata": {}
  },
  {
   "cell_type": "markdown",
   "source": [
    "#### 2. Print the numpy version and the configuration (★☆☆)"
   ],
   "metadata": {}
  },
  {
   "cell_type": "code",
   "execution_count": 3,
   "source": [
    "print(np.__version__)\r\n",
    "print(np.show_config())"
   ],
   "outputs": [
    {
     "output_type": "stream",
     "name": "stdout",
     "text": [
      "1.21.2\n",
      "blas_mkl_info:\n",
      "  NOT AVAILABLE\n",
      "blis_info:\n",
      "  NOT AVAILABLE\n",
      "openblas_info:\n",
      "    library_dirs = ['D:\\\\a\\\\1\\\\s\\\\numpy\\\\build\\\\openblas_info']\n",
      "    libraries = ['openblas_info']\n",
      "    language = f77\n",
      "    define_macros = [('HAVE_CBLAS', None)]\n",
      "blas_opt_info:\n",
      "    library_dirs = ['D:\\\\a\\\\1\\\\s\\\\numpy\\\\build\\\\openblas_info']\n",
      "    libraries = ['openblas_info']\n",
      "    language = f77\n",
      "    define_macros = [('HAVE_CBLAS', None)]\n",
      "lapack_mkl_info:\n",
      "  NOT AVAILABLE\n",
      "openblas_lapack_info:\n",
      "    library_dirs = ['D:\\\\a\\\\1\\\\s\\\\numpy\\\\build\\\\openblas_lapack_info']\n",
      "    libraries = ['openblas_lapack_info']\n",
      "    language = f77\n",
      "    define_macros = [('HAVE_CBLAS', None)]\n",
      "lapack_opt_info:\n",
      "    library_dirs = ['D:\\\\a\\\\1\\\\s\\\\numpy\\\\build\\\\openblas_lapack_info']\n",
      "    libraries = ['openblas_lapack_info']\n",
      "    language = f77\n",
      "    define_macros = [('HAVE_CBLAS', None)]\n",
      "Supported SIMD extensions in this NumPy install:\n",
      "    baseline = SSE,SSE2,SSE3\n",
      "    found = SSSE3,SSE41,POPCNT,SSE42,AVX,F16C,FMA3,AVX2\n",
      "    not found = AVX512F,AVX512CD,AVX512_SKX,AVX512_CLX,AVX512_CNL\n",
      "None\n"
     ]
    }
   ],
   "metadata": {}
  },
  {
   "cell_type": "markdown",
   "source": [
    "#### 3. Create a null vector of size 10 (★☆☆)"
   ],
   "metadata": {}
  },
  {
   "cell_type": "code",
   "execution_count": 4,
   "source": [
    "arr = np.array([0 for i in range(10)])"
   ],
   "outputs": [],
   "metadata": {}
  },
  {
   "cell_type": "markdown",
   "source": [
    "#### 4. How to find the memory size of any array (★☆☆)"
   ],
   "metadata": {}
  },
  {
   "cell_type": "code",
   "execution_count": 5,
   "source": [
    "a = np.array([[1 for i in range(10)]for j in range(10)]) #10x10 array\r\n",
    "print(f\"Memory size : {a.size*a.itemsize} Bytes\")"
   ],
   "outputs": [
    {
     "output_type": "stream",
     "name": "stdout",
     "text": [
      "Memory size : 400 Bytes\n"
     ]
    }
   ],
   "metadata": {}
  },
  {
   "cell_type": "markdown",
   "source": [
    "#### 5. How to get the documentation of the numpy add function from the command line? (★☆☆)"
   ],
   "metadata": {}
  },
  {
   "cell_type": "code",
   "execution_count": 32,
   "source": [
    "#python -c \"import numpy; numpy.info(numpy.add)\""
   ],
   "outputs": [],
   "metadata": {}
  },
  {
   "cell_type": "markdown",
   "source": [
    "#### 6. Create a null vector of size 10 but the fifth value which is 1 (★☆☆)"
   ],
   "metadata": {}
  },
  {
   "cell_type": "code",
   "execution_count": 6,
   "source": [
    "arr = np.array([0 for i in range(10)])\r\n",
    "arr[4] = 1\r\n",
    "arr "
   ],
   "outputs": [
    {
     "output_type": "execute_result",
     "data": {
      "text/plain": [
       "array([0, 0, 0, 0, 1, 0, 0, 0, 0, 0])"
      ]
     },
     "metadata": {},
     "execution_count": 6
    }
   ],
   "metadata": {}
  },
  {
   "cell_type": "markdown",
   "source": [
    "#### 7. Create a vector with values ranging from 10 to 49 (★☆☆)"
   ],
   "metadata": {}
  },
  {
   "cell_type": "code",
   "execution_count": 7,
   "source": [
    "arr = np.array([i for i in range(10,50)])\r\n",
    "arr"
   ],
   "outputs": [
    {
     "output_type": "execute_result",
     "data": {
      "text/plain": [
       "array([10, 11, 12, 13, 14, 15, 16, 17, 18, 19, 20, 21, 22, 23, 24, 25, 26,\n",
       "       27, 28, 29, 30, 31, 32, 33, 34, 35, 36, 37, 38, 39, 40, 41, 42, 43,\n",
       "       44, 45, 46, 47, 48, 49])"
      ]
     },
     "metadata": {},
     "execution_count": 7
    }
   ],
   "metadata": {}
  },
  {
   "cell_type": "markdown",
   "source": [
    "#### 8. Reverse a vector (first element becomes last) (★☆☆)"
   ],
   "metadata": {}
  },
  {
   "cell_type": "code",
   "execution_count": 8,
   "source": [
    "arr = np.array([i for i in range(11)])\r\n",
    "revarr = []\r\n",
    "k = 10\r\n",
    "for j in range(11):\r\n",
    "    revarr.append(arr[k])\r\n",
    "    k = k-1\r\n",
    "\r\n",
    "revarr\r\n",
    "    \r\n"
   ],
   "outputs": [
    {
     "output_type": "execute_result",
     "data": {
      "text/plain": [
       "[10, 9, 8, 7, 6, 5, 4, 3, 2, 1, 0]"
      ]
     },
     "metadata": {},
     "execution_count": 8
    }
   ],
   "metadata": {}
  },
  {
   "cell_type": "markdown",
   "source": [
    "#### 9. Create a 3x3 matrix with values ranging from 0 to 8 (★☆☆)"
   ],
   "metadata": {}
  },
  {
   "cell_type": "code",
   "execution_count": 9,
   "source": [
    "mat = np.array([[0 for i in range(3)]for j in range(3)])\r\n",
    "k = 0\r\n",
    "for i in range(3):\r\n",
    "    for j in range(3):\r\n",
    "        mat[i][j] = int(k)\r\n",
    "        k = k+1\r\n",
    "        \r\n",
    "mat\r\n",
    "\r\n",
    "#I know about reshape also "
   ],
   "outputs": [
    {
     "output_type": "execute_result",
     "data": {
      "text/plain": [
       "array([[0, 1, 2],\n",
       "       [3, 4, 5],\n",
       "       [6, 7, 8]])"
      ]
     },
     "metadata": {},
     "execution_count": 9
    }
   ],
   "metadata": {}
  },
  {
   "cell_type": "markdown",
   "source": [
    "#### 10. Find indices of non-zero elements from [1,2,0,0,4,0] (★☆☆)"
   ],
   "metadata": {}
  },
  {
   "cell_type": "code",
   "execution_count": 10,
   "source": [
    "non = np.nonzero([1,2,0,0,4,0])\r\n",
    "non\r\n",
    "\r\n",
    "# or\r\n",
    "\r\n",
    "# a = [1,2,0,0,4,0]\r\n",
    "# non = []\r\n",
    "# for i in range(len(a)):\r\n",
    "#     if a[i] != 0:\r\n",
    "#         non.append(i)\r\n",
    "\r\n",
    "# non\r\n",
    "\r\n",
    "\r\n",
    "\r\n",
    "\r\n"
   ],
   "outputs": [
    {
     "output_type": "execute_result",
     "data": {
      "text/plain": [
       "(array([0, 1, 4], dtype=int64),)"
      ]
     },
     "metadata": {},
     "execution_count": 10
    }
   ],
   "metadata": {}
  },
  {
   "cell_type": "markdown",
   "source": [
    "#### 11. Create a 3x3 identity matrix (★☆☆)"
   ],
   "metadata": {}
  },
  {
   "cell_type": "code",
   "execution_count": 11,
   "source": [
    "iden = np.array([[1 for i in range(3)]for j in range(3)])\r\n",
    "iden"
   ],
   "outputs": [
    {
     "output_type": "execute_result",
     "data": {
      "text/plain": [
       "array([[1, 1, 1],\n",
       "       [1, 1, 1],\n",
       "       [1, 1, 1]])"
      ]
     },
     "metadata": {},
     "execution_count": 11
    }
   ],
   "metadata": {}
  },
  {
   "cell_type": "markdown",
   "source": [
    "#### 12. Create a 3x3x3 array with random values (★☆☆)"
   ],
   "metadata": {}
  },
  {
   "cell_type": "code",
   "execution_count": 23,
   "source": [
    "ran = np.array([[[np.random.random() for i in range(3)]for j in range(3)]for k in range(3)])\r\n",
    "pprint.pprint(ran)"
   ],
   "outputs": [
    {
     "output_type": "stream",
     "name": "stdout",
     "text": [
      "array([[[0.38841892, 0.7479131 , 0.9635775 ],\n",
      "        [0.43662683, 0.95055364, 0.94099774],\n",
      "        [0.93718803, 0.91749122, 0.70279886]],\n",
      "\n",
      "       [[0.15149722, 0.39042227, 0.20657002],\n",
      "        [0.90047236, 0.95331877, 0.54104028],\n",
      "        [0.16136765, 0.5621458 , 0.43911328]],\n",
      "\n",
      "       [[0.66302418, 0.15635726, 0.50607305],\n",
      "        [0.21974641, 0.99223269, 0.68316287],\n",
      "        [0.85565972, 0.36118751, 0.92687754]]])\n"
     ]
    }
   ],
   "metadata": {}
  },
  {
   "cell_type": "markdown",
   "source": [
    "#### 13. Create a 10x10 array with random values and find the minimum and maximum values (★☆☆)"
   ],
   "metadata": {}
  },
  {
   "cell_type": "code",
   "execution_count": 18,
   "source": [
    "arr = np.array([[np.random.random() for i in range(10)]for j in range(10)])\r\n",
    "print(arr)\r\n",
    "print(\"Min : \",arr.min())\r\n",
    "print(\"Max : \",arr.max())"
   ],
   "outputs": [
    {
     "output_type": "stream",
     "name": "stdout",
     "text": [
      "[[0.86257899 0.10964556 0.74036022 0.32051221 0.78342687 0.01389204\n",
      "  0.84465411 0.39198246 0.40899981 0.56244682]\n",
      " [0.61353398 0.63866525 0.04098821 0.70767645 0.02872386 0.39534201\n",
      "  0.03427659 0.52887027 0.91400238 0.68191974]\n",
      " [0.43767935 0.37335107 0.88353677 0.74127069 0.41252754 0.65519112\n",
      "  0.40202989 0.0533005  0.96005678 0.39364299]\n",
      " [0.56647212 0.14266231 0.78158004 0.46208417 0.89696747 0.53848729\n",
      "  0.04345392 0.9272129  0.2094092  0.98767133]\n",
      " [0.61747185 0.03162674 0.05898578 0.71323215 0.05678576 0.4538249\n",
      "  0.86985629 0.49351424 0.50062728 0.2672439 ]\n",
      " [0.81663689 0.86322741 0.55027704 0.60382636 0.00802846 0.83967896\n",
      "  0.21166085 0.41947622 0.01754752 0.4860527 ]\n",
      " [0.41841793 0.85033667 0.90283854 0.16095868 0.45672626 0.57967677\n",
      "  0.83834328 0.58295493 0.16849613 0.18115044]\n",
      " [0.40864117 0.42691298 0.94491986 0.02449836 0.31264816 0.28597131\n",
      "  0.70268555 0.80413487 0.66897343 0.00849317]\n",
      " [0.28582277 0.74540094 0.65555755 0.4285848  0.94405412 0.99566942\n",
      "  0.65622122 0.96573456 0.41207954 0.44746205]\n",
      " [0.51321417 0.38544677 0.29090627 0.65389375 0.13097758 0.20542094\n",
      "  0.08660964 0.89184649 0.14719174 0.55950778]]\n",
      "Min :  0.008028458671973326\n",
      "Max :  0.9956694197402662\n"
     ]
    }
   ],
   "metadata": {}
  },
  {
   "cell_type": "markdown",
   "source": [
    "#### 14. Create a random vector of size 30 and find the mean value (★☆☆)"
   ],
   "metadata": {}
  },
  {
   "cell_type": "code",
   "execution_count": 21,
   "source": [
    "vector = np.random.random(30)\r\n",
    "print(vector)\r\n",
    "print(\"Mean : \",vector.mean())"
   ],
   "outputs": [
    {
     "output_type": "stream",
     "name": "stdout",
     "text": [
      "[0.52966931 0.79368628 0.63834168 0.56848283 0.85768879 0.84865161\n",
      " 0.0480259  0.98690605 0.90673456 0.17668807 0.62354836 0.41785505\n",
      " 0.02792564 0.92465626 0.09456263 0.67251897 0.21052968 0.09181879\n",
      " 0.53206796 0.09285741 0.34001856 0.21231112 0.08497234 0.56791948\n",
      " 0.11374753 0.57304351 0.78809403 0.65469092 0.81471466 0.69102932]\n",
      "Mean :  0.4961252437825292\n"
     ]
    }
   ],
   "metadata": {}
  },
  {
   "cell_type": "markdown",
   "source": [
    "#### 15. Create a 2d array with 1 on the border and 0 inside (★☆☆)"
   ],
   "metadata": {}
  },
  {
   "cell_type": "code",
   "execution_count": 26,
   "source": [
    "arr = np.array([[0 for i in range(5)]for j in range(5)])\r\n",
    "for i in range(5):\r\n",
    "    for j in range(5):\r\n",
    "        if i==0 or i==4:\r\n",
    "            arr[i][j] = 1\r\n",
    "        else:\r\n",
    "            if j==0 or j==4:\r\n",
    "                arr[i][j] = 1\r\n",
    "\r\n",
    "arr\r\n",
    "\r\n",
    "            "
   ],
   "outputs": [
    {
     "output_type": "execute_result",
     "data": {
      "text/plain": [
       "array([[1, 1, 1, 1, 1],\n",
       "       [1, 0, 0, 0, 1],\n",
       "       [1, 0, 0, 0, 1],\n",
       "       [1, 0, 0, 0, 1],\n",
       "       [1, 1, 1, 1, 1]])"
      ]
     },
     "metadata": {},
     "execution_count": 26
    }
   ],
   "metadata": {}
  },
  {
   "cell_type": "markdown",
   "source": [
    "#### 16. How to add a border (filled with 0's) around an existing array? (★☆☆)"
   ],
   "metadata": {}
  },
  {
   "cell_type": "code",
   "execution_count": 30,
   "source": [
    "arr = np.array([[1 for i in range(5)]for j in range(5)])\r\n",
    "arrpad = np.pad(Z, pad_width=0, mode='constant', constant_values=0)\r\n",
    "print(arrpad)\r\n",
    "\r\n"
   ],
   "outputs": [
    {
     "output_type": "stream",
     "name": "stdout",
     "text": [
      "[[0. 0. 0. 0. 0. 0. 0.]\n",
      " [0. 1. 1. 1. 1. 1. 0.]\n",
      " [0. 1. 1. 1. 1. 1. 0.]\n",
      " [0. 1. 1. 1. 1. 1. 0.]\n",
      " [0. 1. 1. 1. 1. 1. 0.]\n",
      " [0. 1. 1. 1. 1. 1. 0.]\n",
      " [0. 0. 0. 0. 0. 0. 0.]]\n"
     ]
    }
   ],
   "metadata": {}
  },
  {
   "cell_type": "markdown",
   "source": [
    "#### 17. What is the result of the following expression? (★☆☆)\n",
    "```python\n",
    "0 * np.nan\n",
    "np.nan == np.nan\n",
    "np.inf > np.nan\n",
    "np.nan - np.nan\n",
    "np.nan in set([np.nan])\n",
    "0.3 == 3 * 0.1\n",
    "```"
   ],
   "metadata": {}
  },
  {
   "cell_type": "code",
   "execution_count": 38,
   "source": [
    "#nan\r\n",
    "#false\r\n",
    "#false\r\n",
    "#nan\r\n",
    "#true\r\n",
    "#false\r\n",
    "\r\n"
   ],
   "outputs": [],
   "metadata": {}
  },
  {
   "cell_type": "markdown",
   "source": [
    "#### 18. Create a 5x5 matrix with values 1,2,3,4 just below the diagonal (★☆☆)"
   ],
   "metadata": {}
  },
  {
   "cell_type": "code",
   "execution_count": 40,
   "source": [
    "arr = np.array([[0 for i in range(5)]for j in range(5)])\r\n",
    "k=1\r\n",
    "for row in range(5):\r\n",
    "    for col in range(5):\r\n",
    "        if row==col+1:\r\n",
    "            arr[row][col] = k\r\n",
    "            k = k + 1\r\n",
    "\r\n",
    "arr\r\n"
   ],
   "outputs": [
    {
     "output_type": "execute_result",
     "data": {
      "text/plain": [
       "array([[0, 0, 0, 0, 0],\n",
       "       [1, 0, 0, 0, 0],\n",
       "       [0, 2, 0, 0, 0],\n",
       "       [0, 0, 3, 0, 0],\n",
       "       [0, 0, 0, 4, 0]])"
      ]
     },
     "metadata": {},
     "execution_count": 40
    }
   ],
   "metadata": {}
  },
  {
   "cell_type": "markdown",
   "source": [
    "#### 19. Create a 8x8 matrix and fill it with a checkerboard pattern (★☆☆)"
   ],
   "metadata": {}
  },
  {
   "cell_type": "code",
   "execution_count": 47,
   "source": [
    "arr = np.array([[0 for i in range(8)]for j in range(8)])\r\n",
    "arr[1::2][::2] = 1      #[1::2] for every odd index and [::2] for every even index\r\n",
    "arr[::2][1::2] = 1\r\n",
    "print(arr)"
   ],
   "outputs": [
    {
     "output_type": "stream",
     "name": "stdout",
     "text": [
      "[[0 0 0 0 0 0 0 0]\n",
      " [1 1 1 1 1 1 1 1]\n",
      " [1 1 1 1 1 1 1 1]\n",
      " [0 0 0 0 0 0 0 0]\n",
      " [0 0 0 0 0 0 0 0]\n",
      " [1 1 1 1 1 1 1 1]\n",
      " [1 1 1 1 1 1 1 1]\n",
      " [0 0 0 0 0 0 0 0]]\n"
     ]
    }
   ],
   "metadata": {}
  },
  {
   "cell_type": "markdown",
   "source": [
    "#### 20. Consider a (6,7,8) shape array, what is the index (x,y,z) of the 100th element? (★☆☆)"
   ],
   "metadata": {}
  },
  {
   "cell_type": "code",
   "execution_count": 63,
   "source": [
    "arr = np.array([[[1 for i in range(8)]for j in range(7)]for k in range(6)])\r\n",
    "print(arr.shape)\r\n",
    "k = 0\r\n",
    "for i in range(6):\r\n",
    "    for j in range(7):\r\n",
    "        for l in range(8):\r\n",
    "            k = k+1\r\n",
    "            if k == 100:\r\n",
    "                print((i,j,l))       \r\n",
    "\r\n"
   ],
   "outputs": [
    {
     "output_type": "stream",
     "name": "stdout",
     "text": [
      "(6, 7, 8)\n",
      "(1, 5, 3)\n"
     ]
    }
   ],
   "metadata": {}
  },
  {
   "cell_type": "markdown",
   "source": [
    "#### 21. Create a checkerboard 8x8 matrix using the tile function (★☆☆)"
   ],
   "metadata": {}
  },
  {
   "cell_type": "code",
   "execution_count": 72,
   "source": [
    "#tile function just copies the array and merge it with the original array. np.tile(array,repetitions)\r\n",
    "arr = np.array([[0,1],[1,0],[0,1],[1,0],[0,1],[1,0],[0,1],[1,0]])\r\n",
    "arrr = np.tile(arr,4)\r\n",
    "arrr"
   ],
   "outputs": [
    {
     "output_type": "execute_result",
     "data": {
      "text/plain": [
       "array([[0, 1, 0, 1, 0, 1, 0, 1],\n",
       "       [1, 0, 1, 0, 1, 0, 1, 0],\n",
       "       [0, 1, 0, 1, 0, 1, 0, 1],\n",
       "       [1, 0, 1, 0, 1, 0, 1, 0],\n",
       "       [0, 1, 0, 1, 0, 1, 0, 1],\n",
       "       [1, 0, 1, 0, 1, 0, 1, 0],\n",
       "       [0, 1, 0, 1, 0, 1, 0, 1],\n",
       "       [1, 0, 1, 0, 1, 0, 1, 0]])"
      ]
     },
     "metadata": {},
     "execution_count": 72
    }
   ],
   "metadata": {}
  },
  {
   "cell_type": "markdown",
   "source": [
    "#### 22. Normalize a 5x5 random matrix (★☆☆)"
   ],
   "metadata": {}
  },
  {
   "cell_type": "code",
   "execution_count": 78,
   "source": [
    "# #Normalising is X - mean of X/ standard dev of X. Where X is a list of elements\r\n",
    "arr = np.array([[np.random.random() for i in range(5)]for j in range(5)])\r\n",
    "print(arr)\r\n",
    "normarr = (arr - np.mean(arr))/(np.std(arr))\r\n",
    "print(normarr)\r\n",
    "\r\n"
   ],
   "outputs": [
    {
     "output_type": "stream",
     "name": "stdout",
     "text": [
      "[[0.35174762 0.01915196 0.29683788 0.29729262 0.4764674 ]\n",
      " [0.46842333 0.46907649 0.37039418 0.39730273 0.21150076]\n",
      " [0.1632986  0.69041706 0.38570542 0.62194025 0.42193529]\n",
      " [0.67808584 0.59436837 0.78133246 0.70022315 0.77329778]\n",
      " [0.22830583 0.159694   0.92389814 0.32620377 0.87482275]]\n",
      "[[-0.49167824 -1.90726149 -0.72538335 -0.72344789  0.03915019]\n",
      " [ 0.00491323  0.00769322 -0.41231533 -0.29778802 -1.08859253]\n",
      " [-1.29374905  0.949756   -0.34714814  0.65830713 -0.19294769]\n",
      " [ 0.89727224  0.54095657  1.33670727  0.99149235  1.30251031]\n",
      " [-1.01706734 -1.30909086  1.94349085 -0.60039716  1.73461771]]\n"
     ]
    }
   ],
   "metadata": {}
  },
  {
   "cell_type": "markdown",
   "source": [
    "#### 23. Create a custom dtype that describes a color as four unsigned bytes (RGBA) (★☆☆)"
   ],
   "metadata": {}
  },
  {
   "cell_type": "code",
   "execution_count": 81,
   "source": [
    "color = np.dtype([(\"r\", np.ubyte),\r\n",
    "                  (\"g\", np.ubyte),\r\n",
    "                  (\"b\", np.ubyte),\r\n",
    "                  (\"a\", np.ubyte)])\r\n",
    "type(color)"
   ],
   "outputs": [
    {
     "output_type": "execute_result",
     "data": {
      "text/plain": [
       "numpy.dtype[void]"
      ]
     },
     "metadata": {},
     "execution_count": 81
    }
   ],
   "metadata": {}
  },
  {
   "cell_type": "markdown",
   "source": [
    "#### 24. Multiply a 5x3 matrix by a 3x2 matrix (real matrix product) (★☆☆)"
   ],
   "metadata": {}
  },
  {
   "cell_type": "code",
   "execution_count": 90,
   "source": [
    "mat1 = np.array([[1 for i in range(3)]for j in range(5)])\r\n",
    "print(mat1)\r\n",
    "mat2 = np.array([[1 for i in range(2)]for j in range(3)])\r\n",
    "print(mat2)\r\n",
    "multi = np.dot(mat1,mat2)\r\n",
    "print(multi)\r\n"
   ],
   "outputs": [
    {
     "output_type": "stream",
     "name": "stdout",
     "text": [
      "[[1 1 1]\n",
      " [1 1 1]\n",
      " [1 1 1]\n",
      " [1 1 1]\n",
      " [1 1 1]]\n",
      "[[1 1]\n",
      " [1 1]\n",
      " [1 1]]\n",
      "[[3 3]\n",
      " [3 3]\n",
      " [3 3]\n",
      " [3 3]\n",
      " [3 3]]\n"
     ]
    }
   ],
   "metadata": {}
  },
  {
   "cell_type": "markdown",
   "source": [
    "#### 25. Given a 1D array, negate all elements which are between 3 and 8, in place. (★☆☆)"
   ],
   "metadata": {}
  },
  {
   "cell_type": "code",
   "execution_count": 96,
   "source": [
    "arr = np.array([1 for i in range(10)])\r\n",
    "print(arr)\r\n",
    "for i in range(len(arr)):\r\n",
    "    if i >= 3 and i < 7:\r\n",
    "        arr[i] = -1*arr[i]\r\n",
    "\r\n",
    "print(arr)\r\n",
    "    \r\n"
   ],
   "outputs": [
    {
     "output_type": "stream",
     "name": "stdout",
     "text": [
      "[1 1 1 1 1 1 1 1 1 1]\n",
      "[ 1  1  1 -1 -1 -1 -1  1  1  1]\n"
     ]
    }
   ],
   "metadata": {}
  },
  {
   "cell_type": "markdown",
   "source": [
    "#### 26. What is the output of the following script? (★☆☆)\n",
    "```python\n",
    "# Author: Jake VanderPlas\n",
    "\n",
    "print(sum(range(5),-1))\n",
    "from numpy import *\n",
    "print(sum(range(5),-1))\n",
    "```"
   ],
   "metadata": {}
  },
  {
   "cell_type": "code",
   "execution_count": 111,
   "source": [
    "print(sum(range(5),-1))\r\n",
    "from numpy import *\r\n",
    "print(sum(range(5),-1))"
   ],
   "outputs": [
    {
     "output_type": "stream",
     "name": "stdout",
     "text": [
      "10\n",
      "10\n"
     ]
    }
   ],
   "metadata": {}
  },
  {
   "cell_type": "markdown",
   "source": [
    "#### 27. Consider an integer vector Z, which of these expressions are legal? (★☆☆)\n",
    "```python\n",
    "Z**Z\n",
    "2 << Z >> 2\n",
    "Z <- Z\n",
    "1j*Z\n",
    "Z/1/1\n",
    "Z<Z>Z\n",
    "```"
   ],
   "metadata": {}
  },
  {
   "cell_type": "code",
   "execution_count": 121,
   "source": [
    "Z = np.array([1 for i in range(4)])\r\n",
    "print(Z)\r\n",
    "print(Z**Z)     #Legal\r\n",
    "print(2 << Z >> 2) #legal\r\n",
    "print(Z<-Z)         #Illegal\r\n",
    "print(1j*Z)         #Legal\r\n",
    "print(Z/1/1)        #Legal\r\n",
    "# print(Z<Z>Z)  #Illegal"
   ],
   "outputs": [
    {
     "output_type": "stream",
     "name": "stdout",
     "text": [
      "[1 1 1 1]\n",
      "[1 1 1 1]\n",
      "[1 1 1 1]\n",
      "[False False False False]\n",
      "[0.+1.j 0.+1.j 0.+1.j 0.+1.j]\n",
      "[1. 1. 1. 1.]\n"
     ]
    }
   ],
   "metadata": {}
  },
  {
   "cell_type": "markdown",
   "source": [
    "#### 28. What are the result of the following expressions? (★☆☆)\n",
    "```python\n",
    "np.array(0) / np.array(0)\n",
    "np.array(0) // np.array(0)\n",
    "np.array([np.nan]).astype(int).astype(float)\n",
    "```"
   ],
   "metadata": {}
  },
  {
   "cell_type": "code",
   "execution_count": 128,
   "source": [
    "#0/0 Not a number - nan\r\n",
    "#0\r\n",
    "np.array([np.nan]).astype(int).astype(float) #Astype cast a datatype into other. nan casted to integer. that furthur got casted into float"
   ],
   "outputs": [
    {
     "output_type": "execute_result",
     "data": {
      "text/plain": [
       "array([-2.14748365e+09])"
      ]
     },
     "metadata": {},
     "execution_count": 128
    }
   ],
   "metadata": {}
  },
  {
   "cell_type": "markdown",
   "source": [
    "#### 29. How to round away from zero a float array ? (★☆☆)"
   ],
   "metadata": {}
  },
  {
   "cell_type": "code",
   "execution_count": 132,
   "source": [
    "arr = np.random.uniform(-5,+5,10)\r\n",
    "print(np.copysign(np.ceil(np.abs(arr)), arr))"
   ],
   "outputs": [
    {
     "output_type": "stream",
     "name": "stdout",
     "text": [
      "[-1. -2.  4.  5.  4. -2. -3.  2. -4. -5.]\n"
     ]
    }
   ],
   "metadata": {}
  },
  {
   "cell_type": "markdown",
   "source": [
    "#### 30. How to find common values between two arrays? (★☆☆)"
   ],
   "metadata": {}
  },
  {
   "cell_type": "code",
   "execution_count": 139,
   "source": [
    "arr1 = np.random.randint(1,10,10)\r\n",
    "arr2 = np.random.randint(1,10,10)\r\n",
    "common = np.intersect1d(arr1,arr2)\r\n",
    "print(common)"
   ],
   "outputs": [
    {
     "output_type": "stream",
     "name": "stdout",
     "text": [
      "[1 4 6]\n"
     ]
    }
   ],
   "metadata": {}
  },
  {
   "cell_type": "markdown",
   "source": [
    "#### 31. How to ignore all numpy warnings (not recommended)? (★☆☆)"
   ],
   "metadata": {}
  },
  {
   "cell_type": "code",
   "execution_count": 145,
   "source": [
    "# Suicide mode on\r\n",
    "defaults = np.seterr(all=\"ignore\")      #setarr is used to ignore the numpy warnings\r\n",
    "arr = np.array([1]) / 0\r\n",
    "arr\r\n",
    "\r\n"
   ],
   "outputs": [
    {
     "output_type": "execute_result",
     "data": {
      "text/plain": [
       "array([inf])"
      ]
     },
     "metadata": {},
     "execution_count": 145
    }
   ],
   "metadata": {}
  },
  {
   "cell_type": "markdown",
   "source": [
    "#### 32. Is the following expressions true? (★☆☆)\n",
    "```python\n",
    "np.sqrt(-1) == np.emath.sqrt(-1)\n",
    "```"
   ],
   "metadata": {}
  },
  {
   "cell_type": "code",
   "execution_count": 148,
   "source": [
    "#Nope. \r\n"
   ],
   "outputs": [
    {
     "output_type": "execute_result",
     "data": {
      "text/plain": [
       "1j"
      ]
     },
     "metadata": {},
     "execution_count": 148
    }
   ],
   "metadata": {}
  },
  {
   "cell_type": "markdown",
   "source": [
    "#### 33. How to get the dates of yesterday, today and tomorrow? (★☆☆)"
   ],
   "metadata": {}
  },
  {
   "cell_type": "code",
   "execution_count": 155,
   "source": [
    "print(f\"Yesterday : {np.datetime64('today') - 1}\")\r\n",
    "print(f\"Today : {np.datetime64('today')}\")\r\n",
    "print(f\"Tomorrow : {np.datetime64('today') +1 }\")"
   ],
   "outputs": [
    {
     "output_type": "stream",
     "name": "stdout",
     "text": [
      "Yesterday : 2021-09-08\n",
      "Today : 2021-09-09\n",
      "Tomorrow : 2021-09-10\n"
     ]
    }
   ],
   "metadata": {}
  },
  {
   "cell_type": "markdown",
   "source": [
    "#### 34. How to get all the dates corresponding to the month of July 2016? (★★☆)"
   ],
   "metadata": {}
  },
  {
   "cell_type": "code",
   "execution_count": 165,
   "source": [
    "Z = np.arange('2016-07', '2016-08', dtype='datetime64[D]')\r\n",
    "print(Z)"
   ],
   "outputs": [
    {
     "output_type": "stream",
     "name": "stdout",
     "text": [
      "['2016-07-01' '2016-07-02' '2016-07-03' '2016-07-04' '2016-07-05'\n",
      " '2016-07-06' '2016-07-07' '2016-07-08' '2016-07-09' '2016-07-10'\n",
      " '2016-07-11' '2016-07-12' '2016-07-13' '2016-07-14' '2016-07-15'\n",
      " '2016-07-16' '2016-07-17' '2016-07-18' '2016-07-19' '2016-07-20'\n",
      " '2016-07-21' '2016-07-22' '2016-07-23' '2016-07-24' '2016-07-25'\n",
      " '2016-07-26' '2016-07-27' '2016-07-28' '2016-07-29' '2016-07-30'\n",
      " '2016-07-31']\n"
     ]
    }
   ],
   "metadata": {}
  },
  {
   "cell_type": "markdown",
   "source": [
    "#### 35. How to compute ((A+B)*(-A/2)) in place (without copy)? (★★☆)"
   ],
   "metadata": {}
  },
  {
   "cell_type": "code",
   "execution_count": 182,
   "source": [
    "A = np.array([1.0 for i in range(3)])\r\n",
    "B = np.array([1.0 for i in range(3)])\r\n",
    "np.add(A,B,out=B)\r\n",
    "np.divide(A,2,out=A)\r\n",
    "np.negative(A,out=A)\r\n",
    "np.multiply(A,B,out=A)\r\n",
    "\r\n",
    "\r\n"
   ],
   "outputs": [
    {
     "output_type": "execute_result",
     "data": {
      "text/plain": [
       "array([-1., -1., -1.])"
      ]
     },
     "metadata": {},
     "execution_count": 182
    }
   ],
   "metadata": {}
  },
  {
   "cell_type": "markdown",
   "source": [
    "#### 36. Extract the integer part of a random array of positive numbers using 4 different methods (★★☆)"
   ],
   "metadata": {}
  },
  {
   "cell_type": "code",
   "execution_count": 189,
   "source": [
    "arr = np.random.uniform(0,10,10)\r\n",
    "print(np.floor(arr))\r\n",
    "print(arr - arr%1)\r\n",
    "print(arr // 1)\r\n",
    "print(arr.astype(int))"
   ],
   "outputs": [
    {
     "output_type": "stream",
     "name": "stdout",
     "text": [
      "[8. 7. 8. 2. 4. 5. 9. 0. 9. 3.]\n",
      "[8. 7. 8. 2. 4. 5. 9. 0. 9. 3.]\n",
      "[8. 7. 8. 2. 4. 5. 9. 0. 9. 3.]\n",
      "[8 7 8 2 4 5 9 0 9 3]\n"
     ]
    }
   ],
   "metadata": {}
  },
  {
   "cell_type": "markdown",
   "source": [
    "#### 37. Create a 5x5 matrix with row values ranging from 0 to 4 (★★☆)"
   ],
   "metadata": {}
  },
  {
   "cell_type": "code",
   "execution_count": 193,
   "source": [
    "mat = np.array([[i for i in range(5)]for j in range(5)])\r\n",
    "mat"
   ],
   "outputs": [
    {
     "output_type": "execute_result",
     "data": {
      "text/plain": [
       "array([[0, 1, 2, 3, 4],\n",
       "       [0, 1, 2, 3, 4],\n",
       "       [0, 1, 2, 3, 4],\n",
       "       [0, 1, 2, 3, 4],\n",
       "       [0, 1, 2, 3, 4]])"
      ]
     },
     "metadata": {},
     "execution_count": 193
    }
   ],
   "metadata": {}
  },
  {
   "cell_type": "markdown",
   "source": [
    "#### 38. Consider a generator function that generates 10 integers and use it to build an array (★☆☆)"
   ],
   "metadata": {}
  },
  {
   "cell_type": "code",
   "execution_count": 197,
   "source": [
    "def generate():\r\n",
    "    arr = []\r\n",
    "    for i in range(10):\r\n",
    "        arr.append(i)\r\n",
    "    return arr\r\n",
    "\r\n",
    "arr = generate()\r\n",
    "print(arr)\r\n"
   ],
   "outputs": [
    {
     "output_type": "stream",
     "name": "stdout",
     "text": [
      "[0, 1, 2, 3, 4, 5, 6, 7, 8, 9]\n"
     ]
    }
   ],
   "metadata": {}
  },
  {
   "cell_type": "markdown",
   "source": [
    "#### 39. Create a vector of size 10 with values ranging from 0 to 1, both excluded (★★☆)"
   ],
   "metadata": {}
  },
  {
   "cell_type": "code",
   "execution_count": 211,
   "source": [
    "vec = np.linspace(0,1,12)[1:11]\r\n",
    "print(vec)"
   ],
   "outputs": [
    {
     "output_type": "stream",
     "name": "stdout",
     "text": [
      "[0.09090909 0.18181818 0.27272727 0.36363636 0.45454545 0.54545455\n",
      " 0.63636364 0.72727273 0.81818182 0.90909091]\n"
     ]
    }
   ],
   "metadata": {}
  },
  {
   "cell_type": "markdown",
   "source": [
    "#### 40. Create a random vector of size 10 and sort it (★★☆)"
   ],
   "metadata": {}
  },
  {
   "cell_type": "code",
   "execution_count": 222,
   "source": [
    "vec = np.random.randint(1,10,10)\r\n",
    "vec.sort()\r\n",
    "vec"
   ],
   "outputs": [
    {
     "output_type": "execute_result",
     "data": {
      "text/plain": [
       "array([2, 5, 5, 6, 7, 8, 9, 9, 9, 9])"
      ]
     },
     "metadata": {},
     "execution_count": 222
    }
   ],
   "metadata": {}
  },
  {
   "cell_type": "markdown",
   "source": [
    "#### 41. How to sum a small array faster than np.sum? (★★☆)"
   ],
   "metadata": {}
  },
  {
   "cell_type": "code",
   "execution_count": 233,
   "source": [
    "arr = np.array([i for i in range(10)])\r\n",
    "arr\r\n",
    "np.add.reduce(arr)"
   ],
   "outputs": [
    {
     "output_type": "execute_result",
     "data": {
      "text/plain": [
       "45"
      ]
     },
     "metadata": {},
     "execution_count": 233
    }
   ],
   "metadata": {}
  },
  {
   "cell_type": "markdown",
   "source": [
    "#### 42. Consider two random array A and B, check if they are equal (★★☆)"
   ],
   "metadata": {}
  },
  {
   "cell_type": "code",
   "execution_count": 236,
   "source": [
    "A = np.random.randint(1,10,10)\r\n",
    "B = np.random.randint(1,10,10)\r\n",
    "print(A==B)"
   ],
   "outputs": [
    {
     "output_type": "stream",
     "name": "stdout",
     "text": [
      "[ True False False False False False False False False False]\n"
     ]
    }
   ],
   "metadata": {}
  },
  {
   "cell_type": "markdown",
   "source": [
    "#### 43. Make an array immutable (read-only) (★★☆)"
   ],
   "metadata": {}
  },
  {
   "cell_type": "code",
   "execution_count": 245,
   "source": [
    "arr = np.array([i for i in range(10)])\r\n",
    "print(arr)\r\n",
    "arr[4] = 100\r\n",
    "print(arr)\r\n",
    "arr.flags.writeable = False\r\n",
    "# arr[4] = 200              This give read only error now"
   ],
   "outputs": [
    {
     "output_type": "stream",
     "name": "stdout",
     "text": [
      "[0 1 2 3 4 5 6 7 8 9]\n",
      "[  0   1   2   3 100   5   6   7   8   9]\n"
     ]
    }
   ],
   "metadata": {}
  },
  {
   "cell_type": "markdown",
   "source": [
    "#### 44. Consider a random 10x2 matrix representing cartesian coordinates, convert them to polar coordinates (★★☆)"
   ],
   "metadata": {}
  },
  {
   "cell_type": "code",
   "execution_count": 251,
   "source": [
    "arr = np.array([[np.random.random() for i in range(2)]for j in range(10)])\r\n",
    "X,Y = arr[:,0], arr[:,1]            #X = 0th colomn of the arr array and Y = 1th colomn of the arr array\r\n",
    "Z = np.sqrt(X**2+Y**2)\r\n",
    "A = np.arctan2(Y,X)\r\n",
    "print(Z)\r\n",
    "print(A)\r\n",
    "\r\n"
   ],
   "outputs": [
    {
     "output_type": "stream",
     "name": "stdout",
     "text": [
      "[0.91194946 0.96060574 1.0150074  0.42472456 0.74110539 1.07525702\n",
      " 0.73936502 0.98616919 1.01211058 0.81749899]\n",
      "[0.92842879 0.30472152 0.38321181 0.42620723 1.34125574 0.8417142\n",
      " 0.05079268 0.2415731  0.16406027 1.5465653 ]\n"
     ]
    }
   ],
   "metadata": {}
  },
  {
   "cell_type": "markdown",
   "source": [
    "#### 45. Create random vector of size 10 and replace the maximum value by 0 (★★☆)"
   ],
   "metadata": {}
  },
  {
   "cell_type": "code",
   "execution_count": 259,
   "source": [
    "vec = np.array(np.random.randint(1,11,10))\r\n",
    "print(vec)\r\n",
    "print(f\"Max : {np.max(vec)}\")\r\n",
    "\r\n",
    "vec[vec.argmax()] = 0           #argmax return the indice of the max element\r\n",
    "print(vec)\r\n"
   ],
   "outputs": [
    {
     "output_type": "stream",
     "name": "stdout",
     "text": [
      "[ 8  2  2  3  6  8 10  8 10  7]\n",
      "Max : 10\n",
      "[ 8  2  2  3  6  8  0  8 10  7]\n"
     ]
    }
   ],
   "metadata": {}
  },
  {
   "cell_type": "markdown",
   "source": [
    "#### 46. Create a structured array with `x` and `y` coordinates covering the [0,1]x[0,1] area (★★☆)"
   ],
   "metadata": {}
  },
  {
   "cell_type": "code",
   "execution_count": 264,
   "source": [
    "Z = np.zeros((5,5), [('x',float),('y',float)])\r\n",
    "Z['x'], Z['y'] = np.meshgrid(np.linspace(0,1,5),np.linspace(0,1,5))             #Copied didnt knew the systax. Learnt now\r\n",
    "print(Z)"
   ],
   "outputs": [
    {
     "output_type": "stream",
     "name": "stdout",
     "text": [
      "[[(0.  , 0.  ) (0.25, 0.  ) (0.5 , 0.  ) (0.75, 0.  ) (1.  , 0.  )]\n",
      " [(0.  , 0.25) (0.25, 0.25) (0.5 , 0.25) (0.75, 0.25) (1.  , 0.25)]\n",
      " [(0.  , 0.5 ) (0.25, 0.5 ) (0.5 , 0.5 ) (0.75, 0.5 ) (1.  , 0.5 )]\n",
      " [(0.  , 0.75) (0.25, 0.75) (0.5 , 0.75) (0.75, 0.75) (1.  , 0.75)]\n",
      " [(0.  , 1.  ) (0.25, 1.  ) (0.5 , 1.  ) (0.75, 1.  ) (1.  , 1.  )]]\n"
     ]
    }
   ],
   "metadata": {}
  },
  {
   "cell_type": "markdown",
   "source": [
    "#### 47. Given two arrays, X and Y, construct the Cauchy matrix C (Cij =1/(xi - yj)) (★★☆)"
   ],
   "metadata": {}
  },
  {
   "cell_type": "code",
   "execution_count": 277,
   "source": [
    "X = np.array([np.random.random() for i in range(10)])\r\n",
    "print(X)\r\n",
    "Y = np.array([np.random.random() for i in range(10,20)])\r\n",
    "print(Y)\r\n",
    "C = np.array([[1.0 for i in range(10)]for j in range(10)])\r\n",
    "print(C)\r\n",
    "for i in range(10):\r\n",
    "    for j in range(10):\r\n",
    "        C[i][j] = 1/(X[i] - Y[j])\r\n",
    "\r\n",
    "print(C)"
   ],
   "outputs": [
    {
     "output_type": "stream",
     "name": "stdout",
     "text": [
      "[0.79857758 0.81725877 0.94916129 0.04947498 0.88563095 0.20424365\n",
      " 0.59903161 0.33464357 0.48105161 0.62161878]\n",
      "[0.00199527 0.02051206 0.32625418 0.0645511  0.30044533 0.27431594\n",
      " 0.58890831 0.30235966 0.30456888 0.28407872]\n",
      "[[1. 1. 1. 1. 1. 1. 1. 1. 1. 1.]\n",
      " [1. 1. 1. 1. 1. 1. 1. 1. 1. 1.]\n",
      " [1. 1. 1. 1. 1. 1. 1. 1. 1. 1.]\n",
      " [1. 1. 1. 1. 1. 1. 1. 1. 1. 1.]\n",
      " [1. 1. 1. 1. 1. 1. 1. 1. 1. 1.]\n",
      " [1. 1. 1. 1. 1. 1. 1. 1. 1. 1.]\n",
      " [1. 1. 1. 1. 1. 1. 1. 1. 1. 1.]\n",
      " [1. 1. 1. 1. 1. 1. 1. 1. 1. 1.]\n",
      " [1. 1. 1. 1. 1. 1. 1. 1. 1. 1.]\n",
      " [1. 1. 1. 1. 1. 1. 1. 1. 1. 1.]]\n",
      "[[  1.25536305   1.2852388    2.11719344   1.36234866   2.007499\n",
      "    1.90744452   4.76941618   2.01524363   2.02425583   1.94363889]\n",
      " [  1.2265973    1.25510402   2.03664086   1.32853701   1.93493419\n",
      "    1.84181454   4.37923364   1.94212805   1.95049681   1.87553903]\n",
      " [  1.05578112   1.07683285   1.60537581   1.13044141   1.5415067\n",
      "    1.48182098   2.77582716   1.54606908   1.55136793   1.5035727 ]\n",
      " [ 21.06163134  34.52690668  -3.61298815 -66.33006459  -3.98453439\n",
      "   -4.44758814  -1.85379718  -3.9543715   -3.9201251   -4.26250661]\n",
      " [  1.13168812   1.15591049   1.78770385   1.21790834   1.70885948\n",
      "    1.63581784   3.3701507    1.71446807   1.72098653   1.66236604]\n",
      " [  4.94441552   5.44272218  -8.19601342   7.15857782 -10.39482873\n",
      "  -14.27097611  -2.5996669  -10.19201595  -9.96758253 -12.52582348]\n",
      " [  1.67493993   1.72855005   3.66599253   1.8709756    3.3491157\n",
      "    3.07961732  98.78206368   3.37072654   3.39601549   3.17507801]\n",
      " [  3.00617803   3.18338009 119.19824994   3.70243564  29.2412702\n",
      "   16.57615248  -3.9329086   30.97518619  33.25054722  19.77658333]\n",
      " [  2.08743717   2.17136617   6.46005588   2.40095744   5.53690607\n",
      "    4.83709468  -9.27156068   5.59622319   5.66627678   5.0768408 ]\n",
      " [  1.61388326   1.6635981    3.38564616   1.79511401   3.11358241\n",
      "    2.87933149  30.57125723   3.132252     3.15407763   2.96261132]]\n"
     ]
    }
   ],
   "metadata": {}
  },
  {
   "cell_type": "markdown",
   "source": [
    "#### 48. Print the minimum and maximum representable value for each numpy scalar type (★★☆)"
   ],
   "metadata": {}
  },
  {
   "cell_type": "code",
   "execution_count": 278,
   "source": [
    "for dtype in [np.int8, np.int32, np.int64]:\r\n",
    "   print(np.iinfo(dtype).min)\r\n",
    "   print(np.iinfo(dtype).max)\r\n",
    "for dtype in [np.float32, np.float64]:\r\n",
    "   print(np.finfo(dtype).min)\r\n",
    "   print(np.finfo(dtype).max)\r\n",
    "   print(np.finfo(dtype).eps)"
   ],
   "outputs": [
    {
     "output_type": "stream",
     "name": "stdout",
     "text": [
      "-128\n",
      "127\n",
      "-2147483648\n",
      "2147483647\n",
      "-9223372036854775808\n",
      "9223372036854775807\n",
      "-3.4028235e+38\n",
      "3.4028235e+38\n",
      "1.1920929e-07\n",
      "-1.7976931348623157e+308\n",
      "1.7976931348623157e+308\n",
      "2.220446049250313e-16\n"
     ]
    }
   ],
   "metadata": {}
  },
  {
   "cell_type": "markdown",
   "source": [
    "#### 49. How to print all the values of an array? (★★☆)"
   ],
   "metadata": {}
  },
  {
   "cell_type": "code",
   "execution_count": 282,
   "source": [
    "arr = np.array([[1 for i in range(5)]for j in range(5)])\r\n",
    "print(arr)\r\n",
    "for i in range(5):\r\n",
    "    for j in range(5):\r\n",
    "        print(arr[i][j])"
   ],
   "outputs": [
    {
     "output_type": "stream",
     "name": "stdout",
     "text": [
      "[[1 1 1 1 1]\n",
      " [1 1 1 1 1]\n",
      " [1 1 1 1 1]\n",
      " [1 1 1 1 1]\n",
      " [1 1 1 1 1]]\n",
      "1\n",
      "1\n",
      "1\n",
      "1\n",
      "1\n",
      "1\n",
      "1\n",
      "1\n",
      "1\n",
      "1\n",
      "1\n",
      "1\n",
      "1\n",
      "1\n",
      "1\n",
      "1\n",
      "1\n",
      "1\n",
      "1\n",
      "1\n",
      "1\n",
      "1\n",
      "1\n",
      "1\n",
      "1\n"
     ]
    }
   ],
   "metadata": {}
  },
  {
   "cell_type": "markdown",
   "source": [
    "#### 50. How to find the closest value (to a given scalar) in a vector? (★★☆)"
   ],
   "metadata": {}
  },
  {
   "cell_type": "code",
   "execution_count": 290,
   "source": [
    "arr = np.random.randint(0,10,100)\r\n",
    "print(arr)\r\n",
    "scaler = np.random.uniform(0,100)\r\n",
    "print(scaler)\r\n",
    "index = (np.abs(arr-scaler)).argmin()\r\n",
    "print(arr[index])"
   ],
   "outputs": [
    {
     "output_type": "stream",
     "name": "stdout",
     "text": [
      "[1 1 7 2 2 7 3 4 3 7 8 6 3 9 9 0 1 0 6 6 4 2 2 1 1 8 1 2 4 6 5 4 2 5 4 2 1\n",
      " 6 5 0 6 4 0 6 7 9 3 9 0 0 2 9 9 1 1 2 9 7 2 5 3 9 9 9 1 9 6 5 3 5 9 4 3 0\n",
      " 2 4 3 5 5 1 0 2 6 1 2 0 7 7 6 8 9 4 8 7 9 8 9 4 0 8]\n",
      "65.78625487690107\n",
      "9\n"
     ]
    }
   ],
   "metadata": {}
  },
  {
   "cell_type": "markdown",
   "source": [
    "#### 51. Create a structured array representing a position (x,y) and a color (r,g,b) (★★☆)"
   ],
   "metadata": {}
  },
  {
   "cell_type": "code",
   "execution_count": 296,
   "source": [
    "arr = np.zeros(10,[('position',[('x', float, 1),('y', float, 1)]),('color',[('r', float, 1),('g', float, 1),('b', float, 1)])])\r\n",
    "print(arr)"
   ],
   "outputs": [
    {
     "output_type": "stream",
     "name": "stdout",
     "text": [
      "[((0., 0.), (0., 0., 0.)) ((0., 0.), (0., 0., 0.))\n",
      " ((0., 0.), (0., 0., 0.)) ((0., 0.), (0., 0., 0.))\n",
      " ((0., 0.), (0., 0., 0.)) ((0., 0.), (0., 0., 0.))\n",
      " ((0., 0.), (0., 0., 0.)) ((0., 0.), (0., 0., 0.))\n",
      " ((0., 0.), (0., 0., 0.)) ((0., 0.), (0., 0., 0.))]\n"
     ]
    },
    {
     "output_type": "stream",
     "name": "stderr",
     "text": [
      "<ipython-input-296-aec57ba3dd36>:1: FutureWarning: Passing (type, 1) or '1type' as a synonym of type is deprecated; in a future version of numpy, it will be understood as (type, (1,)) / '(1,)type'.\n",
      "  arr = np.zeros(10, [('position',[('x', float, 1),('y', float, 1)]),('color',[('r', float, 1),('g', float, 1),('b', float, 1)])])\n"
     ]
    }
   ],
   "metadata": {}
  },
  {
   "cell_type": "markdown",
   "source": [
    "#### 52. Consider a random vector with shape (100,2) representing coordinates, find point by point distances (★★☆)"
   ],
   "metadata": {}
  },
  {
   "cell_type": "code",
   "execution_count": 319,
   "source": [
    "arr = np.random.random((100,2))\r\n",
    "print(arr)\r\n",
    "X,Y = np.atleast_2d(arr[:,0], arr[:,1])\r\n",
    "D = np.sqrt((X-X.T)**2 + (Y-Y.T)**2)\r\n",
    "print(D)\r\n",
    "\r\n",
    "\r\n",
    "\r\n",
    "\r\n",
    "# Z = np.random.random((100,2))\r\n",
    "# X,Y = np.atleast_2d(Z[:,0], Z[:,1])\r\n",
    "# D = np.sqrt( (X-X.T)**2 + (Y-Y.T)**2)\r\n",
    "# print(D)\r\n"
   ],
   "outputs": [
    {
     "output_type": "stream",
     "name": "stdout",
     "text": [
      "[[0.5628117  0.40307668]\n",
      " [0.15910467 0.80405241]\n",
      " [0.06521555 0.74678281]\n",
      " [0.06080445 0.27699485]\n",
      " [0.44096108 0.18816863]\n",
      " [0.92361524 0.49248076]\n",
      " [0.56902696 0.1106676 ]\n",
      " [0.00193973 0.91870202]\n",
      " [0.9787227  0.16748342]\n",
      " [0.20589346 0.62669642]\n",
      " [0.36795035 0.76084549]\n",
      " [0.58881097 0.96822799]\n",
      " [0.51673021 0.37430863]\n",
      " [0.29187216 0.46781008]\n",
      " [0.78581281 0.71940878]\n",
      " [0.10904338 0.95773304]\n",
      " [0.53751632 0.6796523 ]\n",
      " [0.8445325  0.07450367]\n",
      " [0.76817375 0.79293111]\n",
      " [0.32441141 0.61745136]\n",
      " [0.2324263  0.07677492]\n",
      " [0.38142413 0.87186526]\n",
      " [0.88662583 0.28282514]\n",
      " [0.89787838 0.74054231]\n",
      " [0.78800689 0.03114274]\n",
      " [0.91866038 0.03404384]\n",
      " [0.06274953 0.90871197]\n",
      " [0.28682567 0.02206831]\n",
      " [0.08321617 0.1643462 ]\n",
      " [0.1360385  0.61192211]\n",
      " [0.97026159 0.06885927]\n",
      " [0.55256961 0.72717584]\n",
      " [0.86102581 0.08954684]\n",
      " [0.78974271 0.62973289]\n",
      " [0.43761603 0.17230219]\n",
      " [0.27960494 0.05720105]\n",
      " [0.22254027 0.91322189]\n",
      " [0.15056575 0.7161271 ]\n",
      " [0.88662166 0.60017247]\n",
      " [0.54635206 0.30050614]\n",
      " [0.53076202 0.47589987]\n",
      " [0.79730315 0.25081229]\n",
      " [0.18211947 0.15818393]\n",
      " [0.63527508 0.19611215]\n",
      " [0.27960443 0.39980596]\n",
      " [0.75012873 0.5378764 ]\n",
      " [0.69507743 0.58810951]\n",
      " [0.18845917 0.67116119]\n",
      " [0.0058408  0.50036141]\n",
      " [0.87642516 0.38355234]\n",
      " [0.5782175  0.95808586]\n",
      " [0.48844182 0.19225481]\n",
      " [0.48535951 0.51926794]\n",
      " [0.58010774 0.53494787]\n",
      " [0.01099301 0.54790058]\n",
      " [0.87582395 0.29299828]\n",
      " [0.79712073 0.7164665 ]\n",
      " [0.6623883  0.20484056]\n",
      " [0.35014064 0.32496138]\n",
      " [0.07153022 0.21969179]\n",
      " [0.73955566 0.17405101]\n",
      " [0.08296191 0.2561137 ]\n",
      " [0.5291623  0.06407796]\n",
      " [0.7010461  0.99347635]\n",
      " [0.33579087 0.03282606]\n",
      " [0.05083641 0.47713942]\n",
      " [0.93290448 0.60027102]\n",
      " [0.1111911  0.95129721]\n",
      " [0.15873544 0.78234803]\n",
      " [0.70836437 0.82192351]\n",
      " [0.26343466 0.25832546]\n",
      " [0.19600977 0.68446496]\n",
      " [0.38585004 0.17110197]\n",
      " [0.97050087 0.68881365]\n",
      " [0.33268284 0.02361742]\n",
      " [0.95688378 0.87348681]\n",
      " [0.05300322 0.95888237]\n",
      " [0.70160675 0.72374362]\n",
      " [0.34887865 0.54813613]\n",
      " [0.19718872 0.74375817]\n",
      " [0.62046749 0.0336852 ]\n",
      " [0.98684214 0.08576759]\n",
      " [0.1651931  0.07688284]\n",
      " [0.27474084 0.79980931]\n",
      " [0.7492945  0.02275454]\n",
      " [0.69250059 0.89603931]\n",
      " [0.79858085 0.9662878 ]\n",
      " [0.51883127 0.8214192 ]\n",
      " [0.6082546  0.90722515]\n",
      " [0.60325895 0.85678674]\n",
      " [0.70421756 0.57771384]\n",
      " [0.57775489 0.32043318]\n",
      " [0.45169012 0.47785499]\n",
      " [0.86149765 0.80010341]\n",
      " [0.87613163 0.53656809]\n",
      " [0.67391785 0.39331156]\n",
      " [0.9241986  0.75003343]\n",
      " [0.91782955 0.43438781]\n",
      " [0.79199734 0.43933693]\n",
      " [0.4217043  0.2603705 ]]\n",
      "[[0.         0.56899991 0.60476098 0.51759822 0.24704867 0.37171532\n",
      "  0.29247512 0.76187063 0.47800224 0.42118454 0.4073935  0.56574903\n",
      "  0.05432407 0.27856534 0.38703422 0.71662359 0.27772996 0.4328127\n",
      "  0.44063596 0.32061067 0.46435693 0.50265712 0.34542152 0.47555518\n",
      "  0.4347962  0.51265341 0.71114642 0.47046325 0.53572765 0.47513344\n",
      "  0.52698832 0.32426096 0.43270385 0.32073466 0.2625468  0.44703023\n",
      "  0.61321512 0.51763626 0.37907735 0.1038828  0.0795638  0.27959021\n",
      "  0.45265774 0.21928351 0.28322615 0.23077832 0.22744532 0.46044448\n",
      "  0.56540331 0.31422062 0.55522295 0.22355478 0.13963972 0.13300061\n",
      "  0.57050664 0.33180404 0.39129771 0.22184016 0.22656342 0.52439252\n",
      "  0.28929429 0.50185051 0.34066466 0.60636665 0.43430863 0.51730454\n",
      "  0.41934982 0.7102865  0.55418804 0.44341656 0.33253501 0.46230187\n",
      "  0.29176651 0.49785145 0.44378895 0.61365992 0.75420465 0.34941573\n",
      "  0.25847552 0.49974398 0.37386396 0.52961011 0.51429853 0.49028726\n",
      "  0.42358088 0.50973656 0.61056847 0.420648   0.50619239 0.45550938\n",
      "  0.22470815 0.08398361 0.13393955 0.49683349 0.34057207 0.11153445\n",
      "  0.50097852 0.35639593 0.23203633 0.20068969]\n",
      " [0.56899991 0.         0.10997716 0.53614607 0.67731519 0.82556241\n",
      "  0.80549288 0.19453882 1.03778311 0.18342393 0.21326827 0.46000122\n",
      "  0.55908474 0.36150534 0.63239832 0.1616288  0.39833499 1.00102581\n",
      "  0.6091706  0.24929154 0.73096417 0.23243176 0.89496643 0.74149857\n",
      "  0.99644737 1.08159053 0.14226011 0.79234576 0.64419182 0.19350995\n",
      "  1.09475316 0.40090481 1.00160447 0.65428711 0.69041793 0.75650993\n",
      "  0.12626183 0.08833897 0.75554484 0.63523176 0.4957956  0.84461348\n",
      "  0.64627841 0.77222381 0.42182388 0.64819681 0.5778392  0.13609469\n",
      "  0.34017354 0.83148601 0.44652196 0.6948088  0.43306398 0.49966072\n",
      "  0.29588989 0.88026294 0.64399983 0.78252748 0.51577413 0.5908863\n",
      "  0.85663593 0.5532039  0.82734808 0.57409227 0.79120674 0.34437497\n",
      "  0.8001831  0.15484425 0.02170752 0.54955036 0.55561016 0.12515249\n",
      "  0.67233899 0.81953875 0.79950495 0.800795   0.18769612 0.54841408\n",
      "  0.31860211 0.07131473 0.89795395 1.09593905 0.72719506 0.11571399\n",
      "  0.979158   0.54126962 0.65973487 0.36014556 0.46084734 0.44727389\n",
      "  0.59023488 0.63965269 0.4381906  0.70240408 0.7652944  0.6585899\n",
      "  0.76699854 0.84398777 0.73045911 0.60377859]\n",
      " [0.60476098 0.10997716 0.         0.46980867 0.67322694 0.89527625\n",
      "  0.81146072 0.183194   1.0817038  0.18496221 0.30306125 0.56849814\n",
      "  0.58532257 0.35944263 0.72111702 0.21545505 0.47704772 1.02922018\n",
      "  0.70447136 0.28967071 0.69055776 0.34004925 0.94338305 0.83268622\n",
      "  1.01713718 1.11191948 0.16194794 0.75784046 0.58271471 0.15232629\n",
      "  1.13079117 0.48774831 1.03212069 0.73392118 0.68462406 0.72213976\n",
      "  0.22902628 0.09068864 0.83438756 0.65624326 0.53861961 0.88427316\n",
      "  0.60009597 0.7925945  0.40786705 0.71606421 0.64954077 0.14459468\n",
      "  0.2534736  0.88881798 0.55481527 0.69758282 0.47779072 0.55676567\n",
      "  0.20614128 0.92898137 0.73253279 0.80642216 0.50903402 0.52712885\n",
      "  0.88473516 0.49098994 0.82542868 0.6820104  0.76350852 0.27002652\n",
      "  0.87997147 0.20961844 0.10005426 0.64752339 0.52714458 0.14488149\n",
      "  0.65894985 0.90713943 0.77104277 0.90062541 0.21245084 0.63680811\n",
      "  0.34630227 0.13200783 0.90377704 1.13416785 0.67731933 0.21613112\n",
      "  0.9960828  0.64479767 0.76551101 0.45971493 0.56624478 0.54917353\n",
      "  0.66099009 0.66668627 0.47083412 0.79806533 0.83772019 0.7038895\n",
      "  0.85898921 0.90804255 0.78913544 0.60305984]\n",
      " [0.51759822 0.53614607 0.46980867 0.         0.39039617 0.88931245\n",
      "  0.53474749 0.64440139 0.92442775 0.37860535 0.57310562 0.86982421\n",
      "  0.46619554 0.29967106 0.84933339 0.68244522 0.62400901 0.80946423\n",
      "  0.87553501 0.43058015 0.26370833 0.67577199 0.82584197 0.95685371\n",
      "  0.76763706 0.8915952  0.63172012 0.34069508 0.11485645 0.34327312\n",
      "  0.93296983 0.66670526 0.82188259 0.80979943 0.39108506 0.3101338\n",
      "  0.65646274 0.44821226 0.88680203 0.48611652 0.51031689 0.73696395\n",
      "  0.16980392 0.58013664 0.25091035 0.73703945 0.70646624 0.41432213\n",
      "  0.23002962 0.82255191 0.85533691 0.43595252 0.48881822 0.57984107\n",
      "  0.27544708 0.81517661 0.85749461 0.60589552 0.29328522 0.05829822\n",
      "  0.6865134  0.03044628 0.51448293 0.96086165 0.36774438 0.20039264\n",
      "  0.93008921 0.67618229 0.51475462 0.84633392 0.20348845 0.42931617\n",
      "  0.34185953 0.99857013 0.37164228 1.07645754 0.68193214 0.78116071\n",
      "  0.3956063  0.48628044 0.61026413 0.94557584 0.22570291 0.56489268\n",
      "  0.73393234 0.88445241 1.00967262 0.71146781 0.83480052 0.79398711\n",
      "  0.71021993 0.51877225 0.43947287 0.95642677 0.85564986 0.62404938\n",
      "  0.98448716 0.87135789 0.74899799 0.36128254]\n",
      " [0.24704867 0.67731519 0.67322694 0.39039617 0.         0.57057945\n",
      "  0.14969061 0.85230205 0.5381593  0.49755744 0.57731218 0.79394723\n",
      "  0.2009703  0.31690195 0.6333552  0.83809233 0.50087834 0.41927272\n",
      "  0.68760874 0.44482298 0.2364219  0.686284   0.45560611 0.71686128\n",
      "  0.38091721 0.50194728 0.81377312 0.22659886 0.35853721 0.52205823\n",
      "  0.54258063 0.55044095 0.43148654 0.56269674 0.01621522 0.20781798\n",
      "  0.75723833 0.60255257 0.6069271  0.15403563 0.3014191  0.36180644\n",
      "  0.26057256 0.19447629 0.26613216 0.46677634 0.47384367 0.54501287\n",
      "  0.53553151 0.47728791 0.78205618 0.04765624 0.33406282 0.37365443\n",
      "  0.56060648 0.44731976 0.63714075 0.22205397 0.16419686 0.37077334\n",
      "  0.29892814 0.36438982 0.15224306 0.84626517 0.18759555 0.48549086\n",
      "  0.64174503 0.83133235 0.65779972 0.68785882 0.19088639 0.55345388\n",
      "  0.05769314 0.72873714 0.19698041 0.85780956 0.86285049 0.59563138\n",
      "  0.37155858 0.60671633 0.23682838 0.55540265 0.29737604 0.6338245\n",
      "  0.34990186 0.75123433 0.85636519 0.63802042 0.73826107 0.68803399\n",
      "  0.47015895 0.19027994 0.28988498 0.74250601 0.55745456 0.31040695\n",
      "  0.74108741 0.53668186 0.4316387  0.07472572]\n",
      " [0.37171532 0.82556241 0.89527625 0.88931245 0.57057945 0.\n",
      "  0.52107018 1.01545571 0.32963632 0.73016326 0.61707624 0.58174679\n",
      "  0.42369809 0.63222461 0.26549168 0.93807622 0.42907523 0.42539268\n",
      "  0.33827868 0.61209711 0.80656896 0.66174299 0.21289362 0.2493931\n",
      "  0.4808559  0.45846369 0.95621033 0.79169996 0.90218783 0.7965823\n",
      "  0.42618194 0.43904059 0.40776609 0.19172898 0.58198758 0.77731441\n",
      "  0.81763635 0.8047504  0.11386847 0.42329866 0.39320297 0.27268736\n",
      "  0.81336974 0.41349051 0.6506447  0.17932745 0.24773854 0.75655874\n",
      "  0.91780827 0.11871101 0.57973072 0.52868849 0.43907361 0.34612261\n",
      "  0.91430339 0.20512744 0.25723621 0.38855681 0.59744109 0.89468581\n",
      "  0.36779808 0.87325105 0.58234189 0.54820945 0.74620368 0.87291364\n",
      "  0.10818978 0.93303029 0.81796341 0.39352949 0.70047634 0.75250757\n",
      "  0.62647884 0.20185357 0.75434338 0.38245576 0.98767188 0.32057804\n",
      "  0.57742503 0.76865846 0.54990174 0.4115984  0.86482702 0.7179755\n",
      "  0.50102938 0.46505212 0.49002726 0.52158466 0.52102327 0.48512575\n",
      "  0.23537208 0.38628973 0.4721517  0.31383162 0.06479495 0.26866953\n",
      "  0.25755333 0.05838035 0.14194203 0.5529826 ]\n",
      " [0.29247512 0.80549288 0.81146072 0.53474749 0.14969061 0.52107018\n",
      "  0.         0.98717149 0.41361653 0.63099261 0.68056086 0.85778857\n",
      "  0.26877787 0.45206806 0.64619031 0.9639008  0.56985657 0.27786891\n",
      "  0.71073408 0.56273132 0.3383027  0.78397493 0.36125789 0.71055288\n",
      "  0.23297299 0.35793118 0.94508817 0.29578269 0.48876735 0.66237081\n",
      "  0.40340694 0.61672786 0.29276171 0.56404274 0.14514701 0.29431918\n",
      "  0.87415468 0.7359966  0.58350784 0.19118792 0.36723128 0.26786293\n",
      "  0.38981432 0.10811838 0.40910437 0.46400992 0.49380107 0.67748424\n",
      "  0.68486489 0.41104711 0.84746809 0.11467535 0.4170785  0.42442494\n",
      "  0.70892494 0.35688776 0.64731682 0.13260802 0.3063218  0.50930274\n",
      "  0.18192717 0.50735963 0.06131709 0.89262552 0.24588286 0.63468341\n",
      "  0.61001504 0.95722088 0.78707924 0.72477574 0.33939578 0.68438675\n",
      "  0.19288882 0.70387083 0.2518656  0.85576051 0.99284882 0.62724764\n",
      "  0.4897387  0.73421206 0.09258736 0.41855649 0.40524462 0.74934679\n",
      "  0.20056194 0.79501852 0.88587861 0.71252189 0.79752288 0.746904\n",
      "  0.48621876 0.20994707 0.38547959 0.74890642 0.52507571 0.30147919\n",
      "  0.73139289 0.47587605 0.39716409 0.21003553]\n",
      " [0.76187063 0.19453882 0.183194   0.64440139 0.85230205 1.01545571\n",
      "  0.98717149 0.         1.23224768 0.35618029 0.39860063 0.58895728\n",
      "  0.74924856 0.53606376 0.80881074 0.11399392 0.5865041  1.19274199\n",
      "  0.77648754 0.4412935  0.87290624 0.38236383 1.08949938 0.91348068\n",
      "  1.18560662 1.27396894 0.06162494 0.94080392 0.75872166 0.334808\n",
      "  1.28836327 0.58298846 1.19395445 0.83912853 0.86424912 0.90514192\n",
      "  0.2206686  0.25124946 0.94027826 0.82374203 0.68972948 1.03859505\n",
      "  0.78157054 0.96085888 0.58851577 0.83953257 0.76793964 0.3099451\n",
      "  0.4183588  1.02523653 0.57762198 0.87430535 0.62709032 0.69393479\n",
      "  0.37091195 1.07479245 0.820495   0.97251761 0.68831085 0.70246576\n",
      "  1.04813281 0.6675237  1.00416429 0.70309382 0.94669573 0.44426165\n",
      "  0.98391751 0.11401012 0.20779149 0.71302304 0.71026531 0.30418774\n",
      "  0.84041237 0.99546941 0.95423658 0.95601389 0.06497646 0.72632136\n",
      "  0.50762752 0.26215934 1.07973671 1.28988857 0.85750288 0.29758347\n",
      "  1.16673092 0.69093264 0.79806107 0.52596655 0.60642348 0.6044984\n",
      "  0.78068374 0.83035457 0.62977894 0.86770124 0.95406384 0.85298871\n",
      "  0.93755561 1.03605715 0.92411142 0.78077057]\n",
      " [0.47800224 1.03778311 1.0817038  0.92442775 0.5381593  0.32963632\n",
      "  0.41361653 1.23224768 0.         0.89896696 0.8515406  0.89063069\n",
      "  0.50617559 0.74963976 0.58466727 1.17509003 0.67600298 0.16325515\n",
      "  0.65993611 0.79409974 0.75178876 0.92353632 0.14759927 0.57873335\n",
      "  0.23443827 0.14633388 1.17831516 0.70701276 0.89551203 0.95270269\n",
      "  0.09898643 0.70346433 0.14116185 0.49938763 0.54112812 0.70776256\n",
      "  1.06204413 0.99340517 0.44238265 0.45237088 0.54386531 0.19964156\n",
      "  0.7966575  0.34463876 0.73670897 0.43525413 0.50732725 0.93712738\n",
      "  1.02825432 0.23906184 0.88625991 0.49090626 0.60593695 0.54214759\n",
      "  1.03981631 0.1623026  0.57824017 0.31853258 0.64800827 0.90869351\n",
      "  0.23925719 0.90013483 0.46129951 0.87141758 0.65688199 0.9781921\n",
      "  0.43520617 1.16917712 1.02490858 0.70808576 0.72103346 0.93803488\n",
      "  0.5928837  0.52139505 0.66186474 0.70634108 1.21789525 0.62146493\n",
      "  0.73593478 0.97102418 0.38242484 0.08211822 0.81855903 0.94626977\n",
      "  0.27126325 0.78276227 0.81886478 0.7994574  0.82732366 0.78492808\n",
      "  0.49360112 0.42914894 0.61163212 0.64338928 0.38307757 0.37934726\n",
      "  0.58509605 0.27376254 0.32980402 0.5647101 ]\n",
      " [0.42118454 0.18342393 0.18496221 0.37860535 0.49755744 0.73016326\n",
      "  0.63099261 0.35618029 0.89896696 0.         0.21037682 0.51309807\n",
      "  0.40039865 0.1806577  0.5872836  0.3449133  0.33582443 0.84426101\n",
      "  0.58633872 0.11887798 0.55056121 0.3015274  0.76265589 0.7012874\n",
      "  0.83279063 0.9269702  0.31626407 0.61002064 0.47834866 0.07140026\n",
      "  0.94627739 0.36094385 0.84718833 0.58385714 0.51006809 0.57424591\n",
      "  0.28700865 0.1051618  0.68124474 0.4714999  0.35816083 0.70075267\n",
      "  0.46911529 0.6080883  0.23856359 0.55143541 0.49070348 0.04776055\n",
      "  0.23660432 0.71325437 0.49844172 0.51824037 0.29940299 0.38529744\n",
      "  0.210226   0.74843924 0.59800364 0.62157051 0.33444174 0.42860967\n",
      "  0.69977368 0.39044042 0.6488777  0.61620098 0.60791064 0.21542977\n",
      "  0.72749111 0.33813342 0.16263857 0.53906459 0.37283797 0.05860795\n",
      "  0.48984759 0.76712648 0.61626279 0.79050107 0.36568146 0.50512357\n",
      "  0.16314559 0.11738495 0.72355645 0.94999202 0.55131796 0.18630093\n",
      "  0.81242259 0.55617631 0.68308172 0.36857432 0.49050061 0.45917413\n",
      "  0.50072567 0.48174484 0.28734955 0.67814956 0.67627088 0.52298692\n",
      "  0.72881705 0.7374521  0.61532213 0.42516937]\n",
      " [0.4073935  0.21326827 0.30306125 0.57310562 0.57731218 0.61707624\n",
      "  0.68056086 0.39860063 0.8515406  0.21037682 0.         0.30296355\n",
      "  0.41418135 0.30275013 0.41991193 0.32526532 0.18800253 0.83558102\n",
      "  0.40150747 0.14985832 0.69736598 0.11183439 0.70535644 0.53031682\n",
      "  0.84197007 0.91187837 0.33913425 0.74321796 0.66097274 0.27561074\n",
      "  0.91740054 0.18766437 0.83292574 0.44170047 0.5926521  0.70916882\n",
      "  0.21062446 0.22193648 0.54298779 0.49369979 0.32817929 0.6666916\n",
      "  0.63066162 0.62480897 0.37169146 0.44246528 0.36993222 0.20064984\n",
      "  0.44606646 0.63316407 0.28829852 0.5812173  0.26859751 0.309904\n",
      "  0.41564899 0.69051908 0.43145881 0.62915434 0.4362478  0.61701882\n",
      "  0.69456336 0.57963143 0.7151743  0.40628794 0.72872939 0.42550016\n",
      "  0.58733067 0.31968293 0.210317   0.34585001 0.51327372 0.18814236\n",
      "  0.59001509 0.60684076 0.73807116 0.59960874 0.37203535 0.33571288\n",
      "  0.21356264 0.17161443 0.76975775 0.91583689 0.71338307 0.1010257\n",
      "  0.83078373 0.35158246 0.47712594 0.16258605 0.28137721 0.25411584\n",
      "  0.38290056 0.48783291 0.29512026 0.49510617 0.55547147 0.47822306\n",
      "  0.55635332 0.63948553 0.53214998 0.50335345]\n",
      " [0.56574903 0.46000122 0.56849814 0.86982421 0.79394723 0.58174679\n",
      "  0.85778857 0.58895728 0.89063069 0.51309807 0.30296355 0.\n",
      "  0.59827739 0.58188551 0.31736529 0.47988237 0.29309908 0.92958952\n",
      "  0.25079873 0.43926231 0.96005136 0.22868117 0.74730901 0.38387945\n",
      "  0.95802285 0.99070715 0.52941742 0.9931834  0.94965891 0.57615692\n",
      "  0.97691794 0.24376131 0.91988124 0.39364006 0.81015911 0.96206989\n",
      "  0.37037805 0.50558257 0.47345124 0.66907042 0.4957385  0.74709724\n",
      "  0.90640463 0.77351263 0.64707982 0.4595932  0.39469307 0.49852808\n",
      "  0.74749807 0.65158847 0.01466576 0.78243744 0.46072479 0.43336753\n",
      "  0.71452693 0.73369722 0.32676721 0.76692502 0.68611622 0.90988231\n",
      "  0.808357   0.87349301 0.90611547 0.11504001 0.96901804 0.72841239\n",
      "  0.5037784  0.47791986 0.46852569 0.18893919 0.78091699 0.48457635\n",
      "  0.82255883 0.4730323  0.97871894 0.38007036 0.53588925 0.26924987\n",
      "  0.48378165 0.45139195 0.9350788  0.96807292 0.98688818 0.35637747\n",
      "  0.95899688 0.12634375 0.20977885 0.1626345  0.06402656 0.11237392\n",
      "  0.40721    0.64788915 0.50918347 0.32034965 0.51853971 0.58118163\n",
      "  0.40011714 0.62708737 0.56657785 0.72731483]\n",
      " [0.05432407 0.55908474 0.58532257 0.46619554 0.2009703  0.42369809\n",
      "  0.26877787 0.74924856 0.50617559 0.40039865 0.41418135 0.59827739\n",
      "  0.         0.24352344 0.43760662 0.71175318 0.30605035 0.4442267\n",
      "  0.4883325  0.31000791 0.41152768 0.51562615 0.38104068 0.52858399\n",
      "  0.43744013 0.5266194  0.70120282 0.4206297  0.48168314 0.4487609\n",
      "  0.5467998  0.35468258 0.44679832 0.37386812 0.21694621 0.39596164\n",
      "  0.61398308 0.50091544 0.43339838 0.07952523 0.10255569 0.30654938\n",
      "  0.39833935 0.2140254  0.23849266 0.28500751 0.27842152 0.44258707\n",
      "  0.52621032 0.3598137  0.58700642 0.18423851 0.14831494 0.17268953\n",
      "  0.53470018 0.36818431 0.44236958 0.22346299 0.17374475 0.47128484\n",
      "  0.29959021 0.44958312 0.31047967 0.64601935 0.3864575  0.47710712\n",
      "  0.47356099 0.70525016 0.54282263 0.48691141 0.27858703 0.44615978\n",
      "  0.24170761 0.55210616 0.39605273 0.66551785 0.74616967 0.3953279\n",
      "  0.24164053 0.48846671 0.35606986 0.55159873 0.4604785  0.48949942\n",
      "  0.42151681 0.55054348 0.65565167 0.4471155  0.54071872 0.49017583\n",
      "  0.27663185 0.08140378 0.12227863 0.54787387 0.39433172 0.15833213\n",
      "  0.55425591 0.4055739  0.28284389 0.14836382]\n",
      " [0.27856534 0.36150534 0.35944263 0.29967106 0.31690195 0.63222461\n",
      "  0.45206806 0.53606376 0.74963976 0.1806577  0.30275013 0.58188551\n",
      "  0.24352344 0.         0.55432776 0.5229253  0.32437352 0.67832396\n",
      "  0.57668612 0.15313822 0.39552789 0.41386005 0.62285741 0.66454978\n",
      "  0.66092968 0.76224447 0.49688194 0.44577034 0.3682766  0.21225552\n",
      "  0.78700315 0.36774143 0.68338786 0.52353995 0.32949384 0.41079224\n",
      "  0.45077555 0.28570762 0.60930023 0.30454988 0.23902679 0.55004412\n",
      "  0.32850268 0.43788735 0.06910179 0.4635821  0.42076887 0.22813575\n",
      "  0.28787763 0.59059425 0.56777107 0.33848241 0.20021305 0.2959514\n",
      "  0.29207462 0.60955628 0.56312177 0.45435138 0.15427562 0.33183318\n",
      "  0.53545766 0.29742033 0.46830144 0.66614438 0.43719556 0.24121623\n",
      "  0.65457492 0.51614479 0.34155455 0.5466828  0.21140601 0.23691546\n",
      "  0.31123551 0.71370827 0.44606349 0.77898271 0.5460864  0.48309876\n",
      "  0.0984988  0.29174013 0.5444624  0.79305721 0.41094001 0.33244093\n",
      "  0.63820814 0.58641573 0.71079795 0.42017835 0.54146417 0.49826155\n",
      "  0.42674063 0.32163471 0.16013332 0.65946346 0.58829141 0.38924149\n",
      "  0.69244981 0.62684903 0.50093504 0.24471936]\n",
      " [0.38703422 0.63239832 0.72111702 0.84933339 0.6333552  0.26549168\n",
      "  0.64619031 0.80881074 0.58466727 0.5872836  0.41991193 0.31736529\n",
      "  0.43760662 0.55432776 0.         0.71750632 0.25145919 0.64757286\n",
      "  0.07560866 0.47253208 0.84806539 0.43217263 0.44807202 0.11404086\n",
      "  0.68826954 0.69812146 0.74743308 0.85747997 0.8953974  0.65860462\n",
      "  0.67619229 0.23337249 0.63433671 0.08976195 0.64851107 0.83352594\n",
      "  0.59568404 0.63525554 0.15614007 0.48251515 0.3526294  0.46873734\n",
      "  0.82426875 0.54451902 0.59865924 0.18500637 0.15960077 0.59929892\n",
      "  0.81014695 0.34786512 0.31632667 0.60524442 0.36101045 0.27629767\n",
      "  0.79357469 0.4358072  0.01168444 0.52916354 0.58770655 0.871732\n",
      "  0.54731601 0.8418086  0.7037954  0.28687703 0.82092361 0.77387644\n",
      "  0.18928752 0.71336295 0.63022804 0.12848163 0.69676162 0.59083728\n",
      "  0.67868297 0.18720508 0.8303327  0.23022884 0.77094584 0.08431756\n",
      "  0.4693035  0.5891275  0.70537642 0.66476608 0.89331316 0.51735752\n",
      "  0.69761072 0.19976365 0.24720897 0.28580635 0.25846066 0.22847016\n",
      "  0.16350914 0.44996625 0.41229383 0.11063371 0.20393186 0.34476061\n",
      "  0.14173389 0.31411045 0.28014012 0.58591052]\n",
      " [0.71662359 0.1616288  0.21545505 0.68244522 0.83809233 0.93807622\n",
      "  0.9639008  0.11399392 1.17509003 0.3449133  0.32526532 0.47988237\n",
      "  0.71175318 0.5229253  0.71750632 0.         0.51080129 1.14936434\n",
      "  0.67942072 0.40270959 0.88955638 0.28559508 1.02962864 0.81818853\n",
      "  1.14872148 1.22828393 0.06742541 0.95240487 0.79380711 0.34686299\n",
      "  1.2376564  0.49987212 1.14857515 0.75560285 0.85138804 0.91654194\n",
      "  0.12191303 0.24514799 0.85584902 0.78942136 0.64032009 0.98662985\n",
      "  0.80288162 0.92573548 0.58341555 0.76633545 0.6928618  0.29737232\n",
      "  0.46887054 0.95841445 0.46917425 0.85434191 0.57781093 0.63296835\n",
      "  0.4213983  1.01480281 0.72915018 0.93436486 0.67714685 0.738994\n",
      "  1.00583461 0.70210395 0.9874813  0.59308077 0.95229583 0.48410565\n",
      "  0.89806804 0.00678473 0.18228879 0.61451597 0.71624551 0.28677273\n",
      "  0.83391268 0.9024559  0.96051372 0.85201571 0.05605194 0.637089\n",
      "  0.47464785 0.2314192  1.05613401 1.23727701 0.88263801 0.22890075\n",
      "  1.13318414 0.58670984 0.68959053 0.43186523 0.50175979 0.50441965\n",
      "  0.70614935 0.7911015  0.58965221 0.7687877  0.87510245 0.79853289\n",
      "  0.84119983 0.9633407  0.85741509 0.76424562]\n",
      " [0.27772996 0.39833499 0.47704772 0.62400901 0.50087834 0.42907523\n",
      "  0.56985657 0.5865041  0.67600298 0.33582443 0.18800253 0.29309908\n",
      "  0.30605035 0.32437352 0.25145919 0.51080129 0.         0.67857484\n",
      "  0.25697264 0.22199698 0.67567823 0.24760975 0.528535   0.36547012\n",
      "  0.69520514 0.74972067 0.52713551 0.7037489  0.6869709  0.40715086\n",
      "  0.74855634 0.04985066 0.67296571 0.25711884 0.51709206 0.6737684\n",
      "  0.39212838 0.38866587 0.35803852 0.3792491  0.20386436 0.50139102\n",
      "  0.63105958 0.49332327 0.38056868 0.25554734 0.182224   0.34916041\n",
      "  0.56109187 0.4500382  0.28139266 0.48986184 0.16865195 0.15084231\n",
      "  0.54275714 0.51376394 0.2622017  0.49095743 0.40114249 0.65475699\n",
      "  0.54447457 0.62129274 0.61563103 0.353875   0.67755247 0.52713262\n",
      "  0.40327804 0.50551375 0.39245557 0.22232893 0.50263015 0.34154046\n",
      "  0.53068456 0.43308146 0.68726889 0.46199662 0.55921586 0.1699109\n",
      "  0.22995798 0.34631264 0.65127137 0.74470984 0.70848826 0.28894404\n",
      "  0.69019176 0.26616435 0.38770426 0.14299295 0.23831346 0.188941\n",
      "  0.19539896 0.3614658  0.21929043 0.34564775 0.36760497 0.31716935\n",
      "  0.39303522 0.45254041 0.35001724 0.43498236]\n",
      " [0.4328127  1.00102581 1.02922018 0.80946423 0.41927272 0.42539268\n",
      "  0.27786891 1.19274199 0.16325515 0.84426101 0.83558102 0.92958952\n",
      "  0.4442267  0.67832396 0.64757286 1.14936434 0.67857484 0.\n",
      "  0.72247398 0.75187642 0.61211042 0.92209266 0.21253161 0.66817158\n",
      "  0.07124124 0.08445081 1.14327955 0.56016638 0.76659914 0.88925943\n",
      "  0.12585572 0.71499881 0.02232322 0.55792599 0.41850396 0.56519247\n",
      "  1.04418514 0.94512988 0.5273511  0.37415063 0.50948094 0.18252491\n",
      "  0.66767762 0.24202747 0.65189363 0.47289149 0.53490913 0.88681025\n",
      "  0.94061607 0.31068992 0.92284407 0.37505454 0.57168216 0.53097017\n",
      "  0.95858892 0.22072393 0.64371123 0.2239737  0.5542133  0.78651899\n",
      "  0.14467139 0.78292526 0.31554248 0.93010705 0.51044596 0.8899826\n",
      "  0.53314249 1.14304704 0.98557661 0.75972243 0.60947941 0.89030024\n",
      "  0.46874389 0.62709232 0.51437291 0.80684378 1.18686321 0.6647859\n",
      "  0.68556579 0.93110449 0.22775266 0.14275472 0.67934357 0.9223507\n",
      "  0.10838934 0.8354846  0.89296725 0.81483993 0.86559363 0.81864506\n",
      "  0.5224067  0.36283829 0.56304301 0.72579805 0.46314365 0.3615907\n",
      "  0.68021111 0.36727245 0.36859633 0.46187679]\n",
      " [0.44063596 0.6091706  0.70447136 0.87553501 0.68760874 0.33827868\n",
      "  0.71073408 0.77648754 0.65993611 0.58633872 0.40150747 0.25079873\n",
      "  0.4883325  0.57668612 0.07560866 0.67942072 0.25697264 0.72247398\n",
      "  0.         0.47719823 0.89437409 0.39472251 0.52367833 0.13988523\n",
      "  0.7620465  0.77366408 0.7148626  0.9088044  0.92966977 0.65754029\n",
      "  0.75174432 0.2254083  0.70948639 0.16461737 0.70317043 0.88317507\n",
      "  0.55873586 0.62236525 0.2262428  0.54008074 0.39607214 0.54290086\n",
      "  0.86392337 0.61143677 0.62709438 0.25569225 0.21747404 0.59236552\n",
      "  0.81654672 0.42344934 0.25171307 0.66261751 0.39354215 0.31925566\n",
      "  0.79584083 0.51139163 0.08176041 0.59752912 0.62749291 0.90217267\n",
      "  0.61954142 0.87045287 0.76704197 0.21148171 0.87447964 0.78377117\n",
      "  0.25348397 0.67580028 0.60953019 0.06646593 0.73523109 0.58235429\n",
      "  0.72996089 0.22754496 0.88402256 0.20518454 0.73417212 0.0960108\n",
      "  0.48552339 0.57309849 0.77348012 0.74020005 0.93611473 0.49348084\n",
      "  0.77040793 0.12789733 0.17600322 0.25096463 0.19656364 0.17684578\n",
      "  0.22451919 0.50942481 0.44658129 0.0935991  0.27816704 0.4105849\n",
      "  0.1618146  0.38852305 0.35439584 0.63534391]\n",
      " [0.32061067 0.24929154 0.28967071 0.43058015 0.44482298 0.61209711\n",
      "  0.56273132 0.4412935  0.79409974 0.11887798 0.14985832 0.43926231\n",
      "  0.31000791 0.15313822 0.47253208 0.40270959 0.22199698 0.75187642\n",
      "  0.47719823 0.         0.54844533 0.26072376 0.65426276 0.58652856\n",
      "  0.74744804 0.83276417 0.39153504 0.59656824 0.51330247 0.18845405\n",
      "  0.84739349 0.25317114 0.75275375 0.46549334 0.45931804 0.56203917\n",
      "  0.31282254 0.19989802 0.56247571 0.38692625 0.25023468 0.59837347\n",
      "  0.48080513 0.52360571 0.22220978 0.43309053 0.37182556 0.14617714\n",
      "  0.33940727 0.59952308 0.42479335 0.45573905 0.18853189 0.2686772\n",
      "  0.32104269 0.63978558 0.48296801 0.53336296 0.29361945 0.47134019\n",
      "  0.60741141 0.43458344 0.59003817 0.53221093 0.58473604 0.30745849\n",
      "  0.60873555 0.39612619 0.23375081 0.43500429 0.36426581 0.14483716\n",
      "  0.45055796 0.65001859 0.59389155 0.68233089 0.43616229 0.39188566\n",
      "  0.07350678 0.1792736  0.65454727 0.8494128  0.56352888 0.18900156\n",
      "  0.73088299 0.46162852 0.58866248 0.28178353 0.40563013 0.36747432\n",
      "  0.38187927 0.3903879  0.18891007 0.5672948  0.55761752 0.41520284\n",
      "  0.61426597 0.62101316 0.50036122 0.37009816]\n",
      " [0.46435693 0.73096417 0.69055776 0.26370833 0.2364219  0.80656896\n",
      "  0.3383027  0.87290624 0.75178876 0.55056121 0.69736598 0.96005136\n",
      "  0.41152768 0.39552789 0.84806539 0.88955638 0.67567823 0.61211042\n",
      "  0.89437409 0.54844533 0.         0.80893078 0.68588172 0.93990086\n",
      "  0.55745142 0.6875632  0.84906388 0.07714989 0.17300981 0.54375834\n",
      "  0.73787775 0.72492283 0.62872925 0.78508859 0.22633666 0.05107798\n",
      "  0.8365054  0.64457146 0.83780461 0.38549325 0.49830204 0.59107941\n",
      "  0.0956985  0.42015296 0.32645801 0.69327511 0.68957171 0.59601019\n",
      "  0.48038163 0.71333506 0.94672094 0.28085504 0.50968155 0.57515636\n",
      "  0.52056901 0.67875849 0.85327904 0.44862917 0.27468743 0.21520404\n",
      "  0.5163747  0.23345663 0.29700752 1.0295368  0.11231979 0.439621\n",
      "  0.87448147 0.88288573 0.70941086 0.88417389 0.18417958 0.60878022\n",
      "  0.18010118 0.95882505 0.11347728 1.0768419  0.90017009 0.79918634\n",
      "  0.48553326 0.66791343 0.39042629 0.75446943 0.06723329 0.72427154\n",
      "  0.51968349 0.93960763 1.05440227 0.79782386 0.91153415 0.86367546\n",
      "  0.68813283 0.42263599 0.45710158 0.95861091 0.79105392 0.5432405\n",
      "  0.96531132 0.7730877  0.66676154 0.26369206]\n",
      " [0.50265712 0.23243176 0.34004925 0.67577199 0.686284   0.66174299\n",
      "  0.78397493 0.38236383 0.92353632 0.3015274  0.11183439 0.22868117\n",
      "  0.51562615 0.41386005 0.43217263 0.28559508 0.24760975 0.92209266\n",
      "  0.39472251 0.26072376 0.80893078 0.         0.77601354 0.53288902\n",
      "  0.93387574 0.99527258 0.32079773 0.85504604 0.76779633 0.35746965\n",
      "  0.99576511 0.22411113 0.91762731 0.47471269 0.70181622 0.82100239\n",
      "  0.16417812 0.27847795 0.5736214  0.59468686 0.42319073 0.74743705\n",
      "  0.74098812 0.72186048 0.48291535 0.49748531 0.42296066 0.27841983\n",
      "  0.52827829 0.69532404 0.21485256 0.68798484 0.36759683 0.39113744\n",
      "  0.49211008 0.76126089 0.44379324 0.72378367 0.54779787 0.72205572\n",
      "  0.78434872 0.68427311 0.82118626 0.34197581 0.84027922 0.51487545\n",
      "  0.61473083 0.28166528 0.24000748 0.33073267 0.62478204 0.26362351\n",
      "  0.70077726 0.61686246 0.84964705 0.57546193 0.33975325 0.35278453\n",
      "  0.32536096 0.22439723 0.87160056 0.99220991 0.82386461 0.12873766\n",
      "  0.92537431 0.31201434 0.42770941 0.1463746  0.22956999 0.22234668\n",
      "  0.43671576 0.58534016 0.40022668 0.4854074  0.59762839 0.56086203\n",
      "  0.55627971 0.69218299 0.59636491 0.61281998]\n",
      " [0.34542152 0.89496643 0.94338305 0.82584197 0.45560611 0.21289362\n",
      "  0.36125789 1.08949938 0.14759927 0.76265589 0.70535644 0.74730901\n",
      "  0.38104068 0.62285741 0.44807202 1.02962864 0.528535   0.21253161\n",
      "  0.52367833 0.65426276 0.68588172 0.77601354 0.         0.45785546\n",
      "  0.27031413 0.2508353  1.03465284 0.65402933 0.81209873 0.81956462\n",
      "  0.229731   0.55591466 0.19496632 0.36018235 0.46241229 0.64759602\n",
      "  0.91564715 0.85412823 0.31734732 0.34073282 0.40486653 0.09488606\n",
      "  0.71544716 0.26588784 0.6181905  0.28927945 0.36040163 0.79890023\n",
      "  0.90725096 0.10124239 0.74235621 0.40835462 0.46574656 0.3968869\n",
      "  0.91487585 0.01483824 0.4427821  0.23741118 0.53813737 0.81753696\n",
      "  0.1829247  0.8041077  0.41908293 0.73448279 0.60491215 0.85808041\n",
      "  0.32080149 1.02379389 0.88280663 0.56780647 0.62367257 0.79891494\n",
      "  0.51308719 0.41456204 0.61158932 0.59482551 1.07330333 0.47816437\n",
      "  0.59963485 0.82932671 0.36456958 0.22107688 0.75025158 0.80104674\n",
      "  0.29410307 0.64320776 0.68911039 0.65219353 0.68364166 0.64010054\n",
      "  0.34674504 0.3111521  0.47666101 0.51788824 0.25395986 0.23969133\n",
      "  0.46871665 0.15474144 0.18289475 0.46546347]\n",
      " [0.47555518 0.74149857 0.83268622 0.95685371 0.71686128 0.2493931\n",
      "  0.71055288 0.91348068 0.57873335 0.7012874  0.53031682 0.38387945\n",
      "  0.52858399 0.66454978 0.11404086 0.81818853 0.36547012 0.66817158\n",
      "  0.13988523 0.58652856 0.93990086 0.53288902 0.45785546 0.\n",
      "  0.71785757 0.70680406 0.85189274 0.94318095 0.9978359  0.77262097\n",
      "  0.67557193 0.34556738 0.65203774 0.1548291  0.731258   0.92152989\n",
      "  0.69706514 0.74771136 0.14082048 0.56320741 0.45255944 0.49995087\n",
      "  0.92274162 0.60445404 0.70594896 0.25080557 0.25370058 0.71280387\n",
      "  0.92380621 0.357634   0.386663   0.68429342 0.46811769 0.3784802\n",
      "  0.90756625 0.4480871  0.10359415 0.58517685 0.68754938 0.97679913\n",
      "  0.58819935 0.9480295  0.77042557 0.32049739 0.90377247 0.88705196\n",
      "  0.14457822 0.81442895 0.74032426 0.20624854 0.79690145 0.70410526\n",
      "  0.76579065 0.0891621  0.9129224  0.1454506  0.87263189 0.19698921\n",
      "  0.5817395  0.70069705 0.75934431 0.6607908  0.98857049 0.62594966\n",
      "  0.73300508 0.25760309 0.2466192  0.38757939 0.3341633  0.31672287\n",
      "  0.25301704 0.5281768  0.51777272 0.06979314 0.20513021 0.41319186\n",
      "  0.02797919 0.30680389 0.31927336 0.67624457]\n",
      " [0.4347962  0.99644737 1.01713718 0.76763706 0.38091721 0.4808559\n",
      "  0.23297299 1.18560662 0.23443827 0.83279063 0.84197007 0.95802285\n",
      "  0.43744013 0.66092968 0.68826954 1.14872148 0.69520514 0.07124124\n",
      "  0.7620465  0.74744804 0.55745142 0.93387574 0.27031413 0.71785757\n",
      "  0.         0.1306857  1.1384753  0.50126336 0.71726782 0.87313657\n",
      "  0.18611639 0.73477398 0.09350295 0.59859267 0.3777562  0.50906933\n",
      "  1.04776721 0.93570016 0.57751165 0.36187525 0.51379357 0.21986617\n",
      "  0.61906302 0.22481529 0.6280013  0.50814738 0.56466616 0.87697268\n",
      "  0.91211291 0.36333224 0.95038684 0.34014163 0.57433583 0.54501529\n",
      "  0.93316089 0.27618864 0.68538436 0.21436176 0.52731039 0.74087081\n",
      "  0.1508983  0.7400678  0.2609315  0.9662547  0.45221916 0.86158769\n",
      "  0.58728384 1.14226261 0.97994487 0.7947812  0.57165375 0.88164081\n",
      "  0.42581536 0.68252112 0.45538624 0.8591059  1.1836094  0.69796917\n",
      "  0.67831835 0.92568184 0.16755869 0.20620216 0.62449114 0.92427828\n",
      "  0.03961075 0.87015374 0.93520484 0.83486071 0.89433287 0.84606136\n",
      "  0.55295625 0.35762392 0.55916081 0.7724645  0.51305044 0.37971379\n",
      "  0.73167753 0.4236278  0.40821369 0.43211451]\n",
      " [0.51265341 1.08159053 1.11191948 0.8915952  0.50194728 0.45846369\n",
      "  0.35793118 1.27396894 0.14633388 0.9269702  0.91187837 0.99070715\n",
      "  0.5266194  0.76224447 0.69812146 1.22828393 0.74972067 0.08445081\n",
      "  0.77366408 0.83276417 0.6875632  0.99527258 0.2508353  0.70680406\n",
      "  0.1306857  0.         1.22377601 0.63194819 0.84554464 0.97285164\n",
      "  0.06224788 0.78387143 0.08001453 0.60947946 0.50051877 0.63947488\n",
      "  1.12139968 1.02723266 0.56703448 0.45783801 0.58796419 0.24842733\n",
      "  0.74692923 0.32645577 0.73632495 0.53127221 0.59747644 0.96907808\n",
      "  1.02503252 0.35205114 0.9847614  0.45838709 0.65053214 0.60458476\n",
      "  1.04302867 0.26247355 0.69316128 0.30797224 0.63862956 0.86723392\n",
      "  0.22733347 0.8647005  0.39065432 0.98380217 0.58287079 0.97439834\n",
      "  0.56640631 1.22203125 1.0665107  0.81546231 0.69254819 0.97225076\n",
      "  0.55015616 0.6568188  0.5860703  0.84031276 1.26676305 0.72304776\n",
      "  0.76742563 1.01203547 0.29819311 0.08558094 0.75468413 1.00051443\n",
      "  0.16974172 0.89117026 0.93994569 0.88307603 0.9267132  0.88112651\n",
      "  0.58443373 0.44523635 0.64422788 0.76818932 0.50432065 0.43470933\n",
      "  0.71601101 0.40034483 0.42462455 0.54606694]\n",
      " [0.71114642 0.14226011 0.16194794 0.63172012 0.81377312 0.95621033\n",
      "  0.94508817 0.06162494 1.17831516 0.31626407 0.33913425 0.52941742\n",
      "  0.70120282 0.49688194 0.74743308 0.06742541 0.52713551 1.14327955\n",
      "  0.7148626  0.39153504 0.84906388 0.32079773 1.03465284 0.85189274\n",
      "  1.1384753  1.22377601 0.         0.91452016 0.74464709 0.30570492\n",
      "  1.23649937 0.52237829 1.14379918 0.77868377 0.82633181 0.87869058\n",
      "  0.15985437 0.21166157 0.87975106 0.77703652 0.6374653  0.98610396\n",
      "  0.75996153 0.91410284 0.55318296 0.78103085 0.70896017 0.26876252\n",
      "  0.41229696 0.96843207 0.5178272  0.83338154 0.57468761 0.63824691\n",
      "  0.3645046  1.0198987  0.75911751 0.92466298 0.65065998 0.68907613\n",
      "  0.99889603 0.65291122 0.9648562  0.64390023 0.9174572  0.43173695\n",
      "  0.92320391 0.06449874 0.15868567 0.65142211 0.68064465 0.2608544\n",
      "  0.80527166 0.9340063  0.92534122 0.89482784 0.0511083  0.66509537\n",
      "  0.46030948 0.21279956 1.03765177 1.23741045 0.83811359 0.23832773\n",
      "  1.12083209 0.62987856 0.73808042 0.4643604  0.54550709 0.54299785\n",
      "  0.7218317  0.78185834 0.58044166 0.80609824 0.89447275 0.79947752\n",
      "  0.87594143 0.97782681 0.86724581 0.74107705]\n",
      " [0.47046325 0.79234576 0.75784046 0.34069508 0.22659886 0.79169996\n",
      "  0.29578269 0.94080392 0.70701276 0.61002064 0.74321796 0.9931834\n",
      "  0.4206297  0.44577034 0.85747997 0.95240487 0.7037489  0.56016638\n",
      "  0.9088044  0.59656824 0.07714989 0.85504604 0.65402933 0.94318095\n",
      "  0.50126336 0.63194819 0.91452016 0.         0.24839451 0.60882205\n",
      "  0.68503579 0.75352271 0.57815149 0.78878501 0.21285665 0.0358671\n",
      "  0.89346927 0.70730784 0.8330424  0.38063312 0.51523589 0.55938454\n",
      "  0.171729   0.38949743 0.37780667 0.69333088 0.69790554 0.65650403\n",
      "  0.55472227 0.6915911  0.98032549 0.26384184 0.53537198 0.59081284\n",
      "  0.5937872  0.64832247 0.86173656 0.41767569 0.30943982 0.29224506\n",
      "  0.47755962 0.31038311 0.24595092 1.05603605 0.05013302 0.51262135\n",
      "  0.86702722 0.94568169 0.7709944  0.90413673 0.23741226 0.66859319\n",
      "  0.17893255 0.95496656 0.04588332 1.08346266 0.96555348 0.8151022\n",
      "  0.52971495 0.72723521 0.333844   0.70290871 0.13341333 0.77783489\n",
      "  0.46246933 0.96353384 1.07398502 0.83233914 0.94171078 0.89268409\n",
      "  0.69495176 0.41672701 0.48468731 0.9672572  0.78229888 0.53634122\n",
      "  0.96756265 0.75377269 0.65521867 0.27382509]\n",
      " [0.53572765 0.64419182 0.58271471 0.11485645 0.35853721 0.90218783\n",
      "  0.48876735 0.75872166 0.89551203 0.47834866 0.66097274 0.94965891\n",
      "  0.48168314 0.3682766  0.8953974  0.79380711 0.6869709  0.76659914\n",
      "  0.92966977 0.51330247 0.17300981 0.76779633 0.81209873 0.9978359\n",
      "  0.71726782 0.84554464 0.74464709 0.24839451 0.         0.45068214\n",
      "  0.89217001 0.7328505  0.78139797 0.84602868 0.35448915 0.22371552\n",
      "  0.76172568 0.555876   0.91400488 0.48273635 0.54530998 0.71930286\n",
      "  0.0990951  0.55297208 0.30660993 0.76439333 0.74427787 0.51762682\n",
      "  0.34480889 0.82294096 0.93544052 0.40618557 0.5363662  0.61987646\n",
      "  0.39029495 0.80298098 0.90249463 0.58058604 0.31152192 0.05656585\n",
      "  0.65641124 0.09176785 0.45707951 1.03400707 0.28476574 0.3144647\n",
      "  0.95498726 0.78744808 0.62259892 0.90731372 0.2032506  0.53220853\n",
      "  0.30270927 1.03069891 0.28642313 1.12524464 0.79511039 0.83386593\n",
      "  0.46676682 0.590515   0.55291164 0.90703611 0.11987517 0.66369802\n",
      "  0.68096148 0.95215667 1.07464271 0.78835616 0.90968923 0.86597829\n",
      "  0.74599969 0.51858624 0.48379832 1.00494243 0.87593611 0.63352475\n",
      "  1.02483217 0.87721261 0.76025696 0.35184497]\n",
      " [0.47513344 0.19350995 0.15232629 0.34327312 0.52205823 0.7965823\n",
      "  0.66237081 0.334808   0.95270269 0.07140026 0.27561074 0.57615692\n",
      "  0.4487609  0.21225552 0.65860462 0.34686299 0.40715086 0.88925943\n",
      "  0.65754029 0.18845405 0.54375834 0.35746965 0.81956462 0.77262097\n",
      "  0.87313657 0.97285164 0.30570492 0.60882205 0.45068214 0.\n",
      "  0.99541218 0.43218236 0.8935785  0.6539468  0.53311789 0.57299807\n",
      "  0.31347108 0.10521274 0.75067512 0.51510885 0.41750294 0.75343961\n",
      "  0.45607214 0.64971923 0.25613364 0.61853826 0.55954586 0.07910244\n",
      "  0.1714562  0.77480653 0.56156176 0.54800433 0.36140001 0.45069116\n",
      "  0.14048178 0.80560221 0.66929758 0.66540176 0.35803099 0.39749961\n",
      "  0.74562998 0.3597454  0.67429929 0.68177505 0.61257918 0.1594546\n",
      "  0.79695115 0.34028349 0.17193064 0.60963718 0.37584621 0.09412236\n",
      "  0.50668353 0.83799747 0.62029945 0.86151208 0.35675801 0.5765167\n",
      "  0.22219267 0.14532755 0.75434036 1.00035265 0.535833   0.23353788\n",
      "  0.85041246 0.62479809 0.75135704 0.43637064 0.55694877 0.52749753\n",
      "  0.56920792 0.52922506 0.34294306 0.7494686  0.7439194  0.58060725\n",
      "  0.80016941 0.8016955  0.67828286 0.45298288]\n",
      " [0.52698832 1.09475316 1.13079117 0.93296983 0.54258063 0.42618194\n",
      "  0.40340694 1.28836327 0.09898643 0.94627739 0.91740054 0.97691794\n",
      "  0.5467998  0.78700315 0.67619229 1.2376564  0.74855634 0.12585572\n",
      "  0.75174432 0.84739349 0.73787775 0.99576511 0.229731   0.67557193\n",
      "  0.18611639 0.06224788 1.23649937 0.68503579 0.89217001 0.99541218\n",
      "  0.         0.77964562 0.11117747 0.58920818 0.5425972  0.69075504\n",
      "  1.12784547 1.04444096 0.53785625 0.48307303 0.59903415 0.25104087\n",
      "  0.7931878  0.35834237 0.76585443 0.51810765 0.58766243 0.98690557\n",
      "  1.05655173 0.32838545 0.97181402 0.49736983 0.66181417 0.60783107\n",
      "  1.07222981 0.24322164 0.6703528  0.3365663  0.67092345 0.91130045\n",
      "  0.25355576 0.90684339 0.44112519 0.96301283 0.6354931  1.00599966\n",
      "  0.53272319 1.23154327 1.08057434 0.79730539 0.73177984 0.98915936\n",
      "  0.59328781 0.61995442 0.63918189 0.80473874 1.27808608 0.7078481\n",
      "  0.78474394 1.02622131 0.35155814 0.02368134 0.80510847 1.00897823\n",
      "  0.22572572 0.87256976 0.91370249 0.8775738  0.91318476 0.8692069\n",
      "  0.57420588 0.46620912 0.66044974 0.73928856 0.47708698 0.43941882\n",
      "  0.68272984 0.36926986 0.41113482 0.58102637]\n",
      " [0.32426096 0.40090481 0.48774831 0.66670526 0.55044095 0.43904059\n",
      "  0.61672786 0.58298846 0.70346433 0.36094385 0.18766437 0.24376131\n",
      "  0.35468258 0.36774143 0.23337249 0.49987212 0.04985066 0.71499881\n",
      "  0.2254083  0.25317114 0.72492283 0.22411113 0.55591466 0.34556738\n",
      "  0.73477398 0.78387143 0.52237829 0.75352271 0.7328505  0.43218236\n",
      "  0.77964562 0.         0.70831912 0.25641023 0.56665606 0.72344726\n",
      "  0.37885683 0.40215567 0.35738023 0.426715   0.25222051 0.53555275\n",
      "  0.67895884 0.5374652  0.42624058 0.27361265 0.19911787 0.36839388\n",
      "  0.59190977 0.4721859  0.23233005 0.53875123 0.21850148 0.19419048\n",
      "  0.57047772 0.541298   0.2447855  0.5337549  0.45028209 0.6992417\n",
      "  0.58387572 0.66515482 0.66351089 0.30489543 0.72740267 0.56058399\n",
      "  0.40094818 0.49502058 0.39767993 0.18234343 0.55083546 0.35910881\n",
      "  0.58052869 0.41968821 0.73711916 0.42997308 0.55068547 0.14907666\n",
      "  0.27119223 0.35576755 0.69680657 0.77459485 0.75692903 0.28716623\n",
      "  0.73137545 0.21930698 0.34306859 0.10010038 0.18846372 0.13917038\n",
      "  0.2129225  0.40752165 0.26895642 0.31741922 0.37553121 0.35523338\n",
      "  0.37233127 0.46812355 0.37440203 0.48480198]\n",
      " [0.43270385 1.00160447 1.03212069 0.82188259 0.43148654 0.40776609\n",
      "  0.29276171 1.19395445 0.14116185 0.84718833 0.83292574 0.91988124\n",
      "  0.44679832 0.68338786 0.63433671 1.14857515 0.67296571 0.02232322\n",
      "  0.70948639 0.75275375 0.62872925 0.91762731 0.19496632 0.65203774\n",
      "  0.09350295 0.08001453 1.14379918 0.57815149 0.78139797 0.8935785\n",
      "  0.11117747 0.70831912 0.         0.54486903 0.43142125 0.58231991\n",
      "  1.04216332 0.94728894 0.51126674 0.37884482 0.50827437 0.17339874\n",
      "  0.68236711 0.24963886 0.65902317 0.46184149 0.52545562 0.88916879\n",
      "  0.94874129 0.29440852 0.91342246 0.38648125 0.57077614 0.52659002\n",
      "  0.96573491 0.20398891 0.63016833 0.2296726  0.56251548 0.80015061\n",
      "  0.14797281 0.79569338 0.33283938 0.91797716 0.52828874 0.89812854\n",
      "  0.51575743 1.14230723 0.98650153 0.74811837 0.62096812 0.89228578\n",
      "  0.4821237  0.60918429 0.5324406  0.78977885 1.18686342 0.6539266\n",
      "  0.68745826 0.93202584 0.24695916 0.12587307 0.69594795 0.92097929\n",
      "  0.13017334 0.82391192 0.87896194 0.80791972 0.85585695 0.80938299\n",
      "  0.5127337  0.3654462  0.56421533 0.71055673 0.44727641 0.35676659\n",
      "  0.66350083 0.34948814 0.35653617 0.4713641 ]\n",
      " [0.32073466 0.65428711 0.73392118 0.80979943 0.56269674 0.19172898\n",
      "  0.56404274 0.83912853 0.49938763 0.58385714 0.44170047 0.39364006\n",
      "  0.37386812 0.52353995 0.08976195 0.75560285 0.25711884 0.55792599\n",
      "  0.16461737 0.46549334 0.78508859 0.47471269 0.36018235 0.1548291\n",
      "  0.59859267 0.60947946 0.77868377 0.78878501 0.84602868 0.6539468\n",
      "  0.58920818 0.25641023 0.54486903 0.         0.57726601 0.76683327\n",
      "  0.63410143 0.64498926 0.10128845 0.40942552 0.3012235  0.37899602\n",
      "  0.76913225 0.46031206 0.55956005 0.10003441 0.1034119  0.60270905\n",
      "  0.79450562 0.26099561 0.39058749 0.5311961  0.32380803 0.23006743\n",
      "  0.78303743 0.3475632  0.08704685 0.44356807 0.53491649 0.82702048\n",
      "  0.45843725 0.79945631 0.62279021 0.37440137 0.74991336 0.75449803\n",
      "  0.14616187 0.75089007 0.64920071 0.20870952 0.64416119 0.59625028\n",
      "  0.61112324 0.19016847 0.75913088 0.29555391 0.80692283 0.12886413\n",
      "  0.44835159 0.60342522 0.61961839 0.57857276 0.83408956 0.54235866\n",
      "  0.60832456 0.28350509 0.33667094 0.33186842 0.33157185 0.29381906\n",
      "  0.10010261 0.37497353 0.37060282 0.1848645  0.12705402 0.26326877\n",
      "  0.18041787 0.23359354 0.19040931 0.52142194]\n",
      " [0.2625468  0.69041793 0.68462406 0.39108506 0.01621522 0.58198758\n",
      "  0.14514701 0.86424912 0.54112812 0.51006809 0.5926521  0.81015911\n",
      "  0.21694621 0.32949384 0.64851107 0.85138804 0.51709206 0.41850396\n",
      "  0.70317043 0.45931804 0.22633666 0.70181622 0.46241229 0.731258\n",
      "  0.3777562  0.50051877 0.82633181 0.21285665 0.35448915 0.53311789\n",
      "  0.5425972  0.56665606 0.43142125 0.57726601 0.         0.19548857\n",
      "  0.77150475 0.61493365 0.62022498 0.16810645 0.3175653  0.36815576\n",
      "  0.25588633 0.19908795 0.27699391 0.48094561 0.48906247 0.55761944\n",
      "  0.54226626 0.48701137 0.79826358 0.0546019  0.35023516 0.38963543\n",
      "  0.56840245 0.45452583 0.65219508 0.22711521 0.17594536 0.36914034\n",
      "  0.3019447  0.36442271 0.1417505  0.86239341 0.17269035 0.49246747\n",
      "  0.65457464 0.84462209 0.67076845 0.70378442 0.19426567 0.56628993\n",
      "  0.0517799  0.74212555 0.1819839  0.87252442 0.87557717 0.61137448\n",
      "  0.38616767 0.61997357 0.22945442 0.5560014  0.28865049 0.64830048\n",
      "  0.34569924 0.76730799 0.87218619 0.65417796 0.75447285 0.70424191\n",
      "  0.48521642 0.20391588 0.30587676 0.75750247 0.57007506 0.32354859\n",
      "  0.75533832 0.5470776  0.44372701 0.08949419]\n",
      " [0.44703023 0.75650993 0.72213976 0.3101338  0.20781798 0.77731441\n",
      "  0.29431918 0.90514192 0.70776256 0.57424591 0.70916882 0.96206989\n",
      "  0.39596164 0.41079224 0.83352594 0.91654194 0.6737684  0.56519247\n",
      "  0.88317507 0.56203917 0.05107798 0.82100239 0.64759602 0.92152989\n",
      "  0.50906933 0.63947488 0.87869058 0.0358671  0.22371552 0.57299807\n",
      "  0.69075504 0.72344726 0.58231991 0.76683327 0.19548857 0.\n",
      "  0.85792078 0.67144222 0.8144245  0.3610421  0.48825053 0.55271761\n",
      "  0.1403601  0.38183444 0.34260491 0.67263767 0.6741522  0.62068882\n",
      "  0.52090106 0.68022021 0.9490853  0.24870135 0.50580703 0.56439699\n",
      "  0.55940897 0.64115322 0.83812501 0.41026885 0.27689507 0.26400441\n",
      "  0.47456147 0.2797047  0.2496521  1.02675415 0.0612454  0.4782084\n",
      "  0.84954416 0.90981931 0.7351514  0.87671837 0.20177341 0.63280974\n",
      "  0.15576085 0.93609383 0.06281022 1.06067388 0.92971907 0.78890084\n",
      "  0.49579845 0.69148617 0.34167276 0.70781389 0.11609239 0.7426242\n",
      "  0.470951   0.93495051 1.04679259 0.80078625 0.91134603 0.86260605\n",
      "  0.67173614 0.39772421 0.45449208 0.94366469 0.76526914 0.51812445\n",
      "  0.94631797 0.74135046 0.63919778 0.24793156]\n",
      " [0.61321512 0.12626183 0.22902628 0.65646274 0.75723833 0.81763635\n",
      "  0.87415468 0.2206686  1.06204413 0.28700865 0.21062446 0.37037805\n",
      "  0.61398308 0.45077555 0.59568404 0.12191303 0.39212838 1.04418514\n",
      "  0.55873586 0.31282254 0.8365054  0.16417812 0.91564715 0.69706514\n",
      "  1.04776721 1.12139968 0.15985437 0.89346927 0.76172568 0.31347108\n",
      "  1.12784547 0.37885683 1.04216332 0.63410143 0.77150475 0.85792078\n",
      "  0.         0.20982538 0.73416894 0.69301852 0.53502449 0.87700562\n",
      "  0.75611915 0.82740341 0.51657743 0.64748268 0.573576   0.24444817\n",
      "  0.46627507 0.84149586 0.35849556 0.76843814 0.47357541 0.52052448\n",
      "  0.42215152 0.90080902 0.60733466 0.83382876 0.60194043 0.70978028\n",
      "  0.9020413  0.67176879 0.90280811 0.48518925 0.88765    0.46866847\n",
      "  0.77624452 0.11767909 0.14559885 0.49432829 0.656172   0.23029026\n",
      "  0.75987634 0.78089956 0.89639696 0.73541775 0.17557816 0.51517639\n",
      "  0.38632758 0.17134951 0.96536567 1.12642708 0.83830287 0.12484916\n",
      "  1.0346024  0.47027433 0.57847968 0.31018718 0.38576094 0.38487873\n",
      "  0.58700823 0.69106865 0.49198983 0.64889315 0.75435386 0.68851178\n",
      "  0.72038523 0.8442211  0.74084297 0.68255494]\n",
      " [0.51763626 0.08833897 0.09068864 0.44821226 0.60255257 0.8047504\n",
      "  0.7359966  0.25124946 0.99340517 0.1051618  0.22193648 0.50558257\n",
      "  0.50091544 0.28570762 0.63525554 0.24514799 0.38866587 0.94512988\n",
      "  0.62236525 0.19989802 0.64457146 0.27847795 0.85412823 0.74771136\n",
      "  0.93570016 1.02723266 0.21166157 0.70730784 0.555876   0.10521274\n",
      "  1.04444096 0.40215567 0.94728894 0.64498926 0.61493365 0.67144222\n",
      "  0.20982538 0.         0.7451334  0.57392298 0.4497314  0.79673531\n",
      "  0.5588347  0.71088584 0.34162852 0.62549906 0.5593581  0.05880344\n",
      "  0.2598079  0.7984221  0.49135533 0.62337984 0.38838176 0.46618906\n",
      "  0.218588   0.83966509 0.64655507 0.72344748 0.43913638 0.50268741\n",
      "  0.80047212 0.46495442 0.75399167 0.61640183 0.70796092 0.25896149\n",
      "  0.79087073 0.23844358 0.06672297 0.56774306 0.47151006 0.05538638\n",
      "  0.59364222 0.82038993 0.71605607 0.82152958 0.26162677 0.55109364\n",
      "  0.25990186 0.05419573 0.82857384 1.04723986 0.63941159 0.14974033\n",
      "  0.91610132 0.5710182  0.69462504 0.38302209 0.4959814  0.47404248\n",
      "  0.5706913  0.58229223 0.38399152 0.71587442 0.74745387 0.6149043\n",
      "  0.77437551 0.81735597 0.69860381 0.53031141]\n",
      " [0.37907735 0.75554484 0.83438756 0.88680203 0.6069271  0.11386847\n",
      "  0.58350784 0.94027826 0.44238265 0.68124474 0.54298779 0.47345124\n",
      "  0.43339838 0.60930023 0.15614007 0.85584902 0.35803852 0.5273511\n",
      "  0.2262428  0.56247571 0.83780461 0.5736214  0.31734732 0.14082048\n",
      "  0.57751165 0.56703448 0.87975106 0.8330424  0.91400488 0.75067512\n",
      "  0.53785625 0.35738023 0.51126674 0.10128845 0.62022498 0.8144245\n",
      "  0.73416894 0.7451334  0.         0.45341295 0.37693469 0.36059718\n",
      "  0.83167133 0.47585695 0.6392313  0.15003707 0.1919237  0.70176225\n",
      "  0.88641817 0.21685997 0.47245648 0.57003859 0.40933709 0.31337682\n",
      "  0.87718748 0.3073639  0.14674712 0.45449743 0.60295359 0.89952187\n",
      "  0.45078587 0.87421132 0.64434037 0.43488646 0.79075692 0.84479235\n",
      "  0.04628292 0.85122332 0.75033745 0.2845157  0.71078929 0.69573702\n",
      "  0.65944955 0.1220368  0.79953983 0.28220117 0.90751997 0.22248673\n",
      "  0.54025487 0.70422627 0.62589605 0.52407683 0.89123016 0.6436249\n",
      "  0.59352355 0.35386463 0.37655229 0.42920845 0.41445093 0.38228956\n",
      "  0.18378152 0.41671663 0.45180417 0.20150335 0.06446361 0.29670582\n",
      "  0.15450028 0.16869643 0.18660609 0.57585894]\n",
      " [0.1038828  0.63523176 0.65624326 0.48611652 0.15403563 0.42329866\n",
      "  0.19118792 0.82374203 0.45237088 0.4714999  0.49369979 0.66907042\n",
      "  0.07952523 0.30454988 0.48251515 0.78942136 0.3792491  0.37415063\n",
      "  0.54008074 0.38692625 0.38549325 0.59468686 0.34073282 0.56320741\n",
      "  0.36187525 0.45783801 0.77703652 0.38063312 0.48273635 0.51510885\n",
      "  0.48307303 0.426715   0.37884482 0.40942552 0.16810645 0.3610421\n",
      "  0.69301852 0.57392298 0.45341295 0.         0.17608523 0.25582402\n",
      "  0.39105114 0.13713281 0.2846309  0.31284112 0.32378223 0.51524022\n",
      "  0.57627646 0.34035998 0.65835135 0.12276786 0.2271053  0.23685939\n",
      "  0.589757   0.32955742 0.48570355 0.15038721 0.19772957 0.48165002\n",
      "  0.23090806 0.46551167 0.23705225 0.71002672 0.34057106 0.52605615\n",
      "  0.48916434 0.78287552 0.61839975 0.54600738 0.28604452 0.51977312\n",
      "  0.20617065 0.57505211 0.34974549 0.70487101 0.82271036 0.4508148\n",
      "  0.31672758 0.56425828 0.2769233  0.49004505 0.44191576 0.56839802\n",
      "  0.34399358 0.613204   0.71195827 0.52163954 0.60986874 0.55918378\n",
      "  0.31900725 0.03719172 0.20103109 0.59068957 0.4055611  0.15775258\n",
      "  0.58723317 0.39486684 0.28216234 0.13095012]\n",
      " [0.0795638  0.4957956  0.53861961 0.51031689 0.3014191  0.39320297\n",
      "  0.36723128 0.68972948 0.54386531 0.35816083 0.32817929 0.4957385\n",
      "  0.10255569 0.23902679 0.3526294  0.64032009 0.20386436 0.50948094\n",
      "  0.39607214 0.25023468 0.49830204 0.42319073 0.40486653 0.45255944\n",
      "  0.51379357 0.58796419 0.6374653  0.51523589 0.54530998 0.41750294\n",
      "  0.59903415 0.25222051 0.50827437 0.3012235  0.3175653  0.48825053\n",
      "  0.53502449 0.4497314  0.37693469 0.17608523 0.         0.34886759\n",
      "  0.4716938  0.29867063 0.26243173 0.2279536  0.19897377 0.39407895\n",
      "  0.52549087 0.35778635 0.48451559 0.28678479 0.06278676 0.07695236\n",
      "  0.52473224 0.39053902 0.35891401 0.3013281  0.23538587 0.5258673\n",
      "  0.36702523 0.49882952 0.41182501 0.54486886 0.48407453 0.4799272\n",
      "  0.42093555 0.63406813 0.48198989 0.38894081 0.34467744 0.39440901\n",
      "  0.33749258 0.48857193 0.49375579 0.58279939 0.67935673 0.30102234\n",
      "  0.19570293 0.42780745 0.45122155 0.60017687 0.541161   0.41287307\n",
      "  0.5030876  0.45019609 0.55875509 0.34572526 0.43823122 0.38772492\n",
      "  0.20112909 0.16241373 0.07909607 0.46313496 0.35065767 0.16527075\n",
      "  0.47952222 0.3892872  0.26378161 0.24155019]\n",
      " [0.27959021 0.84461348 0.88427316 0.73696395 0.36180644 0.27268736\n",
      "  0.26786293 1.03859505 0.19964156 0.70075267 0.6666916  0.74709724\n",
      "  0.30654938 0.55004412 0.46873734 0.98662985 0.50139102 0.18252491\n",
      "  0.54290086 0.59837347 0.59107941 0.74743705 0.09488606 0.49995087\n",
      "  0.21986617 0.24842733 0.98610396 0.55938454 0.71930286 0.75343961\n",
      "  0.25104087 0.53555275 0.17339874 0.37899602 0.36815576 0.55271761\n",
      "  0.87700562 0.79673531 0.36059718 0.25582402 0.34886759 0.\n",
      "  0.62211813 0.17101229 0.53871242 0.29091447 0.35244789 0.73985417\n",
      "  0.82987193 0.15453224 0.74042855 0.31436333 0.4115547  0.35764071\n",
      "  0.84056237 0.08913571 0.46565424 0.14253216 0.45326858 0.72643983\n",
      "  0.09605762 0.71436091 0.3267556  0.74887604 0.51040336 0.78002344\n",
      "  0.37484546 0.9805248  0.83084233 0.57799492 0.53392136 0.74135576\n",
      "  0.41910309 0.47100174 0.51719392 0.64279821 1.02730016 0.48251616\n",
      "  0.53803903 0.77661636 0.28002683 0.25132604 0.65560245 0.7579374\n",
      "  0.23305615 0.65368302 0.71547666 0.63493215 0.68309385 0.63628467\n",
      "  0.33989638 0.23032262 0.41351754 0.55302954 0.29642926 0.18849396\n",
      "  0.51509631 0.21960552 0.18859929 0.37572045]\n",
      " [0.45265774 0.64627841 0.60009597 0.16980392 0.26057256 0.81336974\n",
      "  0.38981432 0.78157054 0.7966575  0.46911529 0.63066162 0.90640463\n",
      "  0.39833935 0.32850268 0.82426875 0.80288162 0.63105958 0.66767762\n",
      "  0.86392337 0.48080513 0.0956985  0.74098812 0.71544716 0.92274162\n",
      "  0.61906302 0.74692923 0.75996153 0.171729   0.0990951  0.45607214\n",
      "  0.7931878  0.67895884 0.68236711 0.76913225 0.25588633 0.1403601\n",
      "  0.75611915 0.5588347  0.83167133 0.39105114 0.4716938  0.62211813\n",
      "  0.         0.45474009 0.26054659 0.68322828 0.66929954 0.51301643\n",
      "  0.38491506 0.72996664 0.89260111 0.3082113  0.47152538 0.54803807\n",
      "  0.42563286 0.70668296 0.83060579 0.48252978 0.23674001 0.12654327\n",
      "  0.55766197 0.13936449 0.35957566 0.9833607  0.19831665 0.34491716\n",
      "  0.87127442 0.79627854 0.62460199 0.84704423 0.12899801 0.52646431\n",
      "  0.2041397  0.95032264 0.20193433 1.0544752  0.81104192 0.76793541\n",
      "  0.42411242 0.58576811 0.45568511 0.80797444 0.08304438 0.64827606\n",
      "  0.58311973 0.89717303 1.01639387 0.74381171 0.8617737  0.81572321\n",
      "  0.66976993 0.42761221 0.41816017 0.93467391 0.79046027 0.54511526\n",
      "  0.94919296 0.78584852 0.67156386 0.26046686]\n",
      " [0.21928351 0.77222381 0.7925945  0.58013664 0.19447629 0.41349051\n",
      "  0.10811838 0.96085888 0.34463876 0.6080883  0.62480897 0.77351263\n",
      "  0.2140254  0.43788735 0.54451902 0.92573548 0.49332327 0.24202747\n",
      "  0.61143677 0.52360571 0.42015296 0.72186048 0.26588784 0.60445404\n",
      "  0.22481529 0.32645577 0.91410284 0.38949743 0.55297208 0.64971923\n",
      "  0.35834237 0.5374652  0.24963886 0.46031206 0.19908795 0.38183444\n",
      "  0.82740341 0.71088584 0.47585695 0.13713281 0.29867063 0.17101229\n",
      "  0.45474009 0.         0.40986921 0.36054703 0.39653278 0.65216259\n",
      "  0.69911024 0.30542951 0.76410699 0.14688391 0.35623635 0.34329736\n",
      "  0.71657742 0.25932737 0.5449428  0.02848354 0.31289578 0.56423777\n",
      "  0.10658862 0.55556279 0.16938993 0.80007217 0.34110576 0.64849431\n",
      "  0.50192394 0.91922167 0.75548827 0.63006499 0.37700901 0.65684281\n",
      "  0.25067581 0.59592876 0.34830518 0.74984571 0.95961394 0.5317846\n",
      "  0.45381031 0.70131007 0.16310052 0.36847703 0.4849667  0.70316086\n",
      "  0.20749287 0.70226262 0.78729874 0.63605665 0.71162617 0.66144988\n",
      "  0.38777946 0.13698281 0.33627736 0.64496673 0.41703971 0.20094992\n",
      "  0.62474442 0.36961104 0.28934436 0.22302827]\n",
      " [0.28322615 0.42182388 0.40786705 0.25091035 0.26613216 0.6506447\n",
      "  0.40910437 0.58851577 0.73670897 0.23856359 0.37169146 0.64707982\n",
      "  0.23849266 0.06910179 0.59865924 0.58341555 0.38056868 0.65189363\n",
      "  0.62709438 0.22220978 0.32645801 0.48291535 0.6181905  0.70594896\n",
      "  0.6280013  0.73632495 0.55318296 0.37780667 0.30660993 0.25613364\n",
      "  0.76585443 0.42624058 0.65902317 0.55956005 0.27699391 0.34260491\n",
      "  0.51657743 0.34162852 0.6392313  0.2846309  0.26243173 0.53871242\n",
      "  0.26054659 0.40986921 0.         0.4903637  0.45615353 0.28625359\n",
      "  0.29164692 0.597042   0.63312417 0.29443256 0.23792082 0.3294929\n",
      "  0.30673134 0.60571081 0.60670999 0.42957537 0.10284487 0.27520173\n",
      "  0.51236747 0.24354825 0.41832095 0.72805055 0.3712562  0.24148555\n",
      "  0.6833646  0.57663303 0.40118294 0.60167957 0.14240152 0.29667965\n",
      "  0.2521778  0.74890809 0.37991465 0.82648706 0.6032533  0.53199771\n",
      "  0.16370937 0.35368838 0.50023198 0.77382509 0.34259202 0.40003292\n",
      "  0.60230933 0.64554688 0.76826961 0.48475479 0.60455369 0.55998543\n",
      "  0.46037758 0.30853481 0.18895802 0.70628448 0.61200373 0.3943669\n",
      "  0.73359452 0.63916133 0.51391554 0.19908445]\n",
      " [0.23077832 0.64819681 0.71606421 0.73703945 0.46677634 0.17932745\n",
      "  0.46400992 0.83953257 0.43525413 0.55143541 0.44246528 0.4595932\n",
      "  0.28500751 0.4635821  0.18500637 0.76633545 0.25554734 0.47289149\n",
      "  0.25569225 0.43309053 0.69327511 0.49748531 0.28927945 0.25080557\n",
      "  0.50814738 0.53127221 0.78103085 0.69333088 0.76439333 0.61853826\n",
      "  0.51810765 0.27361265 0.46184149 0.10003441 0.48094561 0.67263767\n",
      "  0.64748268 0.62549906 0.15003707 0.31284112 0.2279536  0.29091447\n",
      "  0.68322828 0.36054703 0.4903637  0.         0.07452523 0.57726729\n",
      "  0.74523278 0.1994159  0.45401483 0.43351392 0.26542233 0.17004621\n",
      "  0.73920369 0.27525367 0.18466909 0.34439984 0.45312611 0.74949141\n",
      "  0.36397898 0.72422495 0.52279166 0.4582362  0.65326236 0.70192501\n",
      "  0.19313224 0.76102435 0.63993156 0.28710106 0.56126628 0.57318062\n",
      "  0.51693563 0.2671066  0.66236196 0.39418524 0.81438934 0.19209635\n",
      "  0.40138122 0.59002539 0.52059658 0.51032893 0.74475818 0.54277296\n",
      "  0.51512253 0.36276945 0.4311426  0.36591671 0.39565992 0.35110474\n",
      "  0.06078533 0.27747846 0.30441447 0.28489655 0.12600969 0.16342304\n",
      "  0.27442837 0.19706206 0.10706544 0.42996759]\n",
      " [0.22744532 0.5778392  0.64954077 0.70646624 0.47384367 0.24773854\n",
      "  0.49380107 0.76793964 0.50732725 0.49070348 0.36993222 0.39469307\n",
      "  0.27842152 0.42076887 0.15960077 0.6928618  0.182224   0.53490913\n",
      "  0.21747404 0.37182556 0.68957171 0.42296066 0.36040163 0.25370058\n",
      "  0.56466616 0.59747644 0.70896017 0.69790554 0.74427787 0.55954586\n",
      "  0.58766243 0.19911787 0.52545562 0.1034119  0.48906247 0.6741522\n",
      "  0.573576   0.5593581  0.1919237  0.32378223 0.19897377 0.35244789\n",
      "  0.66929954 0.39653278 0.45615353 0.07452523 0.         0.5133806\n",
      "  0.69479988 0.27336904 0.38799323 0.4465414  0.22072782 0.12666567\n",
      "  0.6852651  0.34606349 0.16397668 0.38466045 0.43385289 0.72425323\n",
      "  0.41644057 0.69635238 0.5496698  0.40541078 0.6613823  0.65372842\n",
      "  0.23813778 0.6876253  0.57043084 0.23419122 0.54320623 0.50828427\n",
      "  0.51915014 0.29325653 0.67080636 0.38727609 0.74143901 0.13579118\n",
      "  0.34849888 0.52165092 0.55942199 0.58092517 0.73629486 0.4706375\n",
      "  0.5679487  0.30794058 0.39208644 0.2923972  0.33071589 0.28393324\n",
      "  0.01384239 0.29225879 0.26719551 0.26951271 0.18824754 0.19594379\n",
      "  0.28056348 0.27064528 0.17755773 0.42678534]\n",
      " [0.46044448 0.13609469 0.14459468 0.41432213 0.54501287 0.75655874\n",
      "  0.67748424 0.3099451  0.93712738 0.04776055 0.20064984 0.49852808\n",
      "  0.44258707 0.22813575 0.59929892 0.29737232 0.34916041 0.88681025\n",
      "  0.59236552 0.14617714 0.59601019 0.27841983 0.79890023 0.71280387\n",
      "  0.87697268 0.96907808 0.26876252 0.65650403 0.51762682 0.07910244\n",
      "  0.98690557 0.36839388 0.88916879 0.60270905 0.55761944 0.62068882\n",
      "  0.24444817 0.05880344 0.70176225 0.51524022 0.39407895 0.73985417\n",
      "  0.51301643 0.65216259 0.28625359 0.57726729 0.5133806  0.\n",
      "  0.25004406 0.74566483 0.4839807  0.56510256 0.33349868 0.4146597\n",
      "  0.21607271 0.78452375 0.61034537 0.66487875 0.38209319 0.46636573\n",
      "  0.74217644 0.42824537 0.69615276 0.60550179 0.65511707 0.2378749\n",
      "  0.74781296 0.29059688 0.11509133 0.5413231  0.41958868 0.01529712\n",
      "  0.53760801 0.7822409  0.66341043 0.79461439 0.31801225 0.51583462\n",
      "  0.20216225 0.07311995 0.77006936 0.99000052 0.59473361 0.15490277\n",
      "  0.85730242 0.55193109 0.6777523  0.3629369  0.48161644 0.45443999\n",
      "  0.52415563 0.52398596 0.32658508 0.68527869 0.70072013 0.55934832\n",
      "  0.73995496 0.76683948 0.64652982 0.47238997]\n",
      " [0.56540331 0.34017354 0.2534736  0.23002962 0.53553151 0.91780827\n",
      "  0.68486489 0.4183588  1.02825432 0.23660432 0.44606646 0.74749807\n",
      "  0.52621032 0.28787763 0.81014695 0.46887054 0.56109187 0.94061607\n",
      "  0.81654672 0.33940727 0.48038163 0.52827829 0.90725096 0.92380621\n",
      "  0.91211291 1.02503252 0.41229696 0.55472227 0.34480889 0.1714562\n",
      "  1.05655173 0.59190977 0.94874129 0.79450562 0.54226626 0.52090106\n",
      "  0.46627507 0.2598079  0.88641817 0.57627646 0.52549087 0.82987193\n",
      "  0.38491506 0.69911024 0.29164692 0.74523278 0.69479988 0.25004406\n",
      "  0.         0.87838573 0.73288932 0.5725674  0.47989129 0.57530752\n",
      "  0.04781754 0.8943546  0.82025931 0.71999111 0.38640335 0.28825429\n",
      "  0.80300435 0.25613398 0.68132859 0.85233371 0.57223803 0.05063464\n",
      "  0.93243176 0.46307859 0.32076973 0.77261993 0.35346287 0.26468539\n",
      "  0.5028109  0.98289536 0.57802297 1.02161897 0.46094008 0.73074611\n",
      "  0.34634866 0.30960621 0.77172059 1.06501252 0.45246796 0.40246277\n",
      "  0.88364683 0.79250405 0.91952389 0.60517545 0.72693912 0.69566333\n",
      "  0.70264749 0.59954974 0.44641702 0.9066388  0.87104365 0.67659931\n",
      "  0.95169174 0.91437192 0.78852146 0.48014382]\n",
      " [0.31422062 0.83148601 0.88881798 0.82255191 0.47728791 0.11871101\n",
      "  0.41104711 1.02523653 0.23906184 0.71325437 0.63316407 0.65158847\n",
      "  0.3598137  0.59059425 0.34786512 0.95841445 0.4500382  0.31068992\n",
      "  0.42344934 0.59952308 0.71333506 0.69532404 0.10124239 0.357634\n",
      "  0.36333224 0.35205114 0.96843207 0.6915911  0.82294096 0.77480653\n",
      "  0.32838545 0.4721859  0.29440852 0.26099561 0.48701137 0.68022021\n",
      "  0.84149586 0.7984221  0.21685997 0.34035998 0.35778635 0.15453224\n",
      "  0.72996664 0.30542951 0.597042   0.1994159  0.27336904 0.74566483\n",
      "  0.87838573 0.         0.6473149  0.43258041 0.41394573 0.33275309\n",
      "  0.88089905 0.09055605 0.34222949 0.27883629 0.52953592 0.82140498\n",
      "  0.250248   0.80363208 0.47186372 0.63463778 0.64443336 0.83087623\n",
      "  0.22395736 0.952847   0.821046   0.46948238 0.62565096 0.74398488\n",
      "  0.53460182 0.31942872 0.65208041 0.49649711 1.00450402 0.38248083\n",
      "  0.55262387 0.76883703 0.43349895 0.31759671 0.77453032 0.73163781\n",
      "  0.38254053 0.54449163 0.58791186 0.56533245 0.588344   0.54641611\n",
      "  0.25952677 0.30526703 0.43507797 0.41681845 0.15301603 0.20274233\n",
      "  0.36958178 0.06556347 0.10119277 0.4711102 ]\n",
      " [0.55522295 0.44652196 0.55481527 0.85533691 0.78205618 0.57973072\n",
      "  0.84746809 0.57762198 0.88625991 0.49844172 0.28829852 0.01466576\n",
      "  0.58700642 0.56777107 0.31632667 0.46917425 0.28139266 0.92284407\n",
      "  0.25171307 0.42479335 0.94672094 0.21485256 0.74235621 0.386663\n",
      "  0.95038684 0.9847614  0.5178272  0.98032549 0.93544052 0.56156176\n",
      "  0.97181402 0.23233005 0.91342246 0.39058749 0.79826358 0.9490853\n",
      "  0.35849556 0.49135533 0.47245648 0.65835135 0.48451559 0.74042855\n",
      "  0.89260111 0.76410699 0.63312417 0.45401483 0.38799323 0.4839807\n",
      "  0.73288932 0.6473149  0.         0.77107514 0.44853515 0.42314222\n",
      "  0.69999685 0.72863646 0.32603457 0.75793351 0.67295294 0.89552097\n",
      "  0.80046277 0.8590943  0.89535274 0.12782547 0.9564917  0.71375086\n",
      "  0.50381972 0.46707574 0.45480654 0.1883571  0.76730232 0.4700544\n",
      "  0.81015361 0.47580854 0.96618764 0.38800148 0.52521488 0.26484183\n",
      "  0.46973938 0.43717192 0.92536568 0.96328255 0.9731947  0.34227116\n",
      "  0.95084805 0.13004    0.22051593 0.14901175 0.05906809 0.10434839\n",
      "  0.40069801 0.63765285 0.49661944 0.3243549  0.51616863 0.57282508\n",
      "  0.40371864 0.62417626 0.56107243 0.71505462]\n",
      " [0.22355478 0.6948088  0.69758282 0.43595252 0.04765624 0.52868849\n",
      "  0.11467535 0.87430535 0.49090626 0.51824037 0.5812173  0.78243744\n",
      "  0.18423851 0.33848241 0.60524442 0.85434191 0.48986184 0.37505454\n",
      "  0.66261751 0.45573905 0.28085504 0.68798484 0.40835462 0.68429342\n",
      "  0.34014163 0.45838709 0.83338154 0.26384184 0.40618557 0.54800433\n",
      "  0.49736983 0.53875123 0.38648125 0.5311961  0.0546019  0.24870135\n",
      "  0.76843814 0.62337984 0.57003859 0.12276786 0.28678479 0.31436333\n",
      "  0.3082113  0.14688391 0.29443256 0.43351392 0.4465414  0.56510256\n",
      "  0.5725674  0.43258041 0.77107514 0.         0.32702765 0.35474099\n",
      "  0.59534971 0.40026761 0.60834247 0.1744012  0.19167225 0.41781344\n",
      "  0.2517728  0.41047766 0.13448964 0.82894905 0.22072571 0.52216638\n",
      "  0.60334424 0.84762225 0.67595585 0.66696971 0.23450704 0.57252715\n",
      "  0.10474978 0.69206329 0.22956357 0.8267496  0.88166013 0.57264269\n",
      "  0.38226874 0.62368608 0.20633734 0.5096493  0.34322067 0.64404238\n",
      "  0.31108594 0.7327705  0.83385448 0.62989789 0.72493979 0.67437798\n",
      "  0.44174408 0.15622586 0.28795512 0.71319743 0.51851232 0.27354191\n",
      "  0.70781421 0.49295255 0.391402   0.0953606 ]\n",
      " [0.13963972 0.43306398 0.47779072 0.48881822 0.33406282 0.43907361\n",
      "  0.4170785  0.62709032 0.60593695 0.29940299 0.26859751 0.46072479\n",
      "  0.14831494 0.20021305 0.36101045 0.57781093 0.16865195 0.57168216\n",
      "  0.39354215 0.18853189 0.50968155 0.36759683 0.46574656 0.46811769\n",
      "  0.57433583 0.65053214 0.57468761 0.53537198 0.5363662  0.36140001\n",
      "  0.66181417 0.21850148 0.57077614 0.32380803 0.35023516 0.50580703\n",
      "  0.47357541 0.38838176 0.40933709 0.2271053  0.06278676 0.4115547\n",
      "  0.47152538 0.35623635 0.23792082 0.26542233 0.22072782 0.33349868\n",
      "  0.47989129 0.41394573 0.44853515 0.32702765 0.         0.0960369\n",
      "  0.47522984 0.45128753 0.36889339 0.36083759 0.23672596 0.51088213\n",
      "  0.42870784 0.48080555 0.45729268 0.5209552  0.50891697 0.43656057\n",
      "  0.45481644 0.57153416 0.41939769 0.37594091 0.34255162 0.33318662\n",
      "  0.36210727 0.51391428 0.51863244 0.58975092 0.61659777 0.29761246\n",
      "  0.13950053 0.36529203 0.50402853 0.6628781  0.54608708 0.35080434\n",
      "  0.56230528 0.42995825 0.54583365 0.30399958 0.40695701 0.35751814\n",
      "  0.22652764 0.21925366 0.05337284 0.46941289 0.39115488 0.22675815\n",
      "  0.49581495 0.44072097 0.3168844  0.26660808]\n",
      " [0.13300061 0.49966072 0.55676567 0.57984107 0.37365443 0.34612261\n",
      "  0.42442494 0.69393479 0.54214759 0.38529744 0.309904   0.43336753\n",
      "  0.17268953 0.2959514  0.27629767 0.63296835 0.15084231 0.53097017\n",
      "  0.31925566 0.2686772  0.57515636 0.39113744 0.3968869  0.3784802\n",
      "  0.54501529 0.60458476 0.63824691 0.59081284 0.61987646 0.45069116\n",
      "  0.60783107 0.19419048 0.52659002 0.23006743 0.38963543 0.56439699\n",
      "  0.52052448 0.46618906 0.31337682 0.23685939 0.07695236 0.35764071\n",
      "  0.54803807 0.34329736 0.3294929  0.17004621 0.12666567 0.4146597\n",
      "  0.57530752 0.33275309 0.42314222 0.35474099 0.0960369  0.\n",
      "  0.56926211 0.38208334 0.28291987 0.34020718 0.31141482 0.59836233\n",
      "  0.39455061 0.57000216 0.47361789 0.47420929 0.55840581 0.53241896\n",
      "  0.35879333 0.62708021 0.48863223 0.31433228 0.42047805 0.41217303\n",
      "  0.41245592 0.41962063 0.56804746 0.50652621 0.67643154 0.22451247\n",
      "  0.23160488 0.43615217 0.50288485 0.60596683 0.61804347 0.40422831\n",
      "  0.53941279 0.37817877 0.48351281 0.29295158 0.37333982 0.32267048\n",
      "  0.13127139 0.21452759 0.14053711 0.38663645 0.29602832 0.16988579\n",
      "  0.40578359 0.3523753  0.23246216 0.31699271]\n",
      " [0.57050664 0.29588989 0.20614128 0.27544708 0.56060648 0.91430339\n",
      "  0.70892494 0.37091195 1.03981631 0.210226   0.41564899 0.71452693\n",
      "  0.53470018 0.29207462 0.79357469 0.4213983  0.54275714 0.95858892\n",
      "  0.79584083 0.32104269 0.52056901 0.49211008 0.91487585 0.90756625\n",
      "  0.93316089 1.04302867 0.3645046  0.5937872  0.39029495 0.14048178\n",
      "  1.07222981 0.57047772 0.96573491 0.78303743 0.56840245 0.55940897\n",
      "  0.42215152 0.218588   0.87718748 0.589757   0.52473224 0.84056237\n",
      "  0.42563286 0.71657742 0.30673134 0.73920369 0.6852651  0.21607271\n",
      "  0.04781754 0.88089905 0.69999685 0.59534971 0.47522984 0.56926211\n",
      "  0.         0.90161396 0.80399706 0.73621057 0.40586081 0.33374506\n",
      "  0.81888158 0.30053138 0.70893141 0.82140796 0.60892973 0.08120738\n",
      "  0.92339776 0.4156543  0.27711628 0.74927657 0.38416212 0.22995876\n",
      "  0.53150257 0.96979989 0.61510745 1.00035781 0.41312333 0.71264866\n",
      "  0.33788572 0.27023885 0.79741871 1.07974461 0.49561616 0.36472034\n",
      "  0.90601735 0.76527979 0.89181975 0.57681204 0.69701905 0.66797426\n",
      "  0.69386534 0.61070487 0.44622901 0.88711014 0.86521284 0.68071074\n",
      "  0.93530858 0.91391338 0.78851368 0.50135547]\n",
      " [0.33180404 0.88026294 0.92898137 0.81517661 0.44731976 0.20512744\n",
      "  0.35688776 1.07479245 0.1623026  0.74843924 0.69051908 0.73369722\n",
      "  0.36818431 0.60955628 0.4358072  1.01480281 0.51376394 0.22072393\n",
      "  0.51139163 0.63978558 0.67875849 0.76126089 0.01483824 0.4480871\n",
      "  0.27618864 0.26247355 1.0198987  0.64832247 0.80298098 0.80560221\n",
      "  0.24322164 0.541298   0.20398891 0.3475632  0.45452583 0.64115322\n",
      "  0.90080902 0.83966509 0.3073639  0.32955742 0.39053902 0.08913571\n",
      "  0.70668296 0.25932737 0.60571081 0.27525367 0.34606349 0.78452375\n",
      "  0.8943546  0.09055605 0.72863646 0.40026761 0.45128753 0.38208334\n",
      "  0.90161396 0.         0.43071977 0.23092544 0.52665414 0.80762754\n",
      "  0.18087979 0.79371952 0.41542606 0.72195347 0.5994375  0.84528835\n",
      "  0.31252955 1.00897021 0.86814694 0.55480141 0.61337007 0.78447019\n",
      "  0.50490905 0.40698098 0.60627413 0.58612083 1.05850629 0.46464307\n",
      "  0.58546278 0.81469642 0.36393708 0.23509487 0.74276651 0.78623045\n",
      "  0.29839803 0.63029035 0.67770589 0.63770874 0.66997612 0.62621809\n",
      "  0.332433   0.29932898 0.46266782 0.50730745 0.24357    0.22545249\n",
      "  0.45958811 0.14749735 0.16864726 0.45529027]\n",
      " [0.39129771 0.64399983 0.73253279 0.85749461 0.63714075 0.25723621\n",
      "  0.64731682 0.820495   0.57824017 0.59800364 0.43145881 0.32676721\n",
      "  0.44236958 0.56312177 0.01168444 0.72915018 0.2622017  0.64371123\n",
      "  0.08176041 0.48296801 0.85327904 0.44379324 0.4427821  0.10359415\n",
      "  0.68538436 0.69316128 0.75911751 0.86173656 0.90249463 0.66929758\n",
      "  0.6703528  0.2447855  0.63016833 0.08704685 0.65219508 0.83812501\n",
      "  0.60733466 0.64655507 0.14674712 0.48570355 0.35891401 0.46565424\n",
      "  0.83060579 0.5449428  0.60670999 0.18466909 0.16397668 0.61034537\n",
      "  0.82025931 0.34222949 0.32603457 0.60834247 0.36889339 0.28291987\n",
      "  0.80399706 0.43071977 0.         0.52906892 0.5941948  0.87935584\n",
      "  0.54546154 0.84967495 0.70527478 0.29319753 0.82473602 0.78372044\n",
      "  0.17871378 0.72501374 0.64177579 0.1378364  0.70335911 0.60196219\n",
      "  0.6830564  0.1755715  0.83411175 0.22400806 0.78260867 0.0957908\n",
      "  0.47880693 0.60055246 0.70526354 0.65861622 0.89911055 0.52898655\n",
      "  0.69535863 0.20782629 0.24982557 0.29742242 0.2684386  0.23931603\n",
      "  0.16698293 0.45272924 0.41983063 0.10554393 0.1964845  0.34584399\n",
      "  0.13143639 0.3068208  0.27717692 0.59072925]\n",
      " [0.22184016 0.78252748 0.80642216 0.60589552 0.22205397 0.38855681\n",
      "  0.13260802 0.97251761 0.31853258 0.62157051 0.62915434 0.76692502\n",
      "  0.22346299 0.45435138 0.52916354 0.93436486 0.49095743 0.2239737\n",
      "  0.59752912 0.53336296 0.44862917 0.72378367 0.23741118 0.58517685\n",
      "  0.21436176 0.30797224 0.92466298 0.41767569 0.58058604 0.66540176\n",
      "  0.3365663  0.5337549  0.2296726  0.44356807 0.22711521 0.41026885\n",
      "  0.83382876 0.72344748 0.45449743 0.15038721 0.3013281  0.14253216\n",
      "  0.48252978 0.02848354 0.42957537 0.34439984 0.38466045 0.66487875\n",
      "  0.71999111 0.27883629 0.75793351 0.1744012  0.36083759 0.34020718\n",
      "  0.73621057 0.23092544 0.52906892 0.         0.33455585 0.59104469\n",
      "  0.08308308 0.58169053 0.19381248 0.78958269 0.36912718 0.66943437\n",
      "  0.47910776 0.92790942 0.76627742 0.61879331 0.40252285 0.66899065\n",
      "  0.27858877 0.57372755 0.37622802 0.73062671 0.96949947 0.52038301\n",
      "  0.46490875 0.71192896 0.17621439 0.34561346 0.51339678 0.71011152\n",
      "  0.20176225 0.69185436 0.77353107 0.63307017 0.70446758 0.6546221\n",
      "  0.37521216 0.14326363 0.34486317 0.62768016 0.3946256  0.18882332\n",
      "  0.6047974  0.3434271  0.26793105 0.2470068 ]\n",
      " [0.22656342 0.51577413 0.50903402 0.29328522 0.16419686 0.59744109\n",
      "  0.3063218  0.68831085 0.64800827 0.33444174 0.4362478  0.68611622\n",
      "  0.17374475 0.15427562 0.58770655 0.67714685 0.40114249 0.5542133\n",
      "  0.62749291 0.29361945 0.27468743 0.54779787 0.53813737 0.68754938\n",
      "  0.52731039 0.63862956 0.65065998 0.30943982 0.31152192 0.35803099\n",
      "  0.67092345 0.45028209 0.56251548 0.53491649 0.17594536 0.27689507\n",
      "  0.60194043 0.43913638 0.60295359 0.19772957 0.23538587 0.45326858\n",
      "  0.23674001 0.31289578 0.10284487 0.45312611 0.43385289 0.38209319\n",
      "  0.38640335 0.52953592 0.67295294 0.19167225 0.23672596 0.31141482\n",
      "  0.40586081 0.52665414 0.5941948  0.33455585 0.         0.2978346\n",
      "  0.41763381 0.27590664 0.31639993 0.7550145  0.29248754 0.33576953\n",
      "  0.64452237 0.67036815 0.49582104 0.61261374 0.10935389 0.39115105\n",
      "  0.15794897 0.71919072 0.30184923 0.81793483 0.70010461 0.53155969\n",
      "  0.22317832 0.44585316 0.39738951 0.68014886 0.30943263 0.48079693\n",
      "  0.50065235 0.66583807 0.78255875 0.52433472 0.63690966 0.58898819\n",
      "  0.43503364 0.22765929 0.18354497 0.69803004 0.56696025 0.33091303\n",
      "  0.71430301 0.57813912 0.45641988 0.09640197]\n",
      " [0.52439252 0.5908863  0.52712885 0.05829822 0.37077334 0.89468581\n",
      "  0.50930274 0.70246576 0.90869351 0.42860967 0.61701882 0.90988231\n",
      "  0.47128484 0.33183318 0.871732   0.738994   0.65475699 0.78651899\n",
      "  0.90217267 0.47134019 0.21520404 0.72205572 0.81753696 0.97679913\n",
      "  0.74087081 0.86723392 0.68907613 0.29224506 0.05656585 0.39749961\n",
      "  0.91130045 0.6992417  0.80015061 0.82702048 0.36914034 0.26400441\n",
      "  0.70978028 0.50268741 0.89952187 0.48165002 0.5258673  0.72643983\n",
      "  0.12654327 0.56423777 0.27520173 0.74949141 0.72425323 0.46636573\n",
      "  0.28825429 0.82140498 0.89552097 0.41781344 0.51088213 0.59836233\n",
      "  0.33374506 0.80762754 0.87935584 0.59104469 0.2978346  0.\n",
      "  0.66958276 0.0381738  0.4833661  0.9975133  0.3236549  0.25827798\n",
      "  0.94170386 0.73267965 0.56937404 0.87649346 0.19575463 0.48115409\n",
      "  0.31805332 1.01401358 0.32656676 1.10059023 0.73942272 0.80688579\n",
      "  0.42988119 0.5389208  0.57959519 0.92505762 0.17078387 0.61467951\n",
      "  0.70579649 0.91817764 1.04211718 0.74976937 0.87222427 0.82983457\n",
      "  0.72696152 0.51615137 0.45953214 0.98026842 0.86475084 0.62690883\n",
      "  1.00414422 0.87310763 0.75320439 0.35252893]\n",
      " [0.28929429 0.85663593 0.88473516 0.6865134  0.29892814 0.36779808\n",
      "  0.18192717 1.04813281 0.23925719 0.69977368 0.69456336 0.808357\n",
      "  0.29959021 0.53545766 0.54731601 1.00583461 0.54447457 0.14467139\n",
      "  0.61954142 0.60741141 0.5163747  0.78434872 0.1829247  0.58819935\n",
      "  0.1508983  0.22733347 0.99889603 0.47755962 0.65641124 0.74562998\n",
      "  0.25355576 0.58387572 0.14797281 0.45843725 0.3019447  0.47456147\n",
      "  0.9020413  0.80047212 0.45078587 0.23090806 0.36702523 0.09605762\n",
      "  0.55766197 0.10658862 0.51236747 0.36397898 0.41644057 0.74217644\n",
      "  0.80300435 0.250248   0.80046277 0.2517728  0.42870784 0.39455061\n",
      "  0.81888158 0.18087979 0.54546154 0.08308308 0.41763381 0.66958276\n",
      "  0.         0.66170208 0.23740143 0.82032973 0.42775051 0.75246049\n",
      "  0.46802484 0.9994767  0.84105731 0.6486229  0.48352186 0.74563029\n",
      "  0.35371792 0.56419523 0.43379231 0.73242197 1.04274374 0.55100098\n",
      "  0.54089574 0.78659275 0.18407758 0.26257297 0.58252383 0.77950386\n",
      "  0.15160959 0.72352006 0.79443257 0.68396259 0.74483843 0.69620749\n",
      "  0.40520668 0.21819081 0.4185253  0.63781772 0.38739079 0.22887444\n",
      "  0.60485433 0.31552627 0.27041957 0.32936384]\n",
      " [0.50185051 0.5532039  0.49098994 0.03044628 0.36438982 0.87325105\n",
      "  0.50735963 0.6675237  0.90013483 0.39044042 0.57963143 0.87349301\n",
      "  0.44958312 0.29742033 0.8418086  0.70210395 0.62129274 0.78292526\n",
      "  0.87045287 0.43458344 0.23345663 0.68427311 0.8041077  0.9480295\n",
      "  0.7400678  0.8647005  0.65291122 0.31038311 0.09176785 0.3597454\n",
      "  0.90684339 0.66515482 0.79569338 0.79945631 0.36442271 0.2797047\n",
      "  0.67176879 0.46495442 0.87421132 0.46551167 0.49882952 0.71436091\n",
      "  0.13936449 0.55556279 0.24354825 0.72422495 0.69635238 0.42824537\n",
      "  0.25613398 0.80363208 0.8590943  0.41047766 0.48080555 0.57000216\n",
      "  0.30053138 0.79371952 0.84967495 0.58169053 0.27590664 0.0381738\n",
      "  0.66170208 0.         0.48577002 0.96214954 0.33731269 0.2233482\n",
      "  0.91697689 0.69575643 0.53166174 0.84336764 0.1804863  0.44301764\n",
      "  0.31459213 0.98739792 0.34119651 1.06999485 0.70340694 0.77549931\n",
      "  0.39495419 0.50084418 0.58171014 0.91979196 0.19719449 0.57652761\n",
      "  0.70601388 0.88376592 1.00819528 0.7138294  0.83658743 0.79468051\n",
      "  0.69956074 0.49895599 0.430267   0.94975928 0.84129238 0.60667304\n",
      "  0.97551826 0.85368942 0.73232642 0.33876913]\n",
      " [0.34066466 0.82734808 0.82542868 0.51448293 0.15224306 0.58234189\n",
      "  0.06131709 1.00416429 0.46129951 0.6488777  0.7151743  0.90611547\n",
      "  0.31047967 0.46830144 0.7037954  0.9874813  0.61563103 0.31554248\n",
      "  0.76704197 0.59003817 0.29700752 0.82118626 0.41908293 0.77042557\n",
      "  0.2609315  0.39065432 0.9648562  0.24595092 0.45707951 0.67429929\n",
      "  0.44112519 0.66351089 0.33283938 0.62279021 0.1417505  0.2496521\n",
      "  0.90280811 0.75399167 0.64434037 0.23705225 0.41182501 0.3267556\n",
      "  0.35957566 0.16938993 0.41832095 0.52279166 0.5496698  0.69615276\n",
      "  0.68132859 0.47186372 0.89535274 0.13448964 0.45729268 0.47361789\n",
      "  0.70893141 0.41542606 0.70527478 0.19381248 0.31639993 0.4833661\n",
      "  0.23740143 0.48577002 0.         0.94515893 0.19588056 0.63199322\n",
      "  0.67120096 0.98074356 0.80816332 0.77874466 0.32915539 0.70418083\n",
      "  0.1788646  0.76490156 0.20060219 0.91547165 1.0136086  0.68183273\n",
      "  0.51654091 0.75642029 0.09623075 0.45819349 0.36419438 0.77847987\n",
      "  0.22397725 0.84784378 0.9415779  0.7574117  0.84684873 0.79616425\n",
      "  0.54264736 0.26091998 0.42096719 0.80757677 0.58620358 0.35965112\n",
      "  0.79157349 0.53683481 0.45815013 0.2237811 ]\n",
      " [0.60636665 0.57409227 0.6820104  0.96086165 0.84626517 0.54820945\n",
      "  0.89262552 0.70309382 0.87141758 0.61620098 0.40628794 0.11504001\n",
      "  0.64601935 0.66614438 0.28687703 0.59308077 0.353875   0.93010705\n",
      "  0.21148171 0.53221093 1.0295368  0.34197581 0.73448279 0.32049739\n",
      "  0.9662547  0.98380217 0.64390023 1.05603605 1.03400707 0.68177505\n",
      "  0.96301283 0.30489543 0.91797716 0.37440137 0.86239341 1.02675415\n",
      "  0.48518925 0.61640183 0.43488646 0.71002672 0.54486886 0.74887604\n",
      "  0.9833607  0.80007217 0.72805055 0.4582362  0.40541078 0.60550179\n",
      "  0.85233371 0.63463778 0.12782547 0.82894905 0.5209552  0.47420929\n",
      "  0.82140796 0.72195347 0.29319753 0.78958269 0.7550145  0.9975133\n",
      "  0.82032973 0.96214954 0.94515893 0.         1.02774528 0.83028697\n",
      "  0.45647425 0.59136114 0.58195878 0.17170886 0.85554111 0.5920724\n",
      "  0.8807089  0.40672501 1.03745739 0.28257814 0.64896557 0.26973331\n",
      "  0.56775859 0.56234458 0.96316767 0.95163783 1.06173541 0.46823401\n",
      "  0.97192012 0.09781105 0.10125336 0.25061106 0.12668674 0.16806658\n",
      "  0.4157746  0.68424252 0.57275107 0.25127235 0.48930573 0.60077759\n",
      "  0.33024459 0.59964578 0.56155376 0.7845228 ]\n",
      " [0.43430863 0.79120674 0.76350852 0.36774438 0.18759555 0.74620368\n",
      "  0.24588286 0.94669573 0.65688199 0.60791064 0.72872939 0.96901804\n",
      "  0.3864575  0.43719556 0.82092361 0.95229583 0.67755247 0.51044596\n",
      "  0.87447964 0.58473604 0.11231979 0.84027922 0.60491215 0.90377247\n",
      "  0.45221916 0.58287079 0.9174572  0.05013302 0.28476574 0.61257918\n",
      "  0.6354931  0.72740267 0.52828874 0.74991336 0.17269035 0.0612454\n",
      "  0.88765    0.70796092 0.79075692 0.34057106 0.48407453 0.51040336\n",
      "  0.19831665 0.34110576 0.3712562  0.65326236 0.6613823  0.65511707\n",
      "  0.57223803 0.64443336 0.9564917  0.22072571 0.50891697 0.55840581\n",
      "  0.60892973 0.5994375  0.82473602 0.36912718 0.29248754 0.3236549\n",
      "  0.42775051 0.33731269 0.19588056 1.02774528 0.         0.52783843\n",
      "  0.82373445 0.94553388 0.77015051 0.87263154 0.23682357 0.66646231\n",
      "  0.14705832 0.91278503 0.009719   1.04521142 0.96827121 0.78178536\n",
      "  0.51547625 0.72431694 0.28467792 0.65320025 0.17619478 0.76940914\n",
      "  0.41362626 0.93401228 1.0418855  0.80955725 0.91586586 0.86628539\n",
      "  0.65775445 0.37585162 0.45987323 0.93009793 0.73873146 0.49424655\n",
      "  0.92769072 0.70712154 0.61104454 0.24322334]\n",
      " [0.51730454 0.34437497 0.27002652 0.20039264 0.48549086 0.87291364\n",
      "  0.63468341 0.44426165 0.9781921  0.21542977 0.42550016 0.72841239\n",
      "  0.47710712 0.24121623 0.77387644 0.48410565 0.52713262 0.8899826\n",
      "  0.78377117 0.30745849 0.439621   0.51487545 0.85808041 0.88705196\n",
      "  0.86158769 0.97439834 0.43173695 0.51262135 0.3144647  0.1594546\n",
      "  1.00599966 0.56058399 0.89812854 0.75449803 0.49246747 0.4782084\n",
      "  0.46866847 0.25896149 0.84479235 0.52605615 0.4799272  0.78002344\n",
      "  0.34491716 0.64849431 0.24148555 0.70192501 0.65372842 0.2378749\n",
      "  0.05063464 0.83087623 0.71375086 0.52216638 0.43656057 0.53241896\n",
      "  0.08120738 0.84528835 0.78372044 0.66943437 0.33576953 0.25827798\n",
      "  0.75246049 0.2233482  0.63199322 0.83028697 0.52783843 0.\n",
      "  0.89062083 0.47798358 0.32371978 0.7424413  0.30508616 0.25309916\n",
      "  0.45375439 0.94371007 0.53396593 0.98894544 0.48174782 0.69592792\n",
      "  0.30638164 0.30414561 0.72189418 1.0145337  0.41627248 0.39274553\n",
      "  0.83325225 0.76629631 0.89352553 0.5809886  0.70405168 0.67030049\n",
      "  0.6610765  0.54972713 0.40085434 0.87262671 0.82743214 0.62869515\n",
      "  0.91500418 0.86804654 0.74212434 0.4295716 ]\n",
      " [0.41934982 0.8001831  0.87997147 0.93008921 0.64174503 0.10818978\n",
      "  0.61001504 0.98391751 0.43520617 0.72749111 0.58733067 0.5037784\n",
      "  0.47356099 0.65457492 0.18928752 0.89806804 0.40327804 0.53314249\n",
      "  0.25348397 0.60873555 0.87448147 0.61473083 0.32080149 0.14457822\n",
      "  0.58728384 0.56640631 0.92320391 0.86702722 0.95498726 0.79695115\n",
      "  0.53272319 0.40094818 0.51575743 0.14616187 0.65457464 0.84954416\n",
      "  0.77624452 0.79087073 0.04628292 0.48916434 0.42093555 0.37484546\n",
      "  0.87127442 0.50192394 0.6833646  0.19313224 0.23813778 0.74781296\n",
      "  0.93243176 0.22395736 0.50381972 0.60334424 0.45481644 0.35879333\n",
      "  0.92339776 0.31252955 0.17871378 0.47910776 0.64452237 0.94170386\n",
      "  0.46802484 0.91697689 0.67120096 0.45647425 0.82373445 0.89062083\n",
      "  0.         0.89355037 0.79529224 0.31551241 0.75174238 0.7416889\n",
      "  0.69530901 0.096194   0.83234331 0.27426607 0.95017278 0.262191\n",
      "  0.5863482  0.74957738 0.64702114 0.51732296 0.92914797 0.68774625\n",
      "  0.60600157 0.38114683 0.38988604 0.46942853 0.44678674 0.41769186\n",
      "  0.22979672 0.45215091 0.49654097 0.21220726 0.08533006 0.33152117\n",
      "  0.15001524 0.16656678 0.21390326 0.61388759]\n",
      " [0.7102865  0.15484425 0.20961844 0.67618229 0.83133235 0.93303029\n",
      "  0.95722088 0.11401012 1.16917712 0.33813342 0.31968293 0.47791986\n",
      "  0.70525016 0.51614479 0.71336295 0.00678473 0.50551375 1.14304704\n",
      "  0.67580028 0.39612619 0.88288573 0.28166528 1.02379389 0.81442895\n",
      "  1.14226261 1.22203125 0.06449874 0.94568169 0.78744808 0.34028349\n",
      "  1.23154327 0.49502058 1.14230723 0.75089007 0.84462209 0.90981931\n",
      "  0.11767909 0.23844358 0.85122332 0.78287552 0.63406813 0.9805248\n",
      "  0.79627854 0.91922167 0.57663303 0.76102435 0.6876253  0.29059688\n",
      "  0.46307859 0.952847   0.46707574 0.84762225 0.57153416 0.62708021\n",
      "  0.4156543  1.00897021 0.72501374 0.92790942 0.67036815 0.73267965\n",
      "  0.9994767  0.69575643 0.98074356 0.59136114 0.94553388 0.47798358\n",
      "  0.89355037 0.         0.17551151 0.61102658 0.70949838 0.27998867\n",
      "  0.82712885 0.89850482 0.95375489 0.84926472 0.05868018 0.63274899\n",
      "  0.46801093 0.22465094 1.04946379 1.23122145 0.8760803  0.22292847\n",
      "  1.12666208 0.58392993 0.68755319 0.42783035 0.49901349 0.50106187\n",
      "  0.70088867 0.78464718 0.58316989 0.76538845 0.87013462 0.79247043\n",
      "  0.83754899 0.95805059 0.85182185 0.75749467]\n",
      " [0.55418804 0.02170752 0.10005426 0.51475462 0.65779972 0.81796341\n",
      "  0.78707924 0.20779149 1.02490858 0.16263857 0.210317   0.46852569\n",
      "  0.54282263 0.34155455 0.63022804 0.18228879 0.39245557 0.98557661\n",
      "  0.60953019 0.23375081 0.70941086 0.24000748 0.88280663 0.74032426\n",
      "  0.97994487 1.0665107  0.15868567 0.7709944  0.62259892 0.17193064\n",
      "  1.08057434 0.39767993 0.98650153 0.64920071 0.67076845 0.7351514\n",
      "  0.14559885 0.06672297 0.75033745 0.61839975 0.48198989 0.83084233\n",
      "  0.62460199 0.75548827 0.40118294 0.63993156 0.57043084 0.11509133\n",
      "  0.32076973 0.821046   0.45480654 0.67595585 0.41939769 0.48863223\n",
      "  0.27711628 0.86814694 0.64177579 0.76627742 0.49582104 0.56937404\n",
      "  0.84105731 0.53166174 0.80816332 0.58195878 0.77015051 0.32371978\n",
      "  0.79529224 0.17551151 0.         0.55105189 0.53437962 0.10474002\n",
      "  0.65207575 0.81713634 0.77841496 0.80333496 0.20577578 0.5460254\n",
      "  0.30167807 0.05447781 0.87959794 1.08212061 0.70549474 0.11731219\n",
      "  0.96215501 0.5457389  0.66575971 0.36220928 0.46654236 0.45071308\n",
      "  0.5826027  0.62365265 0.42253811 0.70298647 0.75833045 0.6455713\n",
      "  0.76614495 0.83504502 0.72019251 0.58447683]\n",
      " [0.44341656 0.54955036 0.64752339 0.84633392 0.68785882 0.39352949\n",
      "  0.72477574 0.71302304 0.70808576 0.53906459 0.34585001 0.18893919\n",
      "  0.48691141 0.5466828  0.12848163 0.61451597 0.22232893 0.75972243\n",
      "  0.06646593 0.43500429 0.88417389 0.33073267 0.56780647 0.20624854\n",
      "  0.7947812  0.81546231 0.65142211 0.90413673 0.90731372 0.60963718\n",
      "  0.79730539 0.18234343 0.74811837 0.20870952 0.70378442 0.87671837\n",
      "  0.49432829 0.56774306 0.2845157  0.54600738 0.38894081 0.57799492\n",
      "  0.84704423 0.63006499 0.60167957 0.28710106 0.23419122 0.5413231\n",
      "  0.77261993 0.46948238 0.1883571  0.66696971 0.37594091 0.31433228\n",
      "  0.74927657 0.55480141 0.1378364  0.61879331 0.61261374 0.87649346\n",
      "  0.6486229  0.84336764 0.77874466 0.17170886 0.87263154 0.7424413\n",
      "  0.31551241 0.61102658 0.55105189 0.         0.71805655 0.53047346\n",
      "  0.72634989 0.29399622 0.88228637 0.25381227 0.66951921 0.09841217\n",
      "  0.45187333 0.51711737 0.79312388 0.7870676  0.92201986 0.43418706\n",
      "  0.80021641 0.07579454 0.17023531 0.18953378 0.13152315 0.1107366\n",
      "  0.24424487 0.51821944 0.42926078 0.15468004 0.33101898 0.42999391\n",
      "  0.22749197 0.44052194 0.39162094 0.63048852]\n",
      " [0.33253501 0.55561016 0.52714458 0.20348845 0.19088639 0.70047634\n",
      "  0.33939578 0.71026531 0.72103346 0.37283797 0.51327372 0.78091699\n",
      "  0.27858703 0.21140601 0.69676162 0.71624551 0.50263015 0.60947941\n",
      "  0.73523109 0.36426581 0.18417958 0.62478204 0.62367257 0.79690145\n",
      "  0.57165375 0.69254819 0.68064465 0.23741226 0.2032506  0.37584621\n",
      "  0.73177984 0.55083546 0.62096812 0.64416119 0.19426567 0.20177341\n",
      "  0.656172   0.47151006 0.71078929 0.28604452 0.34467744 0.53392136\n",
      "  0.12899801 0.37700901 0.14240152 0.56126628 0.54320623 0.41958868\n",
      "  0.35346287 0.62565096 0.76730232 0.23450704 0.34255162 0.42047805\n",
      "  0.38416212 0.61337007 0.70335911 0.40252285 0.10935389 0.19575463\n",
      "  0.48352186 0.1804863  0.32915539 0.85554111 0.23682357 0.30508616\n",
      "  0.75174238 0.70949838 0.53437962 0.71805655 0.         0.4314406\n",
      "  0.15031121 0.82780596 0.24471039 0.92698175 0.73147889 0.63922519\n",
      "  0.30214384 0.48993208 0.42182424 0.7437033  0.20633184 0.54160188\n",
      "  0.53995688 0.76861989 0.88746387 0.61830574 0.7348276  0.68821251\n",
      "  0.54433308 0.32039752 0.28919429 0.8069713  0.67291644 0.43210843\n",
      "  0.82364174 0.67766557 0.55869818 0.15828286]\n",
      " [0.46230187 0.12515249 0.14488149 0.42931617 0.55345388 0.75250757\n",
      "  0.68438675 0.30418774 0.93803488 0.05860795 0.18814236 0.48457635\n",
      "  0.44615978 0.23691546 0.59083728 0.28677273 0.34154046 0.89030024\n",
      "  0.58235429 0.14483716 0.60878022 0.26362351 0.79891494 0.70410526\n",
      "  0.88164081 0.97225076 0.2608544  0.66859319 0.53220853 0.09412236\n",
      "  0.98915936 0.35910881 0.89228578 0.59625028 0.56628993 0.63280974\n",
      "  0.23029026 0.05538638 0.69573702 0.51977312 0.39440901 0.74135576\n",
      "  0.52646431 0.65684281 0.29667965 0.57318062 0.50828427 0.01529712\n",
      "  0.26468539 0.74398488 0.4700544  0.57252715 0.33318662 0.41217303\n",
      "  0.22995876 0.78447019 0.60196219 0.66899065 0.39115105 0.48115409\n",
      "  0.74563029 0.44301764 0.70418083 0.5920724  0.66646231 0.25309916\n",
      "  0.7416889  0.27998867 0.10474002 0.53047346 0.4314406  0.\n",
      "  0.54733982 0.7745033  0.67483258 0.7840016  0.30944432 0.50712042\n",
      "  0.20482784 0.05930493 0.7769676  0.99189434 0.60836313 0.13965279\n",
      "  0.86254546 0.53969143 0.66521877 0.35067104 0.46858073 0.44220661\n",
      "  0.51929852 0.52749262 0.32872499 0.67546011 0.69601668 0.55961275\n",
      "  0.73113487 0.76391254 0.64442915 0.48041038]\n",
      " [0.29176651 0.67233899 0.65894985 0.34185953 0.05769314 0.62647884\n",
      "  0.19288882 0.84041237 0.5928837  0.48984759 0.59001509 0.82255883\n",
      "  0.24170761 0.31123551 0.67868297 0.83391268 0.53068456 0.46874389\n",
      "  0.72996089 0.45055796 0.18010118 0.70077726 0.51308719 0.76579065\n",
      "  0.42581536 0.55015616 0.80527166 0.17893255 0.30270927 0.50668353\n",
      "  0.59328781 0.58052869 0.4821237  0.61112324 0.0517799  0.15576085\n",
      "  0.75987634 0.59364222 0.65944955 0.20617065 0.33749258 0.41910309\n",
      "  0.2041397  0.25067581 0.2521778  0.51693563 0.51915014 0.53760801\n",
      "  0.5028109  0.53460182 0.81015361 0.10474978 0.36210727 0.41245592\n",
      "  0.53150257 0.50490905 0.6830564  0.27858877 0.15794897 0.31805332\n",
      "  0.35371792 0.31459213 0.1788646  0.8807089  0.14705832 0.45375439\n",
      "  0.69530901 0.82712885 0.65207575 0.72634989 0.15031121 0.54733982\n",
      "  0.         0.78092379 0.15677515 0.90522041 0.85521047 0.63648652\n",
      "  0.3788425  0.60293301 0.27189836 0.60702015 0.23993068 0.63844982\n",
      "  0.39255425 0.78712687 0.89591697 0.66377444 0.76898708 0.71932624\n",
      "  0.51642142 0.24316102 0.31373927 0.78859588 0.61150758 0.36381337\n",
      "  0.79055728 0.59356687 0.48672951 0.09619978]\n",
      " [0.49785145 0.81953875 0.90713943 0.99857013 0.72873714 0.20185357\n",
      "  0.70387083 0.99546941 0.52139505 0.76712648 0.60684076 0.4730323\n",
      "  0.55210616 0.71370827 0.18720508 0.9024559  0.43308146 0.62709232\n",
      "  0.22754496 0.65001859 0.95882505 0.61686246 0.41456204 0.0891621\n",
      "  0.68252112 0.6568188  0.9340063  0.95496656 1.03069891 0.83799747\n",
      "  0.61995442 0.41968821 0.60918429 0.19016847 0.74212555 0.93609383\n",
      "  0.78089956 0.82038993 0.1220368  0.57505211 0.48857193 0.47100174\n",
      "  0.95032264 0.59592876 0.74890809 0.2671066  0.29325653 0.7822409\n",
      "  0.98289536 0.31942872 0.47580854 0.69206329 0.51391428 0.41962063\n",
      "  0.96979989 0.40698098 0.1755715  0.57372755 0.71919072 1.01401358\n",
      "  0.56419523 0.98739792 0.76490156 0.40672501 0.91278503 0.94371007\n",
      "  0.096194   0.89850482 0.81713634 0.29399622 0.82780596 0.7745033\n",
      "  0.78092379 0.         0.92157358 0.18517452 0.95641991 0.27115337\n",
      "  0.63734162 0.77526162 0.74277631 0.60326742 1.0114247  0.70455806\n",
      "  0.70183117 0.34673712 0.32641753 0.47073311 0.42299639 0.40383361\n",
      "  0.2885307  0.53847338 0.56006084 0.15577905 0.1791208  0.41866809\n",
      "  0.07675782 0.25982066 0.30676073 0.69623358]\n",
      " [0.44378895 0.79950495 0.77104277 0.37164228 0.19698041 0.75434338\n",
      "  0.2518656  0.95423658 0.66186474 0.61626279 0.73807116 0.97871894\n",
      "  0.39605273 0.44606349 0.8303327  0.96051372 0.68726889 0.51437291\n",
      "  0.88402256 0.59389155 0.11347728 0.84964705 0.61158932 0.9129224\n",
      "  0.45538624 0.5860703  0.92534122 0.04588332 0.28642313 0.62029945\n",
      "  0.63918189 0.73711916 0.5324406  0.75913088 0.1819839  0.06281022\n",
      "  0.89639696 0.71605607 0.79953983 0.34974549 0.49375579 0.51719392\n",
      "  0.20193433 0.34830518 0.37991465 0.66236196 0.67080636 0.66341043\n",
      "  0.57802297 0.65208041 0.96618764 0.22956357 0.51863244 0.56804746\n",
      "  0.61510745 0.60627413 0.83411175 0.37622802 0.30184923 0.32656676\n",
      "  0.43379231 0.34119651 0.20060219 1.03745739 0.009719   0.53396593\n",
      "  0.83234331 0.95375489 0.77841496 0.88228637 0.24471039 0.67483258\n",
      "  0.15677515 0.92157358 0.         1.05446897 0.97618708 0.79137953\n",
      "  0.5247687  0.73277648 0.28796071 0.65710504 0.17575557 0.77835155\n",
      "  0.41661255 0.94371011 1.0515172  0.81923069 0.92558221 0.87600374\n",
      "  0.66712885 0.38491545 0.46956843 0.93945495 0.74729846 0.50310545\n",
      "  0.93678766 0.71493286 0.61950991 0.25293645]\n",
      " [0.61365992 0.800795   0.90062541 1.07645754 0.85780956 0.38245576\n",
      "  0.85576051 0.95601389 0.70634108 0.79050107 0.59960874 0.38007036\n",
      "  0.66551785 0.77898271 0.23022884 0.85201571 0.46199662 0.80684378\n",
      "  0.20518454 0.68233089 1.0768419  0.57546193 0.59482551 0.1454506\n",
      "  0.8591059  0.84031276 0.89482784 1.08346266 1.12524464 0.86151208\n",
      "  0.80473874 0.42997308 0.78977885 0.29555391 0.87252442 1.06067388\n",
      "  0.73541775 0.82152958 0.28220117 0.70487101 0.58279939 0.64279821\n",
      "  1.0544752  0.74984571 0.82648706 0.39418524 0.38727609 0.79461439\n",
      "  1.02161897 0.49649711 0.38800148 0.8267496  0.58975092 0.50652621\n",
      "  1.00035781 0.58612083 0.22400806 0.73062671 0.81793483 1.10059023\n",
      "  0.73242197 1.06999485 0.91547165 0.28257814 1.04521142 0.98894544\n",
      "  0.27426607 0.84926472 0.80333496 0.25381227 0.92698175 0.7840016\n",
      "  0.90522041 0.18517452 1.05446897 0.         0.90790553 0.29595503\n",
      "  0.68958197 0.77069196 0.90467821 0.7882887  1.12309929 0.68611031\n",
      "  0.87569327 0.26534333 0.18349889 0.44113608 0.35025788 0.35401894\n",
      "  0.38900112 0.67052743 0.64167372 0.12034799 0.34646087 0.55734907\n",
      "  0.12770692 0.44083236 0.46440678 0.81383578]\n",
      " [0.75420465 0.18769612 0.21245084 0.68193214 0.86285049 0.98767188\n",
      "  0.99284882 0.06497646 1.21789525 0.36568146 0.37203535 0.53588925\n",
      "  0.74616967 0.5460864  0.77094584 0.05605194 0.55921586 1.18686321\n",
      "  0.73417212 0.43616229 0.90017009 0.33975325 1.07330333 0.87263189\n",
      "  1.1836094  1.26676305 0.0511083  0.96555348 0.79511039 0.35675801\n",
      "  1.27808608 0.55068547 1.18686342 0.80692283 0.87557717 0.92971907\n",
      "  0.17557816 0.26162677 0.90751997 0.82271036 0.67935673 1.02730016\n",
      "  0.81104192 0.95961394 0.6032533  0.81438934 0.74143901 0.31801225\n",
      "  0.46094008 1.00450402 0.52521488 0.88166013 0.61659777 0.67643154\n",
      "  0.41312333 1.05850629 0.78260867 0.96949947 0.70010461 0.73942272\n",
      "  1.04274374 0.70340694 1.0136086  0.64896557 0.96827121 0.48174782\n",
      "  0.95017278 0.05868018 0.20577578 0.66951921 0.73147889 0.30944432\n",
      "  0.85521047 0.95641991 0.97618708 0.90790553 0.         0.6899107\n",
      "  0.5062161  0.25897467 1.08535962 1.2784305  0.88910614 0.27289523\n",
      "  1.16668627 0.64257773 0.7456144  0.48568703 0.55764913 0.55964711\n",
      "  0.75456581 0.82642705 0.62477082 0.8239381  0.92514308 0.83988411\n",
      "  0.89587905 1.01144408 0.90334919 0.78984765]\n",
      " [0.34941573 0.54841408 0.63680811 0.78116071 0.59563138 0.32057804\n",
      "  0.62724764 0.72632136 0.62146493 0.50512357 0.33571288 0.26924987\n",
      "  0.3953279  0.48309876 0.08431756 0.637089   0.1699109  0.6647859\n",
      "  0.0960108  0.39188566 0.79918634 0.35278453 0.47816437 0.19698921\n",
      "  0.69796917 0.72304776 0.66509537 0.8151022  0.83386593 0.5765167\n",
      "  0.7078481  0.14907666 0.6539266  0.12886413 0.61137448 0.78890084\n",
      "  0.51517639 0.55109364 0.22248673 0.4508148  0.30102234 0.48251616\n",
      "  0.76793541 0.5317846  0.53199771 0.19209635 0.13579118 0.51583462\n",
      "  0.73074611 0.38248083 0.26484183 0.57264269 0.29761246 0.22451247\n",
      "  0.71264866 0.46464307 0.0957908  0.52038301 0.53155969 0.80688579\n",
      "  0.55100098 0.77549931 0.68183273 0.26973331 0.78178536 0.69592792\n",
      "  0.262191   0.63274899 0.5460254  0.09841217 0.63922519 0.50712042\n",
      "  0.63648652 0.27115337 0.79137953 0.29595503 0.6899107  0.\n",
      "  0.39402424 0.50481495 0.69481235 0.69883664 0.84033831 0.43359024\n",
      "  0.70260929 0.17253616 0.2612119  0.20723754 0.20586427 0.16544715\n",
      "  0.14605312 0.4218988  0.35059883 0.17718893 0.2559172  0.33159014\n",
      "  0.22413899 0.36121889 0.29842524 0.54135019]\n",
      " [0.25847552 0.31860211 0.34630227 0.3956063  0.37155858 0.57742503\n",
      "  0.4897387  0.50762752 0.73593478 0.16314559 0.21356264 0.48378165\n",
      "  0.24164053 0.0984988  0.4693035  0.47464785 0.22995798 0.68556579\n",
      "  0.48552339 0.07350678 0.48553326 0.32536096 0.59963485 0.5817395\n",
      "  0.67831835 0.76742563 0.46030948 0.52971495 0.46676682 0.22219267\n",
      "  0.78474394 0.27119223 0.68745826 0.44835159 0.38616767 0.49579845\n",
      "  0.38632758 0.25990186 0.54025487 0.31672758 0.19570293 0.53803903\n",
      "  0.42411242 0.45381031 0.16370937 0.40138122 0.34849888 0.20216225\n",
      "  0.34634866 0.55262387 0.46973938 0.38226874 0.13950053 0.23160488\n",
      "  0.33788572 0.58546278 0.47880693 0.46490875 0.22317832 0.42988119\n",
      "  0.54089574 0.39495419 0.51654091 0.56775859 0.51547625 0.30638164\n",
      "  0.5863482  0.46801093 0.30167807 0.45187333 0.30214384 0.20482784\n",
      "  0.3788425  0.63734162 0.5247687  0.68958197 0.5062161  0.39402424\n",
      "  0.         0.24754357 0.581739   0.78789725 0.50578656 0.26236578\n",
      "  0.66057449 0.48899147 0.61407075 0.32181909 0.44296818 0.39996817\n",
      "  0.35656778 0.3228513  0.12453769 0.57119676 0.52737986 0.36002935\n",
      "  0.60971761 0.58021014 0.45628    0.29683772]\n",
      " [0.49974398 0.07131473 0.13200783 0.48628044 0.60671633 0.76865846\n",
      "  0.73421206 0.26215934 0.97102418 0.11738495 0.17161443 0.45139195\n",
      "  0.48846671 0.29174013 0.5891275  0.2314192  0.34631264 0.93110449\n",
      "  0.57309849 0.1792736  0.66791343 0.22439723 0.82932671 0.70069705\n",
      "  0.92568184 1.01203547 0.21279956 0.72723521 0.590515   0.14532755\n",
      "  1.02622131 0.35576755 0.93202584 0.60342522 0.61997357 0.69148617\n",
      "  0.17134951 0.05419573 0.70422627 0.56425828 0.42780745 0.77661636\n",
      "  0.58576811 0.70131007 0.35368838 0.59002539 0.52165092 0.07311995\n",
      "  0.30960621 0.76883703 0.43717192 0.62368608 0.36529203 0.43615217\n",
      "  0.27023885 0.81469642 0.60055246 0.71192896 0.44585316 0.5389208\n",
      "  0.78659275 0.50084418 0.75642029 0.56234458 0.72431694 0.30414561\n",
      "  0.74957738 0.22465094 0.05447781 0.51711737 0.48993208 0.05930493\n",
      "  0.60293301 0.77526162 0.73277648 0.77069196 0.25897467 0.50481495\n",
      "  0.24754357 0.         0.82666108 1.02786387 0.66764244 0.09568732\n",
      "  0.90811179 0.51819244 0.64124249 0.33088543 0.4423761  0.42150741\n",
      "  0.53352504 0.56924042 0.36806992 0.66669419 0.70985294 0.59167854\n",
      "  0.72703697 0.78424055 0.6681838  0.53298301]\n",
      " [0.37386396 0.89795395 0.90377704 0.61026413 0.23682838 0.54990174\n",
      "  0.09258736 1.07973671 0.38242484 0.72355645 0.76975775 0.9350788\n",
      "  0.35606986 0.5444624  0.70537642 1.05613401 0.65127137 0.22775266\n",
      "  0.77348012 0.65454727 0.39042629 0.87160056 0.36456958 0.75934431\n",
      "  0.16755869 0.29819311 1.03765177 0.333844   0.55291164 0.75434036\n",
      "  0.35155814 0.69680657 0.24695916 0.61961839 0.22945442 0.34167276\n",
      "  0.96536567 0.82857384 0.62589605 0.2769233  0.45122155 0.28002683\n",
      "  0.45568511 0.16310052 0.50023198 0.52059658 0.55942199 0.77006936\n",
      "  0.77172059 0.43349895 0.92536568 0.20633734 0.50402853 0.50288485\n",
      "  0.79741871 0.36393708 0.70526354 0.17621439 0.39738951 0.57959519\n",
      "  0.18407758 0.58171014 0.09623075 0.96316767 0.28467792 0.72189418\n",
      "  0.64702114 1.04946379 0.87959794 0.79312388 0.42182424 0.7769676\n",
      "  0.27189836 0.74277631 0.28796071 0.90467821 1.08535962 0.69481235\n",
      "  0.581739   0.82666108 0.         0.37005805 0.45731916 0.84051953\n",
      "  0.12928989 0.86535737 0.94945879 0.79426367 0.87362532 0.82328141\n",
      "  0.55043731 0.28991166 0.47515535 0.80342542 0.56414125 0.36357676\n",
      "  0.77807929 0.49898575 0.44042685 0.30148471]\n",
      " [0.52961011 1.09593905 1.13416785 0.94557584 0.55540265 0.4115984\n",
      "  0.41855649 1.28988857 0.08211822 0.94999202 0.91583689 0.96807292\n",
      "  0.55159873 0.79305721 0.66476608 1.23727701 0.74470984 0.14275472\n",
      "  0.74020005 0.8494128  0.75446943 0.99220991 0.22107688 0.6607908\n",
      "  0.20620216 0.08558094 1.23741045 0.70290871 0.90703611 1.00035265\n",
      "  0.02368134 0.77459485 0.12587307 0.57857276 0.5560014  0.70781389\n",
      "  1.12642708 1.04723986 0.52407683 0.49004505 0.60017687 0.25132604\n",
      "  0.80797444 0.36847703 0.77382509 0.51032893 0.58092517 0.99000052\n",
      "  1.06501252 0.31759671 0.96328255 0.5096493  0.6628781  0.60596683\n",
      "  1.07974461 0.23509487 0.65861622 0.34561346 0.68014886 0.92505762\n",
      "  0.26257297 0.91979196 0.45819349 0.95163783 0.65320025 1.0145337\n",
      "  0.51732296 1.23122145 1.08212061 0.7870676  0.7437033  0.99189434\n",
      "  0.60702015 0.60326742 0.65710504 0.7882887  1.2784305  0.69883664\n",
      "  0.78789725 1.02786387 0.37005805 0.         0.82169708 1.00843633\n",
      "  0.24576315 0.86207726 0.9004211  0.87190451 0.90450045 0.86116583\n",
      "  0.56735153 0.47161459 0.66341557 0.72524955 0.46419598 0.43875381\n",
      "  0.6672131  0.35538542 0.40370258 0.59149552]\n",
      " [0.51429853 0.72719506 0.67731933 0.22570291 0.29737604 0.86482702\n",
      "  0.40524462 0.85750288 0.81855903 0.55131796 0.71338307 0.98688818\n",
      "  0.4604785  0.41094001 0.89331316 0.88263801 0.70848826 0.67934357\n",
      "  0.93611473 0.56352888 0.06723329 0.82386461 0.75025158 0.98857049\n",
      "  0.62449114 0.75468413 0.83811359 0.13341333 0.11987517 0.535833\n",
      "  0.80510847 0.75692903 0.69594795 0.83408956 0.28865049 0.11609239\n",
      "  0.83830287 0.63941159 0.89123016 0.44191576 0.541161   0.65560245\n",
      "  0.08304438 0.4849667  0.34259202 0.74475818 0.73629486 0.59473361\n",
      "  0.45246796 0.77453032 0.9731947  0.34322067 0.54608708 0.61804347\n",
      "  0.49561616 0.74276651 0.89911055 0.51339678 0.30943263 0.17078387\n",
      "  0.58252383 0.19719449 0.36419438 1.06173541 0.17619478 0.41627248\n",
      "  0.92914797 0.8760803  0.70549474 0.92201986 0.20633184 0.60836313\n",
      "  0.23993068 1.0114247  0.17575557 1.12309929 0.88910614 0.84033831\n",
      "  0.50578656 0.66764244 0.45731916 0.82169708 0.         0.73117945\n",
      "  0.58660406 0.9742025  1.09188883 0.82425381 0.94115453 0.89451203\n",
      "  0.73578466 0.47908663 0.49280748 1.00393626 0.84660742 0.59910601\n",
      "  1.01450533 0.83322952 0.7240556  0.31538186]\n",
      " [0.49028726 0.11571399 0.21613112 0.56489268 0.6338245  0.7179755\n",
      "  0.74934679 0.29758347 0.94626977 0.18630093 0.1010257  0.35637747\n",
      "  0.48949942 0.33244093 0.51735752 0.22890075 0.28894404 0.9223507\n",
      "  0.49348084 0.18900156 0.72427154 0.12873766 0.80104674 0.62594966\n",
      "  0.92427828 1.00051443 0.23832773 0.77783489 0.66369802 0.23353788\n",
      "  1.00897823 0.28716623 0.92097929 0.54235866 0.64830048 0.7426242\n",
      "  0.12484916 0.14974033 0.6436249  0.56839802 0.41287307 0.7579374\n",
      "  0.64827606 0.70316086 0.40003292 0.54277296 0.4706375  0.15490277\n",
      "  0.40246277 0.73163781 0.34227116 0.64404238 0.35080434 0.40422831\n",
      "  0.36472034 0.78623045 0.52898655 0.71011152 0.48079693 0.61467951\n",
      "  0.77950386 0.57652761 0.77847987 0.46823401 0.76940914 0.39274553\n",
      "  0.68774625 0.22292847 0.11731219 0.43418706 0.54160188 0.13965279\n",
      "  0.63844982 0.70455806 0.77835155 0.68611031 0.27289523 0.43359024\n",
      "  0.26236578 0.09568732 0.84051953 1.00843633 0.73117945 0.\n",
      "  0.91050277 0.42869969 0.54965756 0.24504514 0.35038491 0.33342252\n",
      "  0.48350455 0.56711462 0.36737669 0.58675688 0.65648063 0.56972161\n",
      "  0.65136243 0.73965936 0.63047174 0.55909971]\n",
      " [0.42358088 0.979158   0.9960828  0.73393234 0.34990186 0.50102938\n",
      "  0.20056194 1.16673092 0.27126325 0.81242259 0.83078373 0.95899688\n",
      "  0.42151681 0.63820814 0.69761072 1.13318414 0.69019176 0.10838934\n",
      "  0.77040793 0.73088299 0.51968349 0.92537431 0.29410307 0.73300508\n",
      "  0.03961075 0.16974172 1.12083209 0.46246933 0.68096148 0.85041246\n",
      "  0.22572572 0.73137545 0.13017334 0.60832456 0.34569924 0.470951\n",
      "  1.0346024  0.91610132 0.59352355 0.34399358 0.5030876  0.23305615\n",
      "  0.58311973 0.20749287 0.60230933 0.51512253 0.5679487  0.85730242\n",
      "  0.88364683 0.38254053 0.95084805 0.31108594 0.56230528 0.53941279\n",
      "  0.90601735 0.29839803 0.69535863 0.20176225 0.50065235 0.70579649\n",
      "  0.15160959 0.70601388 0.22397725 0.97192012 0.41362626 0.83325225\n",
      "  0.60600157 1.12666208 0.96215501 0.80021641 0.53995688 0.86254546\n",
      "  0.39255425 0.70183117 0.41661255 0.87569327 1.16668627 0.70260929\n",
      "  0.66057449 0.90811179 0.12928989 0.24576315 0.58660406 0.91050277\n",
      "  0.         0.87512961 0.94481964 0.83125119 0.89564531 0.84672078\n",
      "  0.55678699 0.34356718 0.54376906 0.78540487 0.52923721 0.37814566\n",
      "  0.74801473 0.44479884 0.41876535 0.40469331]\n",
      " [0.50973656 0.54126962 0.64479767 0.88445241 0.75123433 0.46505212\n",
      "  0.79501852 0.69093264 0.78276227 0.55617631 0.35158246 0.12634375\n",
      "  0.55054348 0.58641573 0.19976365 0.58670984 0.26616435 0.8354846\n",
      "  0.12789733 0.46162852 0.93960763 0.31201434 0.64320776 0.25760309\n",
      "  0.87015374 0.89117026 0.62987856 0.96353384 0.95215667 0.62479809\n",
      "  0.87256976 0.21930698 0.82391192 0.28350509 0.76730799 0.93495051\n",
      "  0.47027433 0.5710182  0.35386463 0.613204   0.45019609 0.65368302\n",
      "  0.89717303 0.70226262 0.64554688 0.36276945 0.30794058 0.55193109\n",
      "  0.79250405 0.54449163 0.13004    0.7327705  0.42995825 0.37817877\n",
      "  0.76527979 0.63029035 0.20782629 0.69185436 0.66583807 0.91817764\n",
      "  0.72352006 0.88376592 0.84784378 0.09781105 0.93401228 0.76629631\n",
      "  0.38114683 0.58392993 0.5457389  0.07579454 0.76861989 0.53969143\n",
      "  0.78712687 0.34673712 0.94371011 0.26534333 0.64257773 0.17253616\n",
      "  0.48899147 0.51819244 0.86535737 0.86207726 0.9742025  0.42869969\n",
      "  0.87512961 0.         0.12723156 0.18902168 0.08498536 0.09749274\n",
      "  0.31854104 0.58693185 0.48256378 0.19432885 0.40365816 0.50307108\n",
      "  0.27386435 0.51370736 0.46741488 0.69094534]\n",
      " [0.61056847 0.65973487 0.76551101 1.00967262 0.85636519 0.49002726\n",
      "  0.88587861 0.79806107 0.81886478 0.68308172 0.47712594 0.20977885\n",
      "  0.65565167 0.71079795 0.24720897 0.68959053 0.38770426 0.89296725\n",
      "  0.17600322 0.58866248 1.05440227 0.42770941 0.68911039 0.2466192\n",
      "  0.93520484 0.93994569 0.73808042 1.07398502 1.07464271 0.75135704\n",
      "  0.91370249 0.34306859 0.87896194 0.33667094 0.87218619 1.04679259\n",
      "  0.57847968 0.69462504 0.37655229 0.71195827 0.55875509 0.71547666\n",
      "  1.01639387 0.78729874 0.76826961 0.4311426  0.39208644 0.6777523\n",
      "  0.91952389 0.58791186 0.22051593 0.83385448 0.54583365 0.48351281\n",
      "  0.89181975 0.67770589 0.24982557 0.77353107 0.78255875 1.04211718\n",
      "  0.79443257 1.00819528 0.9415779  0.10125336 1.0418855  0.89352553\n",
      "  0.38988604 0.68755319 0.66575971 0.17023531 0.88746387 0.66521877\n",
      "  0.89591697 0.32641753 1.0515172  0.18349889 0.7456144  0.2612119\n",
      "  0.61407075 0.64124249 0.94945879 0.9004211  1.09188883 0.54965756\n",
      "  0.94481964 0.12723156 0.         0.3150345  0.1992799  0.22392214\n",
      "  0.39986767 0.68256304 0.59908245 0.17769574 0.43666137 0.58638097\n",
      "  0.25009153 0.54510353 0.526992   0.80022195]\n",
      " [0.420648   0.36014556 0.45971493 0.71146781 0.63802042 0.52158466\n",
      "  0.71252189 0.52596655 0.7994574  0.36857432 0.16258605 0.1626345\n",
      "  0.4471155  0.42017835 0.28580635 0.43186523 0.14299295 0.81483993\n",
      "  0.25096463 0.28178353 0.79782386 0.1463746  0.65219353 0.38757939\n",
      "  0.83486071 0.88307603 0.4643604  0.83233914 0.78835616 0.43637064\n",
      "  0.8775738  0.10010038 0.80791972 0.33186842 0.65417796 0.80078625\n",
      "  0.31018718 0.38302209 0.42920845 0.52163954 0.34572526 0.63493215\n",
      "  0.74381171 0.63605665 0.48475479 0.36591671 0.2923972  0.3629369\n",
      "  0.60517545 0.56533245 0.14901175 0.62989789 0.30399958 0.29295158\n",
      "  0.57681204 0.63770874 0.29742242 0.63307017 0.52433472 0.74976937\n",
      "  0.68396259 0.7138294  0.7574117  0.25061106 0.80955725 0.5809886\n",
      "  0.46942853 0.42783035 0.36220928 0.18953378 0.61830574 0.35067104\n",
      "  0.66377444 0.47073311 0.81923069 0.44113608 0.48568703 0.20723754\n",
      "  0.32181909 0.33088543 0.79426367 0.87190451 0.82425381 0.24504514\n",
      "  0.83125119 0.18902168 0.3150345  0.         0.12393221 0.09153631\n",
      "  0.30620317 0.50443928 0.35006328 0.34332872 0.45695044 0.45533285\n",
      "  0.41160491 0.55587132 0.46968773 0.56939379]\n",
      " [0.50619239 0.46084734 0.56624478 0.83480052 0.73826107 0.52102327\n",
      "  0.79752288 0.60642348 0.82732366 0.49050061 0.28137721 0.06402656\n",
      "  0.54071872 0.54146417 0.25846066 0.50175979 0.23831346 0.86559363\n",
      "  0.19656364 0.40563013 0.91153415 0.22956999 0.68364166 0.3341633\n",
      "  0.89433287 0.9267132  0.54550709 0.94171078 0.90968923 0.55694877\n",
      "  0.91318476 0.18846372 0.85585695 0.33157185 0.75447285 0.91134603\n",
      "  0.38576094 0.4959814  0.41445093 0.60986874 0.43823122 0.68309385\n",
      "  0.8617737  0.71162617 0.60455369 0.39565992 0.33071589 0.48161644\n",
      "  0.72693912 0.588344   0.05906809 0.72493979 0.40695701 0.37333982\n",
      "  0.69701905 0.66997612 0.2684386  0.70446758 0.63690966 0.87222427\n",
      "  0.74483843 0.83658743 0.84684873 0.12668674 0.91586586 0.70405168\n",
      "  0.44678674 0.49901349 0.46654236 0.13152315 0.7348276  0.46858073\n",
      "  0.76898708 0.42299639 0.92558221 0.35025788 0.55764913 0.20586427\n",
      "  0.44296818 0.4423761  0.87362532 0.90450045 0.94115453 0.35038491\n",
      "  0.89564531 0.08498536 0.1992799  0.12393221 0.         0.05068521\n",
      "  0.34320052 0.58758408 0.45702426 0.27496747 0.45732348 0.51809154\n",
      "  0.35288787 0.56516529 0.50267364 0.67321761]\n",
      " [0.45550938 0.44727389 0.54917353 0.79398711 0.68803399 0.48512575\n",
      "  0.746904   0.6044984  0.78492808 0.45917413 0.25411584 0.11237392\n",
      "  0.49017583 0.49826155 0.22847016 0.50441965 0.188941   0.81864506\n",
      "  0.17684578 0.36747432 0.86367546 0.22234668 0.64010054 0.31672287\n",
      "  0.84606136 0.88112651 0.54299785 0.89268409 0.86597829 0.52749753\n",
      "  0.8692069  0.13917038 0.80938299 0.29381906 0.70424191 0.86260605\n",
      "  0.38487873 0.47404248 0.38228956 0.55918378 0.38772492 0.63628467\n",
      "  0.81572321 0.66144988 0.55998543 0.35110474 0.28393324 0.45443999\n",
      "  0.69566333 0.54641611 0.10434839 0.67437798 0.35751814 0.32267048\n",
      "  0.66797426 0.62621809 0.23931603 0.6546221  0.58898819 0.82983457\n",
      "  0.69620749 0.79468051 0.79616425 0.16806658 0.86628539 0.67030049\n",
      "  0.41769186 0.50106187 0.45071308 0.1107366  0.68821251 0.44220661\n",
      "  0.71932624 0.40383361 0.87600374 0.35401894 0.55964711 0.16544715\n",
      "  0.39996817 0.42150741 0.82328141 0.86116583 0.89451203 0.33342252\n",
      "  0.84672078 0.09749274 0.22392214 0.09153631 0.05068521 0.\n",
      "  0.29677319 0.53695959 0.40812054 0.26438651 0.42071306 0.46883038\n",
      "  0.33822851 0.52666452 0.45813374 0.62343758]\n",
      " [0.22470815 0.59023488 0.66099009 0.71021993 0.47015895 0.23537208\n",
      "  0.48621876 0.78068374 0.49360112 0.50072567 0.38290056 0.40721\n",
      "  0.27663185 0.42674063 0.16350914 0.70614935 0.19539896 0.5224067\n",
      "  0.22451919 0.38187927 0.68813283 0.43671576 0.34674504 0.25301704\n",
      "  0.55295625 0.58443373 0.7218317  0.69495176 0.74599969 0.56920792\n",
      "  0.57420588 0.2129225  0.5127337  0.10010261 0.48521642 0.67173614\n",
      "  0.58700823 0.5706913  0.18378152 0.31900725 0.20112909 0.33989638\n",
      "  0.66976993 0.38777946 0.46037758 0.06078533 0.01384239 0.52415563\n",
      "  0.70264749 0.25952677 0.40069801 0.44174408 0.22652764 0.13127139\n",
      "  0.69386534 0.332433   0.16698293 0.37521216 0.43503364 0.72696152\n",
      "  0.40520668 0.69956074 0.54264736 0.4157746  0.65775445 0.6610765\n",
      "  0.22979672 0.70088867 0.5826027  0.24424487 0.54433308 0.51929852\n",
      "  0.51642142 0.2885307  0.66712885 0.38900112 0.75456581 0.14605312\n",
      "  0.35656778 0.53352504 0.55043731 0.56735153 0.73578466 0.48350455\n",
      "  0.55678699 0.31854104 0.39986767 0.30620317 0.34320052 0.29677319\n",
      "  0.         0.28668126 0.27155459 0.27238603 0.17676939 0.18687502\n",
      "  0.27943819 0.25724003 0.16387025 0.42487708]\n",
      " [0.08398361 0.63965269 0.66668627 0.51877225 0.19027994 0.38628973\n",
      "  0.20994707 0.83035457 0.42914894 0.48174484 0.48783291 0.64788915\n",
      "  0.08140378 0.32163471 0.44996625 0.7911015  0.3614658  0.36283829\n",
      "  0.50942481 0.3903879  0.42263599 0.58534016 0.3111521  0.5281768\n",
      "  0.35762392 0.44523635 0.78185834 0.41672701 0.51858624 0.52922506\n",
      "  0.46620912 0.40752165 0.3654462  0.37497353 0.20391588 0.39772421\n",
      "  0.69106865 0.58229223 0.41671663 0.03719172 0.16241373 0.23032262\n",
      "  0.42761221 0.13698281 0.30853481 0.27747846 0.29225879 0.52398596\n",
      "  0.59954974 0.30526703 0.63765285 0.15622586 0.21925366 0.21452759\n",
      "  0.61070487 0.29932898 0.45272924 0.14326363 0.22765929 0.51615137\n",
      "  0.21819081 0.49895599 0.26091998 0.68424252 0.37585162 0.54972713\n",
      "  0.45215091 0.78464718 0.62365265 0.51821944 0.32039752 0.52749262\n",
      "  0.24316102 0.53847338 0.38491545 0.67052743 0.82642705 0.4218988\n",
      "  0.3228513  0.56924042 0.28991166 0.47161459 0.47908663 0.56711462\n",
      "  0.34356718 0.58693185 0.68256304 0.50443928 0.58758408 0.53695959\n",
      "  0.28668126 0.         0.20167784 0.55730915 0.36843314 0.12065892\n",
      "  0.55188733 0.35865922 0.24502638 0.16721037]\n",
      " [0.13393955 0.4381906  0.47083412 0.43947287 0.28988498 0.4721517\n",
      "  0.38547959 0.62977894 0.61163212 0.28734955 0.29512026 0.50918347\n",
      "  0.12227863 0.16013332 0.41229383 0.58965221 0.21929043 0.56304301\n",
      "  0.44658129 0.18891007 0.45710158 0.40022668 0.47666101 0.51777272\n",
      "  0.55916081 0.64422788 0.58044166 0.48468731 0.48379832 0.34294306\n",
      "  0.66044974 0.26895642 0.56421533 0.37060282 0.30587676 0.45449208\n",
      "  0.49198983 0.38399152 0.45180417 0.20103109 0.07909607 0.41351754\n",
      "  0.41816017 0.33627736 0.18895802 0.30441447 0.26719551 0.32658508\n",
      "  0.44641702 0.43507797 0.49661944 0.28795512 0.05337284 0.14053711\n",
      "  0.44622901 0.46266782 0.41983063 0.34486317 0.18354497 0.45953214\n",
      "  0.4185253  0.430267   0.42096719 0.57275107 0.45987323 0.40085434\n",
      "  0.49654097 0.58316989 0.42253811 0.42926078 0.28919429 0.32872499\n",
      "  0.31373927 0.56006084 0.46956843 0.64167372 0.62477082 0.35059883\n",
      "  0.12453769 0.36806992 0.47515535 0.66341557 0.49280748 0.36737669\n",
      "  0.54376906 0.48256378 0.59908245 0.35006328 0.45702426 0.40812054\n",
      "  0.27155459 0.20167784 0.         0.52133123 0.42848316 0.23776618\n",
      "  0.54529384 0.46816169 0.34248013 0.21954192]\n",
      " [0.49683349 0.70240408 0.79806533 0.95642677 0.74250601 0.31383162\n",
      "  0.74890642 0.86770124 0.64338928 0.67814956 0.49510617 0.32034965\n",
      "  0.54787387 0.65946346 0.11063371 0.7687877  0.34564775 0.72579805\n",
      "  0.0935991  0.5672948  0.95861091 0.4854074  0.51788824 0.06979314\n",
      "  0.7724645  0.76818932 0.80609824 0.9672572  1.00494243 0.7494686\n",
      "  0.73928856 0.31741922 0.71055673 0.1848645  0.75750247 0.94366469\n",
      "  0.64889315 0.71587442 0.20150335 0.59068957 0.46313496 0.55302954\n",
      "  0.93467391 0.64496673 0.70628448 0.28489655 0.26951271 0.68527869\n",
      "  0.9066388  0.41681845 0.3243549  0.71319743 0.46941289 0.38663645\n",
      "  0.88711014 0.50730745 0.10554393 0.62768016 0.69803004 0.98026842\n",
      "  0.63781772 0.94975928 0.80757677 0.25127235 0.93009793 0.87262671\n",
      "  0.21220726 0.76538845 0.70298647 0.15468004 0.8069713  0.67546011\n",
      "  0.78859588 0.15577905 0.93945495 0.12034799 0.8239381  0.17718893\n",
      "  0.57119676 0.66669419 0.80342542 0.72524955 1.00393626 0.58675688\n",
      "  0.78540487 0.19432885 0.17769574 0.34332872 0.27496747 0.26438651\n",
      "  0.27238603 0.55730915 0.52133123 0.         0.26394131 0.44795735\n",
      "  0.08023972 0.37002863 0.36739998 0.69622539]\n",
      " [0.34057207 0.7652944  0.83772019 0.85564986 0.55745456 0.06479495\n",
      "  0.52507571 0.95406384 0.38307757 0.67627088 0.55547147 0.51853971\n",
      "  0.39433172 0.58829141 0.20393186 0.87510245 0.36760497 0.46314365\n",
      "  0.27816704 0.55761752 0.79105392 0.59762839 0.25395986 0.20513021\n",
      "  0.51305044 0.50432065 0.89447275 0.78229888 0.87593611 0.7439194\n",
      "  0.47708698 0.37553121 0.44727641 0.12705402 0.57007506 0.76526914\n",
      "  0.75435386 0.74745387 0.06446361 0.4055611  0.35065767 0.29642926\n",
      "  0.79046027 0.41703971 0.61200373 0.12600969 0.18824754 0.70072013\n",
      "  0.87104365 0.15301603 0.51616863 0.51851232 0.39115488 0.29602832\n",
      "  0.86521284 0.24357    0.1964845  0.3946256  0.56696025 0.86475084\n",
      "  0.38739079 0.84129238 0.58620358 0.48930573 0.73873146 0.82743214\n",
      "  0.08533006 0.87013462 0.75833045 0.33101898 0.67291644 0.69601668\n",
      "  0.61150758 0.1791208  0.74729846 0.34646087 0.92514308 0.2559172\n",
      "  0.52737986 0.70985294 0.56414125 0.46419598 0.84660742 0.65648063\n",
      "  0.52923721 0.40365816 0.43666137 0.45695044 0.45732348 0.42071306\n",
      "  0.17676939 0.36843314 0.42848316 0.26394131 0.         0.24781615\n",
      "  0.21881016 0.1103609  0.12857868 0.53177937]\n",
      " [0.11153445 0.6585899  0.7038895  0.62404938 0.31040695 0.26866953\n",
      "  0.30147919 0.85298871 0.37934726 0.52298692 0.47822306 0.58118163\n",
      "  0.15833213 0.38924149 0.34476061 0.79853289 0.31716935 0.3615907\n",
      "  0.4105849  0.41520284 0.5432405  0.56086203 0.23969133 0.41319186\n",
      "  0.37971379 0.43470933 0.79947752 0.53634122 0.63352475 0.58060725\n",
      "  0.43941882 0.35523338 0.35676659 0.26326877 0.32354859 0.51812445\n",
      "  0.68851178 0.6149043  0.29670582 0.15775258 0.16527075 0.18849396\n",
      "  0.54511526 0.20094992 0.3943669  0.16342304 0.19594379 0.55934832\n",
      "  0.67659931 0.20274233 0.57282508 0.27354191 0.22675815 0.16988579\n",
      "  0.68071074 0.22545249 0.34584399 0.18882332 0.33091303 0.62690883\n",
      "  0.22887444 0.60667304 0.35965112 0.60077759 0.49424655 0.62869515\n",
      "  0.33152117 0.79247043 0.6455713  0.42999391 0.43210843 0.55961275\n",
      "  0.36381337 0.41866809 0.50310545 0.55734907 0.83988411 0.33159014\n",
      "  0.36002935 0.59167854 0.36357676 0.43875381 0.59910601 0.56972161\n",
      "  0.37814566 0.50307108 0.58638097 0.45533285 0.51809154 0.46883038\n",
      "  0.18687502 0.12065892 0.23776618 0.44795735 0.24781615 0.\n",
      "  0.43576479 0.24734627 0.12673239 0.28510524]\n",
      " [0.50097852 0.76699854 0.85898921 0.98448716 0.74108741 0.25755333\n",
      "  0.73139289 0.93755561 0.58509605 0.72881705 0.55635332 0.40011714\n",
      "  0.55425591 0.69244981 0.14173389 0.84119983 0.39303522 0.68021111\n",
      "  0.1618146  0.61426597 0.96531132 0.55627971 0.46871665 0.02797919\n",
      "  0.73167753 0.71601101 0.87594143 0.96756265 1.02483217 0.80016941\n",
      "  0.68272984 0.37233127 0.66350083 0.18041787 0.75533832 0.94631797\n",
      "  0.72038523 0.77437551 0.15450028 0.58723317 0.47952222 0.51509631\n",
      "  0.94919296 0.62474442 0.73359452 0.27442837 0.28056348 0.73995496\n",
      "  0.95169174 0.36958178 0.40371864 0.70781421 0.49581495 0.40578359\n",
      "  0.93530858 0.45958811 0.13143639 0.6047974  0.71430301 1.00414422\n",
      "  0.60485433 0.97551826 0.79157349 0.33024459 0.92769072 0.91500418\n",
      "  0.15001524 0.83754899 0.76614495 0.22749197 0.82364174 0.73113487\n",
      "  0.79055728 0.07675782 0.93678766 0.12770692 0.89587905 0.22413899\n",
      "  0.60971761 0.72703697 0.77807929 0.6672131  1.01450533 0.65136243\n",
      "  0.74801473 0.27386435 0.25009153 0.41160491 0.35288787 0.33822851\n",
      "  0.27943819 0.55188733 0.54529384 0.08023972 0.21881016 0.43576479\n",
      "  0.         0.31570987 0.33765292 0.70161977]\n",
      " [0.35639593 0.84398777 0.90804255 0.87135789 0.53668186 0.05838035\n",
      "  0.47587605 1.03605715 0.27376254 0.7374521  0.63948553 0.62708737\n",
      "  0.4055739  0.62684903 0.31411045 0.9633407  0.45254041 0.36727245\n",
      "  0.38852305 0.62101316 0.7730877  0.69218299 0.15474144 0.30680389\n",
      "  0.4236278  0.40034483 0.97782681 0.75377269 0.87721261 0.8016955\n",
      "  0.36926986 0.46812355 0.34948814 0.23359354 0.5470776  0.74135046\n",
      "  0.8442211  0.81735597 0.16869643 0.39486684 0.3892872  0.21960552\n",
      "  0.78584852 0.36961104 0.63916133 0.19706206 0.27064528 0.76683948\n",
      "  0.91437192 0.06556347 0.62417626 0.49295255 0.44072097 0.3523753\n",
      "  0.91391338 0.14749735 0.3068208  0.3434271  0.57813912 0.87310763\n",
      "  0.31552627 0.85368942 0.53683481 0.59964578 0.70712154 0.86804654\n",
      "  0.16656678 0.95805059 0.83504502 0.44052194 0.67766557 0.76391254\n",
      "  0.59356687 0.25982066 0.71493286 0.44083236 1.01144408 0.36121889\n",
      "  0.58021014 0.78424055 0.49898575 0.35538542 0.83322952 0.73965936\n",
      "  0.44479884 0.51370736 0.54510353 0.55587132 0.56516529 0.52666452\n",
      "  0.25724003 0.35865922 0.46816169 0.37002863 0.1103609  0.24734627\n",
      "  0.31570987 0.         0.1259295  0.52575877]\n",
      " [0.23203633 0.73045911 0.78913544 0.74899799 0.4316387  0.14194203\n",
      "  0.39716409 0.92411142 0.32980402 0.61532213 0.53214998 0.56657785\n",
      "  0.28284389 0.50093504 0.28014012 0.85741509 0.35001724 0.36859633\n",
      "  0.35439584 0.50036122 0.66676154 0.59636491 0.18289475 0.31927336\n",
      "  0.40821369 0.42462455 0.86724581 0.65521867 0.76025696 0.67828286\n",
      "  0.41113482 0.37440203 0.35653617 0.19040931 0.44372701 0.63919778\n",
      "  0.74084297 0.69860381 0.18660609 0.28216234 0.26378161 0.18859929\n",
      "  0.67156386 0.28934436 0.51391554 0.10706544 0.17755773 0.64652982\n",
      "  0.78852146 0.10119277 0.56107243 0.391402   0.3168844  0.23246216\n",
      "  0.78851368 0.16864726 0.27717692 0.26793105 0.45641988 0.75320439\n",
      "  0.27041957 0.73232642 0.45815013 0.56155376 0.61104454 0.74212434\n",
      "  0.21390326 0.85182185 0.72019251 0.39162094 0.55869818 0.64442915\n",
      "  0.48672951 0.30676073 0.61950991 0.46440678 0.90334919 0.29842524\n",
      "  0.45628    0.6681838  0.44042685 0.40370258 0.7240556  0.63047174\n",
      "  0.41876535 0.46741488 0.526992   0.46968773 0.50267364 0.45813374\n",
      "  0.16387025 0.24502638 0.34248013 0.36739998 0.12857868 0.12673239\n",
      "  0.33765292 0.1259295  0.         0.41127352]\n",
      " [0.20068969 0.60377859 0.60305984 0.36128254 0.07472572 0.5529826\n",
      "  0.21003553 0.78077057 0.5647101  0.42516937 0.50335345 0.72731483\n",
      "  0.14836382 0.24471936 0.58591052 0.76424562 0.43498236 0.46187679\n",
      "  0.63534391 0.37009816 0.26369206 0.61281998 0.46546347 0.67624457\n",
      "  0.43211451 0.54606694 0.74107705 0.27382509 0.35184497 0.45298288\n",
      "  0.58102637 0.48480198 0.4713641  0.52142194 0.08949419 0.24793156\n",
      "  0.68255494 0.53031141 0.57585894 0.13095012 0.24155019 0.37572045\n",
      "  0.26046686 0.22302827 0.19908445 0.42996759 0.42678534 0.47238997\n",
      "  0.48014382 0.4711102  0.71505462 0.0953606  0.26660808 0.31699271\n",
      "  0.50135547 0.45529027 0.59072925 0.2470068  0.09640197 0.35252893\n",
      "  0.32936384 0.33876913 0.2237811  0.7845228  0.24322334 0.4295716\n",
      "  0.61388759 0.75749467 0.58447683 0.63048852 0.15828286 0.48041038\n",
      "  0.09619978 0.69623358 0.25293645 0.81383578 0.78984765 0.54135019\n",
      "  0.29683772 0.53298301 0.30148471 0.59149552 0.31538186 0.55909971\n",
      "  0.40469331 0.69094534 0.80022195 0.56939379 0.67321761 0.62343758\n",
      "  0.42487708 0.16721037 0.21954192 0.69622539 0.53177937 0.28510524\n",
      "  0.70161977 0.52575877 0.41127352 0.        ]]\n"
     ]
    }
   ],
   "metadata": {}
  },
  {
   "cell_type": "markdown",
   "source": [
    "#### 53. How to convert a float (32 bits) array into an integer (32 bits) in place?"
   ],
   "metadata": {}
  },
  {
   "cell_type": "code",
   "execution_count": 337,
   "source": [
    "floatarr = np.random.random(10)*100\r\n",
    "print(floatarr)\r\n",
    "intarr = []\r\n",
    "for i in range(len(floatarr)):\r\n",
    "    intarr.append(int(floatarr[i]))\r\n",
    "\r\n",
    "print(intarr)\r\n"
   ],
   "outputs": [
    {
     "output_type": "stream",
     "name": "stdout",
     "text": [
      "[83.76552549 85.80847339 87.14327994 78.49704137 99.9096739  98.32561943\n",
      " 16.64897058 83.78124791 93.50373566 31.2316546 ]\n",
      "[83, 85, 87, 78, 99, 98, 16, 83, 93, 31]\n"
     ]
    }
   ],
   "metadata": {}
  },
  {
   "cell_type": "markdown",
   "source": [
    "#### 54. How to read the following file? (★★☆)\n",
    "```\n",
    "1, 2, 3, 4, 5\n",
    "6,  ,  , 7, 8\n",
    " ,  , 9,10,11\n",
    "```"
   ],
   "metadata": {}
  },
  {
   "cell_type": "code",
   "execution_count": 353,
   "source": [
    "from io import StringIO\r\n",
    "\r\n",
    "stri = StringIO('''1, 2, 3, 4, 5\r\n",
    "\r\n",
    "                   6,  ,  , 7, 8\r\n",
    "\r\n",
    "                    ,  , 9,10, 11''')\r\n",
    "arr = np.genfromtxt(stri, delimiter=\",\", dtype=np.int)\r\n",
    "print(arr)"
   ],
   "outputs": [
    {
     "output_type": "stream",
     "name": "stdout",
     "text": [
      "[[ 1  2  3  4  5]\n",
      " [ 6 -1 -1  7  8]\n",
      " [-1 -1  9 10 11]]\n"
     ]
    },
    {
     "output_type": "stream",
     "name": "stderr",
     "text": [
      "<ipython-input-353-4d992b0e0037>:8: DeprecationWarning: `np.int` is a deprecated alias for the builtin `int`. To silence this warning, use `int` by itself. Doing this will not modify any behavior and is safe. When replacing `np.int`, you may wish to use e.g. `np.int64` or `np.int32` to specify the precision. If you wish to review your current use, check the release note link for additional information.\n",
      "Deprecated in NumPy 1.20; for more details and guidance: https://numpy.org/devdocs/release/1.20.0-notes.html#deprecations\n",
      "  Z = np.genfromtxt(stri, delimiter=\",\", dtype=np.int)\n"
     ]
    }
   ],
   "metadata": {}
  },
  {
   "cell_type": "markdown",
   "source": [
    "#### 55. What is the equivalent of enumerate for numpy arrays? (★★☆)"
   ],
   "metadata": {}
  },
  {
   "cell_type": "code",
   "execution_count": 361,
   "source": [
    "arr = np.array([[1 for i in range(3)]for j in range(3)])        #3x3 matrix (shape = (3,3))\r\n",
    "for index in np.ndindex((3,3)):\r\n",
    "    print(index, arr[index])"
   ],
   "outputs": [
    {
     "output_type": "stream",
     "name": "stdout",
     "text": [
      "(0, 0) 1\n",
      "(0, 1) 1\n",
      "(0, 2) 1\n",
      "(1, 0) 1\n",
      "(1, 1) 1\n",
      "(1, 2) 1\n",
      "(2, 0) 1\n",
      "(2, 1) 1\n",
      "(2, 2) 1\n"
     ]
    }
   ],
   "metadata": {}
  },
  {
   "cell_type": "markdown",
   "source": [
    "#### 56. Generate a generic 2D Gaussian-like array (★★☆)"
   ],
   "metadata": {}
  },
  {
   "cell_type": "code",
   "execution_count": 370,
   "source": [
    "\r\n",
    "X, Y = np.meshgrid(np.linspace(-1,1,10), np.linspace(-1,1,10))\r\n",
    "D = np.sqrt(X*X+Y*Y)\r\n",
    "sigma, mu = 1.0, 0.0                                                \r\n",
    "G = np.exp(-( (D-mu)**2 / ( 2.0 * sigma**2 ) ) )\r\n",
    "print(G)\r\n",
    "\r\n"
   ],
   "outputs": [
    {
     "output_type": "stream",
     "name": "stdout",
     "text": [
      "[[0.36787944 0.44822088 0.51979489 0.57375342 0.60279818 0.60279818\n",
      "  0.57375342 0.51979489 0.44822088 0.36787944]\n",
      " [0.44822088 0.54610814 0.63331324 0.69905581 0.73444367 0.73444367\n",
      "  0.69905581 0.63331324 0.54610814 0.44822088]\n",
      " [0.51979489 0.63331324 0.73444367 0.81068432 0.85172308 0.85172308\n",
      "  0.81068432 0.73444367 0.63331324 0.51979489]\n",
      " [0.57375342 0.69905581 0.81068432 0.89483932 0.9401382  0.9401382\n",
      "  0.89483932 0.81068432 0.69905581 0.57375342]\n",
      " [0.60279818 0.73444367 0.85172308 0.9401382  0.98773022 0.98773022\n",
      "  0.9401382  0.85172308 0.73444367 0.60279818]\n",
      " [0.60279818 0.73444367 0.85172308 0.9401382  0.98773022 0.98773022\n",
      "  0.9401382  0.85172308 0.73444367 0.60279818]\n",
      " [0.57375342 0.69905581 0.81068432 0.89483932 0.9401382  0.9401382\n",
      "  0.89483932 0.81068432 0.69905581 0.57375342]\n",
      " [0.51979489 0.63331324 0.73444367 0.81068432 0.85172308 0.85172308\n",
      "  0.81068432 0.73444367 0.63331324 0.51979489]\n",
      " [0.44822088 0.54610814 0.63331324 0.69905581 0.73444367 0.73444367\n",
      "  0.69905581 0.63331324 0.54610814 0.44822088]\n",
      " [0.36787944 0.44822088 0.51979489 0.57375342 0.60279818 0.60279818\n",
      "  0.57375342 0.51979489 0.44822088 0.36787944]]\n"
     ]
    }
   ],
   "metadata": {}
  },
  {
   "cell_type": "markdown",
   "source": [
    "#### 57. How to randomly place p elements in a 2D array? (★★☆)\""
   ],
   "metadata": {}
  },
  {
   "cell_type": "code",
   "execution_count": 399,
   "source": [
    "arr = np.array([[0 for i in range(5)]for j in range(5)])\r\n",
    "p = 3\r\n",
    "\r\n",
    "np.put(arr, np.random.choice(25, p),1)\r\n",
    "print(arr)\r\n",
    "\r\n"
   ],
   "outputs": [
    {
     "output_type": "stream",
     "name": "stdout",
     "text": [
      "[[0 0 0 0 1]\n",
      " [0 0 0 0 0]\n",
      " [0 0 0 0 0]\n",
      " [1 0 0 0 0]\n",
      " [0 0 0 1 0]]\n"
     ]
    }
   ],
   "metadata": {}
  },
  {
   "cell_type": "markdown",
   "source": [
    "#### 58. Subtract the mean of each row of a matrix (★★☆)"
   ],
   "metadata": {}
  },
  {
   "cell_type": "code",
   "execution_count": 417,
   "source": [
    "mat = np.array([[np.random.random()*100 for i in range(5)]for j in range(5)])\r\n",
    "print(mat)\r\n",
    "for i in range(5):\r\n",
    "    mat[i] = mat[i] - mat[i].mean()             #mat[i] is a particular row\r\n",
    "\r\n",
    "print(mat)"
   ],
   "outputs": [
    {
     "output_type": "stream",
     "name": "stdout",
     "text": [
      "[[63.80179435 78.86503186 80.25284622  5.09634172 94.56408158]\n",
      " [ 3.49792236 62.27821056 81.85552017 18.56493212 12.04992487]\n",
      " [51.87654794 35.32420908 14.26439242 30.43088152 87.42497642]\n",
      " [ 3.02408216  4.2310447  20.47475373 76.3531247  40.94816291]\n",
      " [59.27405846 36.53538971 23.00253642  6.58262335 78.68782425]]\n",
      "[[ -0.7142248   14.34901272  15.73682708 -59.41967743  30.04806243]\n",
      " [-32.15137966  26.62890855  46.20621815 -17.08436989 -23.59937715]\n",
      " [  8.01234647  -8.5399924  -29.59980906 -13.43331996  43.56077495]\n",
      " [-25.98215148 -24.77518894  -8.53147991  47.34689106  11.94192927]\n",
      " [ 18.45757202  -4.28109673 -17.81395002 -34.23386309  37.87133781]]\n"
     ]
    }
   ],
   "metadata": {}
  },
  {
   "cell_type": "markdown",
   "source": [
    "#### 59. How to sort an array by the nth column? (★★☆)"
   ],
   "metadata": {}
  },
  {
   "cell_type": "code",
   "execution_count": 429,
   "source": [
    "arr = np.array([[np.random.randint(10) for i in range(5)]for j in range(5)])\r\n",
    "print(arr)\r\n",
    "n = 2\r\n",
    "arr[:,n].sort()\r\n",
    "print(arr)\r\n",
    "\r\n"
   ],
   "outputs": [
    {
     "output_type": "stream",
     "name": "stdout",
     "text": [
      "[[3 1 4 3 1]\n",
      " [3 8 9 5 2]\n",
      " [0 9 3 5 9]\n",
      " [6 9 3 2 7]\n",
      " [8 6 0 9 7]]\n",
      "[[3 1 0 3 1]\n",
      " [3 8 3 5 2]\n",
      " [0 9 3 5 9]\n",
      " [6 9 4 2 7]\n",
      " [8 6 9 9 7]]\n"
     ]
    }
   ],
   "metadata": {}
  },
  {
   "cell_type": "markdown",
   "source": [
    "#### 60. How to tell if a given 2D array has null columns? (★★☆)"
   ],
   "metadata": {}
  },
  {
   "cell_type": "code",
   "execution_count": 461,
   "source": [
    "arr = np.array([[np.random.randint(2) for i in range(3)]for j in range(3)])\r\n",
    "print(arr)\r\n",
    "for i in range(3):\r\n",
    "    if arr[:,i].any() == 0:     #Check every colomn for null-ness\r\n",
    "        print(\"Present\")\r\n",
    "    else:\r\n",
    "        print(\"Absent\")"
   ],
   "outputs": [
    {
     "output_type": "stream",
     "name": "stdout",
     "text": [
      "[[0 1 1]\n",
      " [0 1 0]\n",
      " [0 0 1]]\n",
      "Present\n",
      "Absent\n",
      "Absent\n"
     ]
    }
   ],
   "metadata": {}
  },
  {
   "cell_type": "markdown",
   "source": [
    "#### 61. Find the nearest value from a given value in an array (★★☆)"
   ],
   "metadata": {}
  },
  {
   "cell_type": "code",
   "execution_count": 5,
   "source": [
    "arr = np.random.randint(0,10,10)\r\n",
    "val = 0.3\r\n",
    "nearest = arr.flat[np.abs(arr - val).argmin()]      #Flat function is used to iterate in a 1D array\r\n",
    "print(nearest)"
   ],
   "outputs": [
    {
     "output_type": "stream",
     "name": "stdout",
     "text": [
      "2\n"
     ]
    }
   ],
   "metadata": {}
  },
  {
   "cell_type": "markdown",
   "source": [
    "#### 62. Considering two arrays with shape (1,3) and (3,1), how to compute their sum using an iterator? (★★☆)"
   ],
   "metadata": {}
  },
  {
   "cell_type": "code",
   "execution_count": 32,
   "source": [
    "arr1 = np.array([[i for i in range(3)]for j in range(1)])\r\n",
    "print(arr1.shape)\r\n",
    "arr2 = np.array([[i for i in range(1)]for j in range(3)])\r\n",
    "print(arr2.shape)\r\n",
    "iter = np.nditer([arr1,arr2,None])\r\n",
    "\r\n",
    "for i,j,k in iter: \r\n",
    "    k[...] = i + j\r\n",
    "\r\n",
    "print(iter.operands[2])\r\n",
    "\r\n"
   ],
   "outputs": [
    {
     "output_type": "stream",
     "name": "stdout",
     "text": [
      "(1, 3)\n",
      "(3, 1)\n",
      "[[0 1 2]\n",
      " [0 1 2]\n",
      " [0 1 2]]\n"
     ]
    }
   ],
   "metadata": {}
  },
  {
   "cell_type": "markdown",
   "source": [
    "#### 63. Create an array class that has a name attribute (★★☆)"
   ],
   "metadata": {}
  },
  {
   "cell_type": "code",
   "execution_count": 36,
   "source": [
    "#Copies but learnt too\r\n",
    "class array(np.ndarray):\r\n",
    "    def __new__(arr, array, name):\r\n",
    "        obj = np.asarray(array).view(arr)\r\n",
    "        obj.name = name\r\n",
    "        return obj\r\n",
    "    def __array_finalize__(self, obj):\r\n",
    "        if obj is None: return\r\n",
    "        self.info = getattr(obj, 'name', \"no name\")\r\n",
    "\r\n",
    "out = array(np.arange(10), \"range_10\")\r\n",
    "print (out.name)"
   ],
   "outputs": [
    {
     "output_type": "stream",
     "name": "stdout",
     "text": [
      "range_10\n"
     ]
    }
   ],
   "metadata": {}
  },
  {
   "cell_type": "markdown",
   "source": [
    "#### 64. Consider a given vector, how to add 1 to each element indexed by a second vector (be careful with repeated indices)? (★★★)"
   ],
   "metadata": {}
  },
  {
   "cell_type": "code",
   "execution_count": 45,
   "source": [
    "arr1 = np.array([1 for i in range(10)])\r\n",
    "print(arr1)\r\n",
    "arr2 = np.random.randint(0,len(arr1),20)\r\n",
    "print(arr2)\r\n",
    "bin  =  np.bincount(arr2, weights=None, minlength=len(arr1))\r\n",
    "arr1 = arr1 + bin\r\n",
    "print(arr1)\r\n"
   ],
   "outputs": [
    {
     "output_type": "stream",
     "name": "stdout",
     "text": [
      "[1 1 1 1 1 1 1 1 1 1]\n",
      "[6 4 7 8 5 7 6 1 8 8 3 0 8 9 6 2 5 9 2 3]\n",
      "[2 2 3 3 2 3 4 3 5 3]\n"
     ]
    }
   ],
   "metadata": {}
  },
  {
   "cell_type": "markdown",
   "source": [
    "#### 65. How to accumulate elements of a vector (X) to an array (F) based on an index list (I)? (★★★)"
   ],
   "metadata": {}
  },
  {
   "cell_type": "code",
   "execution_count": 52,
   "source": [
    "X = np.array([i for i in range(10)])\r\n",
    "I = np.array([(i+1) for i in range(len(X))])\r\n",
    "F = np.bincount(I,X)\r\n",
    "print(F)\r\n",
    "\r\n"
   ],
   "outputs": [
    {
     "output_type": "stream",
     "name": "stdout",
     "text": [
      "[0. 0. 1. 2. 3. 4. 5. 6. 7. 8. 9.]\n"
     ]
    }
   ],
   "metadata": {}
  },
  {
   "cell_type": "markdown",
   "source": [
    "#### 66. Considering a (w,h,3) image of (dtype=ubyte), compute the number of unique colors (★★☆)"
   ],
   "metadata": {}
  },
  {
   "cell_type": "code",
   "execution_count": 59,
   "source": [
    "w, h = 256, 256\r\n",
    "arr = np.random.randint(0, 4, (h, w, 3)).astype(np.ubyte)\r\n",
    "colors = np.unique(arr.reshape(-1, 3), axis=0)\r\n",
    "n = len(colors)\r\n",
    "print(n)\r\n"
   ],
   "outputs": [
    {
     "output_type": "stream",
     "name": "stdout",
     "text": [
      "64\n"
     ]
    }
   ],
   "metadata": {}
  },
  {
   "cell_type": "markdown",
   "source": [
    "#### 67. Considering a four dimensions array, how to get sum over the last two axis at once? (★★★)"
   ],
   "metadata": {}
  },
  {
   "cell_type": "code",
   "execution_count": 78,
   "source": [
    "arr = np.array([[[[np.random.randint(1,10) for i in range(4)]for j in range(4)]for k in range(4)]for l in range(4)])\r\n",
    "arr.shape\r\n",
    "sum = arr.sum(axis=(-4,-3))\r\n",
    "print(sum)\r\n",
    "\r\n"
   ],
   "outputs": [
    {
     "output_type": "stream",
     "name": "stdout",
     "text": [
      "[[ 60 102  81  77]\n",
      " [ 78  85  79  75]\n",
      " [ 96  81  76  57]\n",
      " [ 65  73  90  83]]\n"
     ]
    }
   ],
   "metadata": {}
  },
  {
   "cell_type": "markdown",
   "source": [
    "#### 68. Considering a one-dimensional vector D, how to compute means of subsets of D using a vector S of same size describing subset  indices? (★★★)"
   ],
   "metadata": {}
  },
  {
   "cell_type": "code",
   "execution_count": 84,
   "source": [
    "D = np.random.uniform(0,1,100)\r\n",
    "S = np.random.randint(0,10,100)\r\n",
    "D_sum = np.bincount(S, weights=D)\r\n",
    "D_count = np.bincount(S)\r\n",
    "D_mean = D_sum / D_count\r\n",
    "print(D_mean)"
   ],
   "outputs": [
    {
     "output_type": "stream",
     "name": "stdout",
     "text": [
      "[0.47560816 0.49037949 0.57026411 0.49248639 0.47948801 0.32132247\n",
      " 0.35071145 0.66186833 0.56842453 0.51043002]\n"
     ]
    }
   ],
   "metadata": {}
  },
  {
   "cell_type": "markdown",
   "source": [
    "#### 69. How to get the diagonal of a dot product? (★★★)"
   ],
   "metadata": {}
  },
  {
   "cell_type": "code",
   "execution_count": 89,
   "source": [
    "arr1 = np.array([[i for i in range(4)]for j in range(4)])\r\n",
    "print(arr1)\r\n",
    "arr2 = np.array([[(i+1) for i in range(4)]for j in range(4)])\r\n",
    "print(arr2)\r\n",
    "dot = np.dot(arr1,arr2)\r\n",
    "print(dot)\r\n",
    "diag = np.diag(dot)\r\n",
    "print(diag)"
   ],
   "outputs": [
    {
     "output_type": "stream",
     "name": "stdout",
     "text": [
      "[[0 1 2 3]\n",
      " [0 1 2 3]\n",
      " [0 1 2 3]\n",
      " [0 1 2 3]]\n",
      "[[1 2 3 4]\n",
      " [1 2 3 4]\n",
      " [1 2 3 4]\n",
      " [1 2 3 4]]\n",
      "[[ 6 12 18 24]\n",
      " [ 6 12 18 24]\n",
      " [ 6 12 18 24]\n",
      " [ 6 12 18 24]]\n",
      "[ 6 12 18 24]\n"
     ]
    }
   ],
   "metadata": {}
  },
  {
   "cell_type": "markdown",
   "source": [
    "#### 70. Consider the vector [1, 2, 3, 4, 5], how to build a new vector with 3 consecutive zeros interleaved between each value? (★★★)"
   ],
   "metadata": {}
  },
  {
   "cell_type": "code",
   "execution_count": 91,
   "source": [
    "vec = np.array([1,2,3,4,5])\r\n",
    "newvec = []\r\n",
    "k = 0\r\n",
    "for i in range(17):\r\n",
    "    if i%4 == 0:\r\n",
    "        newvec.append(vec[k])\r\n",
    "        k = k+1\r\n",
    "    else:\r\n",
    "        newvec.append(0)\r\n",
    "\r\n",
    "newvec\r\n"
   ],
   "outputs": [
    {
     "output_type": "execute_result",
     "data": {
      "text/plain": [
       "[1, 0, 0, 0, 2, 0, 0, 0, 3, 0, 0, 0, 4, 0, 0, 0, 5]"
      ]
     },
     "metadata": {},
     "execution_count": 91
    }
   ],
   "metadata": {}
  },
  {
   "cell_type": "markdown",
   "source": [
    "#### 71. Consider an array of dimension (5,5,3), how to mulitply it by an array with dimensions (5,5)? (★★★)"
   ],
   "metadata": {}
  },
  {
   "cell_type": "code",
   "execution_count": 104,
   "source": [
    "arr1 = np.array([[[1 for i in range(3)]for j in range(5)]for k in range(5)])\r\n",
    "arr2 = np.array([[2 for i in range(5)]for j in range(5)])\r\n",
    "print(arr1.shape)\r\n",
    "print(arr2.shape)\r\n",
    "print(arr1*arr2[:,:,None])          #3D *2D is not possible hence we have to add another None dimention in the 2D array"
   ],
   "outputs": [
    {
     "output_type": "stream",
     "name": "stdout",
     "text": [
      "(5, 5, 3)\n",
      "(5, 5)\n",
      "[[[2 2 2]\n",
      "  [2 2 2]\n",
      "  [2 2 2]\n",
      "  [2 2 2]\n",
      "  [2 2 2]]\n",
      "\n",
      " [[2 2 2]\n",
      "  [2 2 2]\n",
      "  [2 2 2]\n",
      "  [2 2 2]\n",
      "  [2 2 2]]\n",
      "\n",
      " [[2 2 2]\n",
      "  [2 2 2]\n",
      "  [2 2 2]\n",
      "  [2 2 2]\n",
      "  [2 2 2]]\n",
      "\n",
      " [[2 2 2]\n",
      "  [2 2 2]\n",
      "  [2 2 2]\n",
      "  [2 2 2]\n",
      "  [2 2 2]]\n",
      "\n",
      " [[2 2 2]\n",
      "  [2 2 2]\n",
      "  [2 2 2]\n",
      "  [2 2 2]\n",
      "  [2 2 2]]]\n"
     ]
    }
   ],
   "metadata": {}
  },
  {
   "cell_type": "markdown",
   "source": [
    "#### 72. How to swap two rows of an array? (★★★)"
   ],
   "metadata": {}
  },
  {
   "cell_type": "code",
   "execution_count": 122,
   "source": [
    "# A = np.arange(25).reshape(5,5)\r\n",
    "# print(A)\r\n",
    "# A[[0,1]] = A[[1,0]]\r\n",
    "# print(A)\r\n",
    "\r\n",
    "arr = np.array([[np.random.randint(0,10) for i in range(5)]for j in range(5)])\r\n",
    "print(arr)\r\n",
    "arr[[0,1]] = arr[[1,0]]\r\n",
    "arr"
   ],
   "outputs": [
    {
     "output_type": "stream",
     "name": "stdout",
     "text": [
      "[[6 2 5 2 2]\n",
      " [2 8 3 9 0]\n",
      " [7 5 9 7 5]\n",
      " [3 9 1 2 8]\n",
      " [8 8 4 6 3]]\n"
     ]
    },
    {
     "output_type": "execute_result",
     "data": {
      "text/plain": [
       "array([[2, 8, 3, 9, 0],\n",
       "       [6, 2, 5, 2, 2],\n",
       "       [7, 5, 9, 7, 5],\n",
       "       [3, 9, 1, 2, 8],\n",
       "       [8, 8, 4, 6, 3]])"
      ]
     },
     "metadata": {},
     "execution_count": 122
    }
   ],
   "metadata": {}
  },
  {
   "cell_type": "markdown",
   "source": [
    "#### 73. Consider a set of 10 triplets describing 10 triangles (with shared vertices), find the set of unique line segments composing all the  triangles (★★★)"
   ],
   "metadata": {}
  },
  {
   "cell_type": "code",
   "execution_count": 124,
   "source": [
    "#copied but learn\r\n",
    "face = np.random.randint(0,100,(10,3))\r\n",
    "F = np.roll(face.repeat(2,axis=1),-1,axis=1)\r\n",
    "F = F.reshape(len(F)*3,2)\r\n",
    "F = np.sort(F,axis=1)\r\n",
    "G = F.view( dtype=[('p0',F.dtype),('p1',F.dtype)] )\r\n",
    "G = np.unique(G)\r\n",
    "print(G)"
   ],
   "outputs": [
    {
     "output_type": "stream",
     "name": "stdout",
     "text": [
      "[( 1,  6) ( 1, 26) ( 1, 59) ( 1, 99) ( 2, 22) ( 2, 40) ( 2, 65) ( 2, 70)\n",
      " ( 6, 29) ( 6, 34) ( 6, 67) ( 6, 70) ( 6, 99) (22, 65) (23, 23) (23, 35)\n",
      " (26, 28) (26, 59) (26, 95) (28, 95) (29, 34) (40, 70) (40, 94) (40, 99)\n",
      " (67, 70) (73, 74) (73, 80) (74, 80) (94, 99)]\n"
     ]
    }
   ],
   "metadata": {}
  },
  {
   "cell_type": "markdown",
   "source": [
    "#### 74. Given a sorted array C that corresponds to a bincount, how to produce an array A such that np.bincount(A) == C? (★★★)"
   ],
   "metadata": {}
  },
  {
   "cell_type": "code",
   "execution_count": 136,
   "source": [
    "C = np.bincount([1,2,3,4,5,6,7])\r\n",
    "A = np.repeat(np.arange(len(C)), C)\r\n",
    "print(A)"
   ],
   "outputs": [
    {
     "output_type": "stream",
     "name": "stdout",
     "text": [
      "[1 2 3 4 5 6 7]\n"
     ]
    }
   ],
   "metadata": {}
  },
  {
   "cell_type": "markdown",
   "source": [
    "#### 75. How to compute averages using a sliding window over an array? (★★★)"
   ],
   "metadata": {}
  },
  {
   "cell_type": "code",
   "execution_count": 141,
   "source": [
    "def average(a, n) :\r\n",
    "    ret = np.cumsum(a)              #cumsum = cummulative sum of an array\r\n",
    "    ret[n:] = ret[n:] - ret[:-n]\r\n",
    "    return ret[n - 1:] / n\r\n",
    "arr = np.array([i for i in range(10)])\r\n",
    "print(average(arr, 3))"
   ],
   "outputs": [
    {
     "output_type": "stream",
     "name": "stdout",
     "text": [
      "[1. 2. 3. 4. 5. 6. 7. 8.]\n"
     ]
    }
   ],
   "metadata": {}
  },
  {
   "cell_type": "markdown",
   "source": [
    "#### 76. Consider a one-dimensional array Z, build a two-dimensional array whose first row is (Z[0],Z[1],Z[2]) and each subsequent row is  shifted by 1 (last row should be (Z[-3],Z[-2],Z[-1]) (★★★)"
   ],
   "metadata": {}
  },
  {
   "cell_type": "code",
   "execution_count": 164,
   "source": [
    "from numpy.lib import stride_tricks\r\n",
    "\r\n",
    "def rolling(a, window):\r\n",
    "    shape = (a.size - window + 1, window)\r\n",
    "    strides = (a.strides[0], a.strides[0])\r\n",
    "    return stride_tricks.as_strided(a, shape=shape, strides=strides)\r\n",
    "Z = rolling(np.arange(10), 3)\r\n",
    "print(Z)\r\n"
   ],
   "outputs": [
    {
     "output_type": "stream",
     "name": "stdout",
     "text": [
      "[[0 1 2]\n",
      " [1 2 3]\n",
      " [2 3 4]\n",
      " [3 4 5]\n",
      " [4 5 6]\n",
      " [5 6 7]\n",
      " [6 7 8]\n",
      " [7 8 9]]\n"
     ]
    }
   ],
   "metadata": {}
  },
  {
   "cell_type": "markdown",
   "source": [
    "#### 77. How to negate a boolean, or to change the sign of a float inplace? (★★★)"
   ],
   "metadata": {}
  },
  {
   "cell_type": "code",
   "execution_count": 172,
   "source": [
    "arr = np.random.uniform(1.0,100.0,10)\r\n",
    "print(arr)\r\n",
    "narr = np.negative(arr)\r\n",
    "print(narr)"
   ],
   "outputs": [
    {
     "output_type": "stream",
     "name": "stdout",
     "text": [
      "[30.88483411 92.58219658 32.59378908 35.70604814 96.23421682 86.76801538\n",
      " 87.40181723 46.19271409 41.14077732 88.78351265]\n",
      "[-30.88483411 -92.58219658 -32.59378908 -35.70604814 -96.23421682\n",
      " -86.76801538 -87.40181723 -46.19271409 -41.14077732 -88.78351265]\n"
     ]
    }
   ],
   "metadata": {}
  },
  {
   "cell_type": "markdown",
   "source": [
    "#### 78. Consider 2 sets of points P0,P1 describing lines (2d) and a point p, how to compute distance from p to each line i (P0[i],P1[i])? (★★★)"
   ],
   "metadata": {}
  },
  {
   "cell_type": "code",
   "execution_count": 173,
   "source": [
    "#Copied and learmt\r\n",
    "def distance(P0, P1, p):\r\n",
    "    T = P1 - P0\r\n",
    "    L = (T**2).sum(axis=1)\r\n",
    "    U = -((P0[:,0]-p[...,0])*T[:,0] + (P0[:,1]-p[...,1])*T[:,1]) / L\r\n",
    "    U = U.reshape(len(U),1)\r\n",
    "    D = P0 + U*T - p\r\n",
    "    return np.sqrt((D**2).sum(axis=1))\r\n",
    "\r\n",
    "P0 = np.random.uniform(-10,10,(10,2))\r\n",
    "P1 = np.random.uniform(-10,10,(10,2))\r\n",
    "p  = np.random.uniform(-10,10,( 1,2))\r\n",
    "print(distance(P0, P1, p))"
   ],
   "outputs": [
    {
     "output_type": "stream",
     "name": "stdout",
     "text": [
      "[ 2.97736753 17.16963585  8.09019956 15.54872465  2.49890576  3.68324235\n",
      "  6.88432328  7.3102323   4.18944213  1.85627663]\n"
     ]
    }
   ],
   "metadata": {}
  },
  {
   "cell_type": "markdown",
   "source": [
    "#### 79. Consider 2 sets of points P0,P1 describing lines (2d) and a set of points P, how to compute distance from each point j (P[j]) to each line i (P0[i],P1[i])? (★★★)"
   ],
   "metadata": {}
  },
  {
   "cell_type": "code",
   "execution_count": 174,
   "source": [
    "def distance(P0, P1, p):\r\n",
    "    T = P1 - P0\r\n",
    "    L = (T**2).sum(axis=1)\r\n",
    "    U = -((P0[:,0]-p[...,0])*T[:,0] + (P0[:,1]-p[...,1])*T[:,1]) / L\r\n",
    "    U = U.reshape(len(U),1)\r\n",
    "    D = P0 + U*T - p\r\n",
    "    return np.sqrt((D**2).sum(axis=1))\r\n",
    "    \r\n",
    "P0 = np.random.uniform(-10, 10, (10,2))\r\n",
    "P1 = np.random.uniform(-10,10,(10,2))\r\n",
    "p = np.random.uniform(-10, 10, (10,2))\r\n",
    "print(np.array([distance(P0,P1,p_i) for p_i in p]))"
   ],
   "outputs": [
    {
     "output_type": "stream",
     "name": "stdout",
     "text": [
      "[[ 8.40944441  2.09290837  2.17573761  1.28200723  6.05268551  1.94911518\n",
      "   8.21045874  0.86482492  0.05077189  2.3593724 ]\n",
      " [ 1.75940512  4.05757457  1.71955131  5.58930458  7.60557689 14.34630822\n",
      "   8.28783886  5.78105429  1.93169498 10.37186553]\n",
      " [ 5.62313465 14.13629076 10.45159523  6.67573621  8.39952688  5.84961944\n",
      "   0.62206732 13.16644156  9.70914479 12.33753021]\n",
      " [ 1.01161777  9.38458968  8.50732464  4.94766611  0.14846207  1.01071604\n",
      "   6.65476935  6.53320073  6.79448751  3.93650795]\n",
      " [11.60853554  5.07843315  8.95483037 12.64898618  1.29536654 11.17200882\n",
      "   4.33556094  4.06780056  9.9078058   1.10883403]\n",
      " [ 0.63703496  6.91467551  2.89795396  0.86504638  5.31591957  8.59457394\n",
      "   2.76403486  6.90510974  2.16000809  8.6295373 ]\n",
      " [ 2.41788278  8.0600145   1.61565803  2.31966351 11.14854755 15.26303291\n",
      "   9.54431231  9.95834594  1.67484206 14.10396823]\n",
      " [ 9.80472859  3.65559942  8.1526706  11.89646271  0.79030122 12.59621853\n",
      "   5.88305093  2.26428076  8.88583633  3.1910451 ]\n",
      " [ 3.39195542  7.02903031  6.45048044  2.92295941  2.03115829  1.28109572\n",
      "   7.12448843  4.15279018  4.60818642  1.92517891]\n",
      " [ 1.7164717   6.72745914  0.32392646  4.29434401 11.75534745 17.33265843\n",
      "  11.50623422  9.25630984  0.08835396 14.49494722]]\n"
     ]
    }
   ],
   "metadata": {}
  },
  {
   "cell_type": "markdown",
   "source": [
    "#### 80. Consider an arbitrary array, write a function that extract a subpart with a fixed shape and centered on a given element (pad with a `fill` value when necessary) (★★★)"
   ],
   "metadata": {}
  },
  {
   "cell_type": "code",
   "execution_count": 175,
   "source": [
    "#Tough but copied and understood the logic\r\n",
    "Z = np.random.randint(0,10,(10,10))\r\n",
    "shape = (5,5)\r\n",
    "fill  = 0\r\n",
    "position = (1,1)\r\n",
    "\r\n",
    "R = np.ones(shape, dtype=Z.dtype)*fill\r\n",
    "P  = np.array(list(position)).astype(int)\r\n",
    "Rs = np.array(list(R.shape)).astype(int)\r\n",
    "Zs = np.array(list(Z.shape)).astype(int)\r\n",
    "\r\n",
    "R_start = np.zeros((len(shape),)).astype(int)\r\n",
    "R_stop  = np.array(list(shape)).astype(int)\r\n",
    "Z_start = (P-Rs//2)\r\n",
    "Z_stop  = (P+Rs//2)+Rs%2\r\n",
    "\r\n",
    "R_start = (R_start - np.minimum(Z_start,0)).tolist()\r\n",
    "Z_start = (np.maximum(Z_start,0)).tolist()\r\n",
    "R_stop = np.maximum(R_start, (R_stop - np.maximum(Z_stop-Zs,0))).tolist()\r\n",
    "Z_stop = (np.minimum(Z_stop,Zs)).tolist()\r\n",
    "\r\n",
    "r = [slice(start,stop) for start,stop in zip(R_start,R_stop)]\r\n",
    "z = [slice(start,stop) for start,stop in zip(Z_start,Z_stop)]\r\n",
    "R[r] = Z[z]\r\n",
    "print(Z)\r\n",
    "print(R)"
   ],
   "outputs": [
    {
     "output_type": "stream",
     "name": "stdout",
     "text": [
      "[[8 1 6 1 5 0 1 9 9 7]\n",
      " [9 2 8 8 0 2 9 8 9 1]\n",
      " [1 4 3 6 5 1 9 7 7 4]\n",
      " [1 5 2 7 7 4 2 0 7 2]\n",
      " [8 9 5 5 0 3 4 6 3 9]\n",
      " [4 5 6 4 2 1 4 3 5 7]\n",
      " [0 8 1 8 2 9 3 5 2 9]\n",
      " [0 1 8 0 0 4 5 4 2 3]\n",
      " [1 7 9 1 7 0 3 8 7 6]\n",
      " [0 9 0 2 2 8 9 1 9 1]]\n",
      "[[0 0 0 0 0]\n",
      " [0 8 1 6 1]\n",
      " [0 9 2 8 8]\n",
      " [0 1 4 3 6]\n",
      " [0 1 5 2 7]]\n"
     ]
    },
    {
     "output_type": "stream",
     "name": "stderr",
     "text": [
      "<ipython-input-175-5269487c2f79>:23: FutureWarning: Using a non-tuple sequence for multidimensional indexing is deprecated; use `arr[tuple(seq)]` instead of `arr[seq]`. In the future this will be interpreted as an array index, `arr[np.array(seq)]`, which will result either in an error or a different result.\n",
      "  R[r] = Z[z]\n"
     ]
    }
   ],
   "metadata": {}
  },
  {
   "cell_type": "markdown",
   "source": [
    "#### 81. Consider an array Z = [1,2,3,4,5,6,7,8,9,10,11,12,13,14], how to generate an array R = [[1,2,3,4], [2,3,4,5], [3,4,5,6], ..., [11,12,13,14]]? (★★★)"
   ],
   "metadata": {}
  },
  {
   "cell_type": "code",
   "execution_count": 207,
   "source": [
    "Z = np.array([i for i in range(1,15)])\r\n",
    "R = stride_tricks.as_strided(Z,(11,4),(4,4))\r\n",
    "print(R)\r\n",
    "\r\n",
    "\r\n"
   ],
   "outputs": [
    {
     "output_type": "stream",
     "name": "stdout",
     "text": [
      "[[ 1  2  3  4]\n",
      " [ 2  3  4  5]\n",
      " [ 3  4  5  6]\n",
      " [ 4  5  6  7]\n",
      " [ 5  6  7  8]\n",
      " [ 6  7  8  9]\n",
      " [ 7  8  9 10]\n",
      " [ 8  9 10 11]\n",
      " [ 9 10 11 12]\n",
      " [10 11 12 13]\n",
      " [11 12 13 14]]\n"
     ]
    }
   ],
   "metadata": {}
  },
  {
   "cell_type": "markdown",
   "source": [
    "#### 82. Compute a matrix rank (★★★)"
   ],
   "metadata": {}
  },
  {
   "cell_type": "code",
   "execution_count": 213,
   "source": [
    "mat = np.array([[np.random.randint(0,10)for i in range(5)]for j in range(5)])\r\n",
    "print(mat)\r\n",
    "print(mat.shape)\r\n",
    "rank =  np.linalg.matrix_rank(mat) \r\n",
    "print(rank)"
   ],
   "outputs": [
    {
     "output_type": "stream",
     "name": "stdout",
     "text": [
      "[[8 2 8 7 8]\n",
      " [2 4 0 6 1]\n",
      " [3 1 4 1 1]\n",
      " [6 8 3 3 5]\n",
      " [0 8 8 1 5]]\n",
      "(5, 5)\n",
      "5\n"
     ]
    }
   ],
   "metadata": {}
  },
  {
   "cell_type": "markdown",
   "source": [
    "#### 83. How to find the most frequent value in an array?"
   ],
   "metadata": {}
  },
  {
   "cell_type": "code",
   "execution_count": 215,
   "source": [
    "arr = np.random.randint(1,5,50)\r\n",
    "print(arr)\r\n",
    "freq = np.bincount(arr).argmax()\r\n",
    "print(freq)"
   ],
   "outputs": [
    {
     "output_type": "stream",
     "name": "stdout",
     "text": [
      "[4 2 1 4 4 1 1 2 3 4 2 1 1 2 3 3 3 3 4 4 3 3 4 3 2 3 3 4 1 4 2 3 3 3 3 3 3\n",
      " 1 3 1 3 2 1 1 2 4 4 1 2 3]\n",
      "3\n"
     ]
    }
   ],
   "metadata": {}
  },
  {
   "cell_type": "markdown",
   "source": [
    "#### 84. Extract all the contiguous 3x3 blocks from a random 10x10 matrix (★★★)"
   ],
   "metadata": {}
  },
  {
   "cell_type": "code",
   "execution_count": 228,
   "source": [
    "mat = np.array([[np.random.randint(5)for x in range(10)]for y in range(10)])\r\n",
    "n = 3\r\n",
    "i = 1 + (mat.shape[0]-3)\r\n",
    "j = 1 + (mat.shape[1]-3)\r\n",
    "C = stride_tricks.as_strided(mat, shape=(i, j, n, n), strides=mat.strides + mat.strides)\r\n",
    "print(C)\r\n"
   ],
   "outputs": [
    {
     "output_type": "stream",
     "name": "stdout",
     "text": [
      "[[[[4 0 1]\n",
      "   [2 0 3]\n",
      "   [4 4 3]]\n",
      "\n",
      "  [[0 1 0]\n",
      "   [0 3 1]\n",
      "   [4 3 1]]\n",
      "\n",
      "  [[1 0 2]\n",
      "   [3 1 3]\n",
      "   [3 1 1]]\n",
      "\n",
      "  [[0 2 3]\n",
      "   [1 3 0]\n",
      "   [1 1 0]]\n",
      "\n",
      "  [[2 3 3]\n",
      "   [3 0 3]\n",
      "   [1 0 2]]\n",
      "\n",
      "  [[3 3 4]\n",
      "   [0 3 0]\n",
      "   [0 2 1]]\n",
      "\n",
      "  [[3 4 1]\n",
      "   [3 0 1]\n",
      "   [2 1 4]]\n",
      "\n",
      "  [[4 1 4]\n",
      "   [0 1 4]\n",
      "   [1 4 1]]]\n",
      "\n",
      "\n",
      " [[[2 0 3]\n",
      "   [4 4 3]\n",
      "   [1 1 0]]\n",
      "\n",
      "  [[0 3 1]\n",
      "   [4 3 1]\n",
      "   [1 0 2]]\n",
      "\n",
      "  [[3 1 3]\n",
      "   [3 1 1]\n",
      "   [0 2 0]]\n",
      "\n",
      "  [[1 3 0]\n",
      "   [1 1 0]\n",
      "   [2 0 3]]\n",
      "\n",
      "  [[3 0 3]\n",
      "   [1 0 2]\n",
      "   [0 3 4]]\n",
      "\n",
      "  [[0 3 0]\n",
      "   [0 2 1]\n",
      "   [3 4 0]]\n",
      "\n",
      "  [[3 0 1]\n",
      "   [2 1 4]\n",
      "   [4 0 3]]\n",
      "\n",
      "  [[0 1 4]\n",
      "   [1 4 1]\n",
      "   [0 3 1]]]\n",
      "\n",
      "\n",
      " [[[4 4 3]\n",
      "   [1 1 0]\n",
      "   [1 1 3]]\n",
      "\n",
      "  [[4 3 1]\n",
      "   [1 0 2]\n",
      "   [1 3 1]]\n",
      "\n",
      "  [[3 1 1]\n",
      "   [0 2 0]\n",
      "   [3 1 4]]\n",
      "\n",
      "  [[1 1 0]\n",
      "   [2 0 3]\n",
      "   [1 4 3]]\n",
      "\n",
      "  [[1 0 2]\n",
      "   [0 3 4]\n",
      "   [4 3 0]]\n",
      "\n",
      "  [[0 2 1]\n",
      "   [3 4 0]\n",
      "   [3 0 4]]\n",
      "\n",
      "  [[2 1 4]\n",
      "   [4 0 3]\n",
      "   [0 4 1]]\n",
      "\n",
      "  [[1 4 1]\n",
      "   [0 3 1]\n",
      "   [4 1 1]]]\n",
      "\n",
      "\n",
      " [[[1 1 0]\n",
      "   [1 1 3]\n",
      "   [4 4 3]]\n",
      "\n",
      "  [[1 0 2]\n",
      "   [1 3 1]\n",
      "   [4 3 3]]\n",
      "\n",
      "  [[0 2 0]\n",
      "   [3 1 4]\n",
      "   [3 3 0]]\n",
      "\n",
      "  [[2 0 3]\n",
      "   [1 4 3]\n",
      "   [3 0 3]]\n",
      "\n",
      "  [[0 3 4]\n",
      "   [4 3 0]\n",
      "   [0 3 3]]\n",
      "\n",
      "  [[3 4 0]\n",
      "   [3 0 4]\n",
      "   [3 3 4]]\n",
      "\n",
      "  [[4 0 3]\n",
      "   [0 4 1]\n",
      "   [3 4 0]]\n",
      "\n",
      "  [[0 3 1]\n",
      "   [4 1 1]\n",
      "   [4 0 1]]]\n",
      "\n",
      "\n",
      " [[[1 1 3]\n",
      "   [4 4 3]\n",
      "   [4 4 1]]\n",
      "\n",
      "  [[1 3 1]\n",
      "   [4 3 3]\n",
      "   [4 1 1]]\n",
      "\n",
      "  [[3 1 4]\n",
      "   [3 3 0]\n",
      "   [1 1 3]]\n",
      "\n",
      "  [[1 4 3]\n",
      "   [3 0 3]\n",
      "   [1 3 0]]\n",
      "\n",
      "  [[4 3 0]\n",
      "   [0 3 3]\n",
      "   [3 0 2]]\n",
      "\n",
      "  [[3 0 4]\n",
      "   [3 3 4]\n",
      "   [0 2 2]]\n",
      "\n",
      "  [[0 4 1]\n",
      "   [3 4 0]\n",
      "   [2 2 4]]\n",
      "\n",
      "  [[4 1 1]\n",
      "   [4 0 1]\n",
      "   [2 4 1]]]\n",
      "\n",
      "\n",
      " [[[4 4 3]\n",
      "   [4 4 1]\n",
      "   [0 2 1]]\n",
      "\n",
      "  [[4 3 3]\n",
      "   [4 1 1]\n",
      "   [2 1 2]]\n",
      "\n",
      "  [[3 3 0]\n",
      "   [1 1 3]\n",
      "   [1 2 1]]\n",
      "\n",
      "  [[3 0 3]\n",
      "   [1 3 0]\n",
      "   [2 1 4]]\n",
      "\n",
      "  [[0 3 3]\n",
      "   [3 0 2]\n",
      "   [1 4 4]]\n",
      "\n",
      "  [[3 3 4]\n",
      "   [0 2 2]\n",
      "   [4 4 1]]\n",
      "\n",
      "  [[3 4 0]\n",
      "   [2 2 4]\n",
      "   [4 1 0]]\n",
      "\n",
      "  [[4 0 1]\n",
      "   [2 4 1]\n",
      "   [1 0 1]]]\n",
      "\n",
      "\n",
      " [[[4 4 1]\n",
      "   [0 2 1]\n",
      "   [2 3 3]]\n",
      "\n",
      "  [[4 1 1]\n",
      "   [2 1 2]\n",
      "   [3 3 3]]\n",
      "\n",
      "  [[1 1 3]\n",
      "   [1 2 1]\n",
      "   [3 3 3]]\n",
      "\n",
      "  [[1 3 0]\n",
      "   [2 1 4]\n",
      "   [3 3 4]]\n",
      "\n",
      "  [[3 0 2]\n",
      "   [1 4 4]\n",
      "   [3 4 0]]\n",
      "\n",
      "  [[0 2 2]\n",
      "   [4 4 1]\n",
      "   [4 0 1]]\n",
      "\n",
      "  [[2 2 4]\n",
      "   [4 1 0]\n",
      "   [0 1 1]]\n",
      "\n",
      "  [[2 4 1]\n",
      "   [1 0 1]\n",
      "   [1 1 1]]]\n",
      "\n",
      "\n",
      " [[[0 2 1]\n",
      "   [2 3 3]\n",
      "   [0 0 1]]\n",
      "\n",
      "  [[2 1 2]\n",
      "   [3 3 3]\n",
      "   [0 1 2]]\n",
      "\n",
      "  [[1 2 1]\n",
      "   [3 3 3]\n",
      "   [1 2 2]]\n",
      "\n",
      "  [[2 1 4]\n",
      "   [3 3 4]\n",
      "   [2 2 0]]\n",
      "\n",
      "  [[1 4 4]\n",
      "   [3 4 0]\n",
      "   [2 0 3]]\n",
      "\n",
      "  [[4 4 1]\n",
      "   [4 0 1]\n",
      "   [0 3 4]]\n",
      "\n",
      "  [[4 1 0]\n",
      "   [0 1 1]\n",
      "   [3 4 1]]\n",
      "\n",
      "  [[1 0 1]\n",
      "   [1 1 1]\n",
      "   [4 1 0]]]]\n"
     ]
    }
   ],
   "metadata": {}
  },
  {
   "cell_type": "markdown",
   "source": [
    "#### 85. Create a 2D array subclass such that Z[i,j] == Z[j,i] (★★★)"
   ],
   "metadata": {}
  },
  {
   "cell_type": "code",
   "execution_count": 241,
   "source": [
    "arr = np.array([[0 for i in range(5)]for j in range(5)])\r\n",
    "print(arr)\r\n",
    "for i in range(5):\r\n",
    "    for j in range(5):\r\n",
    "        if (i==j):\r\n",
    "            arr[i][j] = np.random.randint(1,5)      #Diagonal\r\n",
    "        else:\r\n",
    "            temp = np.random.randint(10)        #offdiagonal\r\n",
    "            arr[i][j] = temp\r\n",
    "            arr[j][i] = temp\r\n",
    "\r\n",
    "print(arr)\r\n"
   ],
   "outputs": [
    {
     "output_type": "stream",
     "name": "stdout",
     "text": [
      "[[0 0 0 0 0]\n",
      " [0 0 0 0 0]\n",
      " [0 0 0 0 0]\n",
      " [0 0 0 0 0]\n",
      " [0 0 0 0 0]]\n",
      "[[2 4 5 8 6]\n",
      " [4 3 8 3 9]\n",
      " [5 8 4 0 6]\n",
      " [8 3 0 4 7]\n",
      " [6 9 6 7 3]]\n"
     ]
    }
   ],
   "metadata": {}
  },
  {
   "cell_type": "markdown",
   "source": [
    "#### 86. Consider a set of p matrices wich shape (n,n) and a set of p vectors with shape (n,1). How to compute the sum of of the p matrix products at once? (result has shape (n,1)) (★★★)"
   ],
   "metadata": {}
  },
  {
   "cell_type": "code",
   "execution_count": 253,
   "source": [
    "p = 5\r\n",
    "n = 10\r\n",
    "mat = np.array([[[1 for i in range(n)]for j in range(n)]for k in range(p)])\r\n",
    "\r\n",
    "vec = np.array([[[1 for i in range(1)]for j in range(n)]for k in range(p)])\r\n",
    "tsum = np.tensordot(mat, vec, axes=[[0, 2], [0, 1]])\r\n",
    "print(tsum)"
   ],
   "outputs": [
    {
     "output_type": "stream",
     "name": "stdout",
     "text": [
      "[[50]\n",
      " [50]\n",
      " [50]\n",
      " [50]\n",
      " [50]\n",
      " [50]\n",
      " [50]\n",
      " [50]\n",
      " [50]\n",
      " [50]]\n"
     ]
    }
   ],
   "metadata": {}
  },
  {
   "cell_type": "markdown",
   "source": [
    "#### 87. Consider a 16x16 array, how to get the block-sum (block size is 4x4)? (★★★)"
   ],
   "metadata": {}
  },
  {
   "cell_type": "code",
   "execution_count": 256,
   "source": [
    "arr = np.array([[1 for i in range(16)]for j in range(16)])\r\n",
    "blocksum = np.add.reduceat(np.add.reduceat(arr, np.arange(0, arr.shape[0], 4), axis=0),np.arange(0, arr.shape[1], 4), axis=1)\r\n",
    "print(blocksum)"
   ],
   "outputs": [
    {
     "output_type": "stream",
     "name": "stdout",
     "text": [
      "[[16 16 16 16]\n",
      " [16 16 16 16]\n",
      " [16 16 16 16]\n",
      " [16 16 16 16]]\n"
     ]
    }
   ],
   "metadata": {}
  },
  {
   "cell_type": "markdown",
   "source": [
    "#### 88. How to implement the Game of Life using numpy arrays? (★★★)"
   ],
   "metadata": {}
  },
  {
   "cell_type": "code",
   "execution_count": 258,
   "source": [
    "#Could not understand"
   ],
   "outputs": [],
   "metadata": {}
  },
  {
   "cell_type": "markdown",
   "source": [
    "#### 89. How to get the n largest values of an array (★★★)"
   ],
   "metadata": {}
  },
  {
   "cell_type": "code",
   "execution_count": 275,
   "source": [
    "mat = np.array([np.random.randint(1,10) for i in range(15)])\r\n",
    "print(mat)\r\n",
    "mat.sort()\r\n",
    "print(mat)\r\n",
    "n = 4\r\n",
    "reversemat = []\r\n",
    "for i in range(len(mat)-1,-1,-1):\r\n",
    "    reversemat.append(mat[i])\r\n",
    "print(reversemat)\r\n",
    "for i in range(n):\r\n",
    "    print(reversemat[i])\r\n",
    "    "
   ],
   "outputs": [
    {
     "output_type": "stream",
     "name": "stdout",
     "text": [
      "[1 7 6 5 7 7 3 6 5 9 7 7 3 8 8]\n",
      "[1 3 3 5 5 6 6 7 7 7 7 7 8 8 9]\n",
      "[9, 8, 8, 7, 7, 7, 7, 7, 6, 6, 5, 5, 3, 3, 1]\n",
      "9\n",
      "8\n",
      "8\n",
      "7\n"
     ]
    }
   ],
   "metadata": {}
  },
  {
   "cell_type": "markdown",
   "source": [
    "#### 90. Given an arbitrary number of vectors, build the cartesian product (every combinations of every item) (★★★)"
   ],
   "metadata": {}
  },
  {
   "cell_type": "code",
   "execution_count": 297,
   "source": [
    "#This will work for 3 arrays. For more arrays i have to edit the function. Cant figure out how to do it for arbitrary arrays\r\n",
    "\r\n",
    "def cartprod(arrays):\r\n",
    "    array = []\r\n",
    "    for i in arrays:\r\n",
    "        array.append(i)\r\n",
    "    # print(array)\r\n",
    "    # print(len(array))\r\n",
    "    for i in range(len(array[0])):\r\n",
    "        for j in range(len(array[1])):\r\n",
    "            for k in range(len(array[2])):\r\n",
    "                tupl = (array[0][i],array[1][j],array[2][k])\r\n",
    "                print(tupl)\r\n",
    "        \r\n",
    "    \r\n",
    "    \r\n",
    "    \r\n",
    "ar1 = [1,2,3,4,5]\r\n",
    "ar2 = [6,7,8,9]\r\n",
    "ar3 = [10,11,12]\r\n",
    "cartprod((ar1,ar2,ar3))\r\n",
    "\r\n"
   ],
   "outputs": [
    {
     "output_type": "stream",
     "name": "stdout",
     "text": [
      "(1, 6, 10)\n",
      "(1, 6, 11)\n",
      "(1, 6, 12)\n",
      "(1, 7, 10)\n",
      "(1, 7, 11)\n",
      "(1, 7, 12)\n",
      "(1, 8, 10)\n",
      "(1, 8, 11)\n",
      "(1, 8, 12)\n",
      "(1, 9, 10)\n",
      "(1, 9, 11)\n",
      "(1, 9, 12)\n",
      "(2, 6, 10)\n",
      "(2, 6, 11)\n",
      "(2, 6, 12)\n",
      "(2, 7, 10)\n",
      "(2, 7, 11)\n",
      "(2, 7, 12)\n",
      "(2, 8, 10)\n",
      "(2, 8, 11)\n",
      "(2, 8, 12)\n",
      "(2, 9, 10)\n",
      "(2, 9, 11)\n",
      "(2, 9, 12)\n",
      "(3, 6, 10)\n",
      "(3, 6, 11)\n",
      "(3, 6, 12)\n",
      "(3, 7, 10)\n",
      "(3, 7, 11)\n",
      "(3, 7, 12)\n",
      "(3, 8, 10)\n",
      "(3, 8, 11)\n",
      "(3, 8, 12)\n",
      "(3, 9, 10)\n",
      "(3, 9, 11)\n",
      "(3, 9, 12)\n",
      "(4, 6, 10)\n",
      "(4, 6, 11)\n",
      "(4, 6, 12)\n",
      "(4, 7, 10)\n",
      "(4, 7, 11)\n",
      "(4, 7, 12)\n",
      "(4, 8, 10)\n",
      "(4, 8, 11)\n",
      "(4, 8, 12)\n",
      "(4, 9, 10)\n",
      "(4, 9, 11)\n",
      "(4, 9, 12)\n",
      "(5, 6, 10)\n",
      "(5, 6, 11)\n",
      "(5, 6, 12)\n",
      "(5, 7, 10)\n",
      "(5, 7, 11)\n",
      "(5, 7, 12)\n",
      "(5, 8, 10)\n",
      "(5, 8, 11)\n",
      "(5, 8, 12)\n",
      "(5, 9, 10)\n",
      "(5, 9, 11)\n",
      "(5, 9, 12)\n"
     ]
    }
   ],
   "metadata": {}
  },
  {
   "cell_type": "markdown",
   "source": [
    "#### 91. How to create a record array from a regular array? (★★★)"
   ],
   "metadata": {}
  },
  {
   "cell_type": "code",
   "execution_count": 301,
   "source": [
    "#Record arrays aka structured array\r\n",
    "arr = np.array([(\"Hello\", 2.5, 3),(\"World\", 3.6, 2)])\r\n",
    "recarr = np.core.records.fromarrays(arr.T,names='col1, col2, col3',formats = 'S8, f8, i8')\r\n",
    "print(recarr)\r\n"
   ],
   "outputs": [
    {
     "output_type": "stream",
     "name": "stdout",
     "text": [
      "[(b'Hello', 2.5, 3) (b'World', 3.6, 2)]\n"
     ]
    }
   ],
   "metadata": {}
  },
  {
   "cell_type": "markdown",
   "source": [
    "#### 92. Consider a large vector Z, compute Z to the power of 3 using 3 different methods (★★★)"
   ],
   "metadata": {}
  },
  {
   "cell_type": "code",
   "execution_count": 310,
   "source": [
    "Z = np.array([np.random.randint(10)for i in range(1000)])       #Large vector \r\n",
    "print(f\"Method 1 : {Z**3}\")\r\n",
    "print(f\"Method 2 : {np.power(Z,3)}\")\r\n",
    "print(f\"Method 3 : {np.einsum('i,i,i->i',Z,Z,Z)}\")\r\n"
   ],
   "outputs": [
    {
     "output_type": "stream",
     "name": "stdout",
     "text": [
      "Method 1 : [512   1 216   0 216 125   0 729   0 216 125  27   0 729  27   8   8  27\n",
      "   8 729 343 125   0 343 216 343 216   8 125  64   0  64 343 343   1 729\n",
      " 343   0   8 512  64 125  27  64 343 125 729 125 512 343   1 512  27 729\n",
      " 125   8 343   1  64   1   0 512   1  64   8 512 125   1 512   0   8  64\n",
      " 729 343  27 125   1 729  27  27   8  27 343 512   8 343 512 729 512 125\n",
      "  64   8 512   1  64 729   0   8   1   1 216   0 512 729  64   1   8 512\n",
      "  64 343  64 729   1   1   1 216  64 216 512  64   8 216 216  27 125 216\n",
      "  27   0 125   1 125 343 216 343 729 216 216 216 125  64 729 512 125 512\n",
      " 512 729   0  64   8   8 729  64 216  64   1  64   8   8   8   0   0   8\n",
      "   0   0   0 125 216 216 343 512 512 512 216   0   0 343 512 343   8   0\n",
      " 216 729 343 512   8 512   1 729   8 512  64   0  64   0 729 125  64  64\n",
      " 729 729 512   8 512  64   8 512 512   1  27   0 125   8   0 125 216 512\n",
      " 216  64   8   1   8 343   0 512 125   0   8  27 125 729 216 729   0 729\n",
      "   1 216 729 216 216   1   1 343 343   0  27   1   0 512   0 343  27   0\n",
      " 729 512 729 343   8 512  27 125   8   1 512   8 729 125 343 216   8 343\n",
      "  27   0   1   1   8   8   0 512 125   8 512  64  27 512 729 512  64 343\n",
      "  64 216  64 512 343   1   0 216 343  27 729   0 729   1 729  64  27 125\n",
      "  27 125  27 216 343 343   0 343 343   8  27 216  27 216   0 125   1   1\n",
      "  64  64 343  64 216 125 343 125   0 125 512   8 343 343 343   0 125 216\n",
      "   8 125 512  27  27   0   0   0  64  27 729 729 512 343 729 512   8 216\n",
      "  64   0  64 512   8   0 125 216 216   1 125   8 125   8   1 512 512   1\n",
      " 216  27   8  27 216 729 729  64 125  27 512   0 343  64  27  27   8   1\n",
      " 343 343   8  27   8 343 125 729 216  27  27 512 125 125  64 343 512 729\n",
      " 512 125 729   0   0   1   8   0 729 343   0   0 216   8 729 216 343 729\n",
      "   0   0  27  64  64 216 216 216 216 343 125  64  27  27 216   8   8   8\n",
      " 343 729 512 216  27   8 729 343   1 125   8  64   1 216  64  27  64  27\n",
      "   8   1 125   8 216 343  64   0  64   8   8 512  27 125   0 125  27   1\n",
      "   8  27  64   1 125 729   1  64 343   0   8 343  27   8 125   0   8   1\n",
      " 343 343  64  27 216 343   1 216   0 729 343 729 343  27   1  64  27  27\n",
      "  64   8 512   1  64   8   8  64   1   0  27   8   8   1 512  64   0 343\n",
      " 729  64  27 216 343   8   8  27 343  64  27  64   1 512 125 729 125   0\n",
      "   8 125 343   0 343 343   0   0  27 343  64   8   0 729 343 125  27   8\n",
      " 343 729 729  64 343  64 125 343   1  64   1   1 125 729 512   0  64 729\n",
      "   1 216   8  64 343 729 512   0   8   8 343 729 125   1   8  64   0  64\n",
      "   0 343   0 512   8  27 216   1   0   0   0   0   1 125   1   1 125   1\n",
      "   1  64 125   0 729  64 512   0   8 729 216 216  27   0   1   8 729  27\n",
      " 343 216   0   1 125   8 729 729   8 343   1 125  27 343 729   1   0  64\n",
      "   8 125   1 343  27 125 216  27   0 343 729 125   0 125 216 343 125  27\n",
      " 125  27   8  64 343  27   1 216   0   0 729   1 125   8   1   0 125  64\n",
      "   1 729  27 343 125 343 343   8 343 512 512 512   1 216 729 512 512   8\n",
      "   8  27 729 125  27 125 216  64  64 729 125   8 512   8 729  64   8 216\n",
      " 125 343   1 512 512  27 216 729 125   1   1 512 125 512 729 343  64 216\n",
      "   8 729   8   8 216  27 216 729  64 512 512 729   8 512   0 216 729 343\n",
      " 729   1   8 512 125 512   8 125  64   8 512  27  27  64 343 343 729 125\n",
      " 729   8  64   8 512 729 512 343 729  64 216  27  64   1 216 125 343   0\n",
      "   8   1 512 512  27   0  64   0  27 512 125   8 125   1 729   8 343   1\n",
      "   1 216   0 512 343 729 343 343   1   1 216   1 729   1 512 125  64  64\n",
      "  64   0   1  27   1  27   1 216 216   1   0 512 125 343  64   0  27   8\n",
      "  27   1 729 343   1 216 343   8 512   0  64 512 216  27 729 729 125   0\n",
      " 729   8   0 343   8  27 343  64  64   8 125  64 125  64   0  64 216  27\n",
      "   0 729   0 729   1 729   1   1 343   0   1   1  27 729 512   0 125  27\n",
      " 343  27   0 125  64 729  27  64  27  27  64  27 343  64   0 343  64 125\n",
      " 729  27   8   0   8   0 343   0 216 216 216   1 216   1 125  27 125 512\n",
      "   8 512   0 216   1 216   0   8   1 216   8 216 512 512   8 512   0   0\n",
      "  64   0 125 216   0  27   0 512  64   0   8   0   1 729   8 343   0   1\n",
      "   1 512  64 216 512   1   8  64   0 216]\n",
      "Method 2 : [512   1 216   0 216 125   0 729   0 216 125  27   0 729  27   8   8  27\n",
      "   8 729 343 125   0 343 216 343 216   8 125  64   0  64 343 343   1 729\n",
      " 343   0   8 512  64 125  27  64 343 125 729 125 512 343   1 512  27 729\n",
      " 125   8 343   1  64   1   0 512   1  64   8 512 125   1 512   0   8  64\n",
      " 729 343  27 125   1 729  27  27   8  27 343 512   8 343 512 729 512 125\n",
      "  64   8 512   1  64 729   0   8   1   1 216   0 512 729  64   1   8 512\n",
      "  64 343  64 729   1   1   1 216  64 216 512  64   8 216 216  27 125 216\n",
      "  27   0 125   1 125 343 216 343 729 216 216 216 125  64 729 512 125 512\n",
      " 512 729   0  64   8   8 729  64 216  64   1  64   8   8   8   0   0   8\n",
      "   0   0   0 125 216 216 343 512 512 512 216   0   0 343 512 343   8   0\n",
      " 216 729 343 512   8 512   1 729   8 512  64   0  64   0 729 125  64  64\n",
      " 729 729 512   8 512  64   8 512 512   1  27   0 125   8   0 125 216 512\n",
      " 216  64   8   1   8 343   0 512 125   0   8  27 125 729 216 729   0 729\n",
      "   1 216 729 216 216   1   1 343 343   0  27   1   0 512   0 343  27   0\n",
      " 729 512 729 343   8 512  27 125   8   1 512   8 729 125 343 216   8 343\n",
      "  27   0   1   1   8   8   0 512 125   8 512  64  27 512 729 512  64 343\n",
      "  64 216  64 512 343   1   0 216 343  27 729   0 729   1 729  64  27 125\n",
      "  27 125  27 216 343 343   0 343 343   8  27 216  27 216   0 125   1   1\n",
      "  64  64 343  64 216 125 343 125   0 125 512   8 343 343 343   0 125 216\n",
      "   8 125 512  27  27   0   0   0  64  27 729 729 512 343 729 512   8 216\n",
      "  64   0  64 512   8   0 125 216 216   1 125   8 125   8   1 512 512   1\n",
      " 216  27   8  27 216 729 729  64 125  27 512   0 343  64  27  27   8   1\n",
      " 343 343   8  27   8 343 125 729 216  27  27 512 125 125  64 343 512 729\n",
      " 512 125 729   0   0   1   8   0 729 343   0   0 216   8 729 216 343 729\n",
      "   0   0  27  64  64 216 216 216 216 343 125  64  27  27 216   8   8   8\n",
      " 343 729 512 216  27   8 729 343   1 125   8  64   1 216  64  27  64  27\n",
      "   8   1 125   8 216 343  64   0  64   8   8 512  27 125   0 125  27   1\n",
      "   8  27  64   1 125 729   1  64 343   0   8 343  27   8 125   0   8   1\n",
      " 343 343  64  27 216 343   1 216   0 729 343 729 343  27   1  64  27  27\n",
      "  64   8 512   1  64   8   8  64   1   0  27   8   8   1 512  64   0 343\n",
      " 729  64  27 216 343   8   8  27 343  64  27  64   1 512 125 729 125   0\n",
      "   8 125 343   0 343 343   0   0  27 343  64   8   0 729 343 125  27   8\n",
      " 343 729 729  64 343  64 125 343   1  64   1   1 125 729 512   0  64 729\n",
      "   1 216   8  64 343 729 512   0   8   8 343 729 125   1   8  64   0  64\n",
      "   0 343   0 512   8  27 216   1   0   0   0   0   1 125   1   1 125   1\n",
      "   1  64 125   0 729  64 512   0   8 729 216 216  27   0   1   8 729  27\n",
      " 343 216   0   1 125   8 729 729   8 343   1 125  27 343 729   1   0  64\n",
      "   8 125   1 343  27 125 216  27   0 343 729 125   0 125 216 343 125  27\n",
      " 125  27   8  64 343  27   1 216   0   0 729   1 125   8   1   0 125  64\n",
      "   1 729  27 343 125 343 343   8 343 512 512 512   1 216 729 512 512   8\n",
      "   8  27 729 125  27 125 216  64  64 729 125   8 512   8 729  64   8 216\n",
      " 125 343   1 512 512  27 216 729 125   1   1 512 125 512 729 343  64 216\n",
      "   8 729   8   8 216  27 216 729  64 512 512 729   8 512   0 216 729 343\n",
      " 729   1   8 512 125 512   8 125  64   8 512  27  27  64 343 343 729 125\n",
      " 729   8  64   8 512 729 512 343 729  64 216  27  64   1 216 125 343   0\n",
      "   8   1 512 512  27   0  64   0  27 512 125   8 125   1 729   8 343   1\n",
      "   1 216   0 512 343 729 343 343   1   1 216   1 729   1 512 125  64  64\n",
      "  64   0   1  27   1  27   1 216 216   1   0 512 125 343  64   0  27   8\n",
      "  27   1 729 343   1 216 343   8 512   0  64 512 216  27 729 729 125   0\n",
      " 729   8   0 343   8  27 343  64  64   8 125  64 125  64   0  64 216  27\n",
      "   0 729   0 729   1 729   1   1 343   0   1   1  27 729 512   0 125  27\n",
      " 343  27   0 125  64 729  27  64  27  27  64  27 343  64   0 343  64 125\n",
      " 729  27   8   0   8   0 343   0 216 216 216   1 216   1 125  27 125 512\n",
      "   8 512   0 216   1 216   0   8   1 216   8 216 512 512   8 512   0   0\n",
      "  64   0 125 216   0  27   0 512  64   0   8   0   1 729   8 343   0   1\n",
      "   1 512  64 216 512   1   8  64   0 216]\n",
      "Method 3 : [512   1 216   0 216 125   0 729   0 216 125  27   0 729  27   8   8  27\n",
      "   8 729 343 125   0 343 216 343 216   8 125  64   0  64 343 343   1 729\n",
      " 343   0   8 512  64 125  27  64 343 125 729 125 512 343   1 512  27 729\n",
      " 125   8 343   1  64   1   0 512   1  64   8 512 125   1 512   0   8  64\n",
      " 729 343  27 125   1 729  27  27   8  27 343 512   8 343 512 729 512 125\n",
      "  64   8 512   1  64 729   0   8   1   1 216   0 512 729  64   1   8 512\n",
      "  64 343  64 729   1   1   1 216  64 216 512  64   8 216 216  27 125 216\n",
      "  27   0 125   1 125 343 216 343 729 216 216 216 125  64 729 512 125 512\n",
      " 512 729   0  64   8   8 729  64 216  64   1  64   8   8   8   0   0   8\n",
      "   0   0   0 125 216 216 343 512 512 512 216   0   0 343 512 343   8   0\n",
      " 216 729 343 512   8 512   1 729   8 512  64   0  64   0 729 125  64  64\n",
      " 729 729 512   8 512  64   8 512 512   1  27   0 125   8   0 125 216 512\n",
      " 216  64   8   1   8 343   0 512 125   0   8  27 125 729 216 729   0 729\n",
      "   1 216 729 216 216   1   1 343 343   0  27   1   0 512   0 343  27   0\n",
      " 729 512 729 343   8 512  27 125   8   1 512   8 729 125 343 216   8 343\n",
      "  27   0   1   1   8   8   0 512 125   8 512  64  27 512 729 512  64 343\n",
      "  64 216  64 512 343   1   0 216 343  27 729   0 729   1 729  64  27 125\n",
      "  27 125  27 216 343 343   0 343 343   8  27 216  27 216   0 125   1   1\n",
      "  64  64 343  64 216 125 343 125   0 125 512   8 343 343 343   0 125 216\n",
      "   8 125 512  27  27   0   0   0  64  27 729 729 512 343 729 512   8 216\n",
      "  64   0  64 512   8   0 125 216 216   1 125   8 125   8   1 512 512   1\n",
      " 216  27   8  27 216 729 729  64 125  27 512   0 343  64  27  27   8   1\n",
      " 343 343   8  27   8 343 125 729 216  27  27 512 125 125  64 343 512 729\n",
      " 512 125 729   0   0   1   8   0 729 343   0   0 216   8 729 216 343 729\n",
      "   0   0  27  64  64 216 216 216 216 343 125  64  27  27 216   8   8   8\n",
      " 343 729 512 216  27   8 729 343   1 125   8  64   1 216  64  27  64  27\n",
      "   8   1 125   8 216 343  64   0  64   8   8 512  27 125   0 125  27   1\n",
      "   8  27  64   1 125 729   1  64 343   0   8 343  27   8 125   0   8   1\n",
      " 343 343  64  27 216 343   1 216   0 729 343 729 343  27   1  64  27  27\n",
      "  64   8 512   1  64   8   8  64   1   0  27   8   8   1 512  64   0 343\n",
      " 729  64  27 216 343   8   8  27 343  64  27  64   1 512 125 729 125   0\n",
      "   8 125 343   0 343 343   0   0  27 343  64   8   0 729 343 125  27   8\n",
      " 343 729 729  64 343  64 125 343   1  64   1   1 125 729 512   0  64 729\n",
      "   1 216   8  64 343 729 512   0   8   8 343 729 125   1   8  64   0  64\n",
      "   0 343   0 512   8  27 216   1   0   0   0   0   1 125   1   1 125   1\n",
      "   1  64 125   0 729  64 512   0   8 729 216 216  27   0   1   8 729  27\n",
      " 343 216   0   1 125   8 729 729   8 343   1 125  27 343 729   1   0  64\n",
      "   8 125   1 343  27 125 216  27   0 343 729 125   0 125 216 343 125  27\n",
      " 125  27   8  64 343  27   1 216   0   0 729   1 125   8   1   0 125  64\n",
      "   1 729  27 343 125 343 343   8 343 512 512 512   1 216 729 512 512   8\n",
      "   8  27 729 125  27 125 216  64  64 729 125   8 512   8 729  64   8 216\n",
      " 125 343   1 512 512  27 216 729 125   1   1 512 125 512 729 343  64 216\n",
      "   8 729   8   8 216  27 216 729  64 512 512 729   8 512   0 216 729 343\n",
      " 729   1   8 512 125 512   8 125  64   8 512  27  27  64 343 343 729 125\n",
      " 729   8  64   8 512 729 512 343 729  64 216  27  64   1 216 125 343   0\n",
      "   8   1 512 512  27   0  64   0  27 512 125   8 125   1 729   8 343   1\n",
      "   1 216   0 512 343 729 343 343   1   1 216   1 729   1 512 125  64  64\n",
      "  64   0   1  27   1  27   1 216 216   1   0 512 125 343  64   0  27   8\n",
      "  27   1 729 343   1 216 343   8 512   0  64 512 216  27 729 729 125   0\n",
      " 729   8   0 343   8  27 343  64  64   8 125  64 125  64   0  64 216  27\n",
      "   0 729   0 729   1 729   1   1 343   0   1   1  27 729 512   0 125  27\n",
      " 343  27   0 125  64 729  27  64  27  27  64  27 343  64   0 343  64 125\n",
      " 729  27   8   0   8   0 343   0 216 216 216   1 216   1 125  27 125 512\n",
      "   8 512   0 216   1 216   0   8   1 216   8 216 512 512   8 512   0   0\n",
      "  64   0 125 216   0  27   0 512  64   0   8   0   1 729   8 343   0   1\n",
      "   1 512  64 216 512   1   8  64   0 216]\n"
     ]
    }
   ],
   "metadata": {}
  },
  {
   "cell_type": "markdown",
   "source": [
    "#### 93. Consider two arrays A and B of shape (8,3) and (2,2). How to find rows of A that contain elements of each row of B regardless of the order of the elements in B? (★★★)"
   ],
   "metadata": {}
  },
  {
   "cell_type": "code",
   "execution_count": 313,
   "source": [
    "#COpied and understood\r\n",
    "A = np.random.randint(0,5,(8,3))\r\n",
    "B = np.random.randint(0,5,(2,2))\r\n",
    "\r\n",
    "C = (A[..., np.newaxis, np.newaxis] == B)\r\n",
    "rows = np.where(C.any((3,1)).all(1))[0]\r\n",
    "print(rows)"
   ],
   "outputs": [
    {
     "output_type": "stream",
     "name": "stdout",
     "text": [
      "[1]\n"
     ]
    }
   ],
   "metadata": {}
  },
  {
   "cell_type": "markdown",
   "source": [
    "#### 94. Considering a 10x3 matrix, extract rows with unequal values (e.g. [2,2,3]) (★★★)"
   ],
   "metadata": {}
  },
  {
   "cell_type": "code",
   "execution_count": 329,
   "source": [
    "arr = np.random.randint(0,2,(10,3))\r\n",
    "print(arr)\r\n",
    "unequal = []\r\n",
    "for i in range(len(arr)):\r\n",
    "    if arr[i][0] != arr[i][1] or arr[i][1] != arr[i][2]:\r\n",
    "        unequal.append(arr[i])\r\n",
    "\r\n",
    "print(unequal)\r\n",
    "\r\n",
    "    "
   ],
   "outputs": [
    {
     "output_type": "stream",
     "name": "stdout",
     "text": [
      "[[0 1 0]\n",
      " [0 0 0]\n",
      " [1 1 1]\n",
      " [0 1 1]\n",
      " [0 1 0]\n",
      " [1 1 1]\n",
      " [0 0 1]\n",
      " [0 0 0]\n",
      " [1 1 1]\n",
      " [1 0 1]]\n",
      "[array([0, 1, 0]), array([0, 1, 1]), array([0, 1, 0]), array([0, 0, 1]), array([1, 0, 1])]\n"
     ]
    }
   ],
   "metadata": {}
  },
  {
   "cell_type": "markdown",
   "source": [
    "#### 95. Convert a vector of ints into a matrix binary representation (★★★)"
   ],
   "metadata": {}
  },
  {
   "cell_type": "code",
   "execution_count": 344,
   "source": [
    "def strtoint(stri):\r\n",
    "    temparr = []\r\n",
    "    for i in stri:\r\n",
    "        temparr.append(int(i))\r\n",
    "    return temparr\r\n",
    "\r\n",
    "vec = np.array([np.random.randint(15) for i in range(15)])\r\n",
    "print(vec)\r\n",
    "pad = 10\r\n",
    "binarr = []\r\n",
    "for i in range(len(vec)):\r\n",
    "    tempstr = np.binary_repr(vec[i]).zfill(pad)\r\n",
    "    binarr.append(strtoint(tempstr))\r\n",
    "    \r\n",
    "pprint.pprint(binarr)\r\n",
    "\r\n",
    "    "
   ],
   "outputs": [
    {
     "output_type": "stream",
     "name": "stdout",
     "text": [
      "[ 9  4  0  8  6  2 13  5 14 10  2 13  1  5 13]\n",
      "[[0, 0, 0, 0, 0, 0, 1, 0, 0, 1],\n",
      " [0, 0, 0, 0, 0, 0, 0, 1, 0, 0],\n",
      " [0, 0, 0, 0, 0, 0, 0, 0, 0, 0],\n",
      " [0, 0, 0, 0, 0, 0, 1, 0, 0, 0],\n",
      " [0, 0, 0, 0, 0, 0, 0, 1, 1, 0],\n",
      " [0, 0, 0, 0, 0, 0, 0, 0, 1, 0],\n",
      " [0, 0, 0, 0, 0, 0, 1, 1, 0, 1],\n",
      " [0, 0, 0, 0, 0, 0, 0, 1, 0, 1],\n",
      " [0, 0, 0, 0, 0, 0, 1, 1, 1, 0],\n",
      " [0, 0, 0, 0, 0, 0, 1, 0, 1, 0],\n",
      " [0, 0, 0, 0, 0, 0, 0, 0, 1, 0],\n",
      " [0, 0, 0, 0, 0, 0, 1, 1, 0, 1],\n",
      " [0, 0, 0, 0, 0, 0, 0, 0, 0, 1],\n",
      " [0, 0, 0, 0, 0, 0, 0, 1, 0, 1],\n",
      " [0, 0, 0, 0, 0, 0, 1, 1, 0, 1]]\n"
     ]
    }
   ],
   "metadata": {}
  },
  {
   "cell_type": "markdown",
   "source": [
    "#### 96. Given a two dimensional array, how to extract unique rows? (★★★)"
   ],
   "metadata": {}
  },
  {
   "cell_type": "code",
   "execution_count": 354,
   "source": [
    "arr = np.random.randint(0,2,(5,5))\r\n",
    "uniquerows = np.unique(arr, axis=0)\r\n",
    "print(uniquerows)"
   ],
   "outputs": [
    {
     "output_type": "stream",
     "name": "stdout",
     "text": [
      "[[0 0 0 1 1]\n",
      " [0 1 0 0 0]\n",
      " [0 1 1 0 0]\n",
      " [1 0 1 0 0]\n",
      " [1 0 1 1 0]]\n"
     ]
    }
   ],
   "metadata": {}
  },
  {
   "cell_type": "markdown",
   "source": [
    "#### 97. Considering 2 vectors A & B, write the einsum equivalent of inner, outer, sum, and mul function (★★★)"
   ],
   "metadata": {}
  },
  {
   "cell_type": "code",
   "execution_count": 367,
   "source": [
    "arr1 = np.array([i for i in range(10)])\r\n",
    "arr2 = np.array([i for i in range(10)])\r\n",
    "print(np.einsum('i,i', arr1, arr2))    #inner\r\n",
    "print(np.einsum('i,j->ij', arr1, arr2))    # outer\r\n",
    "print(np.einsum('i->', arr1))       #Sum\r\n",
    "print(np.einsum('i,i->i', arr1, arr2)) #mul\r\n"
   ],
   "outputs": [
    {
     "output_type": "stream",
     "name": "stdout",
     "text": [
      "285\n",
      "[[ 0  0  0  0  0  0  0  0  0  0]\n",
      " [ 0  1  2  3  4  5  6  7  8  9]\n",
      " [ 0  2  4  6  8 10 12 14 16 18]\n",
      " [ 0  3  6  9 12 15 18 21 24 27]\n",
      " [ 0  4  8 12 16 20 24 28 32 36]\n",
      " [ 0  5 10 15 20 25 30 35 40 45]\n",
      " [ 0  6 12 18 24 30 36 42 48 54]\n",
      " [ 0  7 14 21 28 35 42 49 56 63]\n",
      " [ 0  8 16 24 32 40 48 56 64 72]\n",
      " [ 0  9 18 27 36 45 54 63 72 81]]\n",
      "45\n",
      "[ 0  1  4  9 16 25 36 49 64 81]\n"
     ]
    }
   ],
   "metadata": {}
  },
  {
   "cell_type": "markdown",
   "source": [
    "#### 98. Considering a path described by two vectors (X,Y), how to sample it using equidistant samples (★★★)?"
   ],
   "metadata": {}
  },
  {
   "cell_type": "code",
   "execution_count": 375,
   "source": [
    "#I have no idea about this\r\n"
   ],
   "outputs": [],
   "metadata": {}
  },
  {
   "cell_type": "markdown",
   "source": [
    "#### 99. Given an integer n and a 2D array X, select from X the rows which can be interpreted as draws from a multinomial distribution with n degrees, i.e., the rows which only contain integers and which sum to n. (★★★)"
   ],
   "metadata": {}
  },
  {
   "cell_type": "code",
   "execution_count": 388,
   "source": [
    "#copied and understood\r\n",
    "n = 4\r\n",
    "X = np.array([[np.random.randint(10) for i in range(4)]for j in range(3)])\r\n",
    "M = np.logical_and.reduce(np.mod(X, 1) == 0, axis=-1)\r\n",
    "M &= (X.sum(axis=-1) == n)\r\n",
    "print(X[M])\r\n"
   ],
   "outputs": [
    {
     "output_type": "stream",
     "name": "stdout",
     "text": [
      "[]\n"
     ]
    }
   ],
   "metadata": {}
  },
  {
   "cell_type": "markdown",
   "source": [
    "#### 100. Compute bootstrapped 95% confidence intervals for the mean of a 1D array X (i.e., resample the elements of an array with replacement N times, compute the mean of each sample, and then compute percentiles over the means). (★★★)"
   ],
   "metadata": {}
  },
  {
   "cell_type": "code",
   "execution_count": 387,
   "source": [
    "#copied and understood\r\n",
    "X = np.random.randn(100) \r\n",
    "N = 1000 \r\n",
    "idx = np.random.randint(0, X.size, (N, X.size))\r\n",
    "means = X[idx].mean(axis=1)\r\n",
    "confint = np.percentile(means, [2.5, 97.5])\r\n",
    "print(confint)"
   ],
   "outputs": [
    {
     "output_type": "stream",
     "name": "stdout",
     "text": [
      "[-0.15548488  0.24014158]\n"
     ]
    }
   ],
   "metadata": {}
  },
  {
   "cell_type": "code",
   "execution_count": null,
   "source": [],
   "outputs": [],
   "metadata": {}
  }
 ],
 "metadata": {
  "language_info": {
   "name": "python",
   "version": "3.9.5",
   "mimetype": "text/x-python",
   "codemirror_mode": {
    "name": "ipython",
    "version": 3
   },
   "pygments_lexer": "ipython3",
   "nbconvert_exporter": "python",
   "file_extension": ".py"
  },
  "kernelspec": {
   "name": "python3",
   "display_name": "Python 3.9.5 64-bit"
  },
  "interpreter": {
   "hash": "ac59ebe37160ed0dfa835113d9b8498d9f09ceb179beaac4002f036b9467c963"
  }
 },
 "nbformat": 4,
 "nbformat_minor": 5
}