{
 "cells": [
  {
   "cell_type": "code",
   "execution_count": 1,
   "metadata": {},
   "outputs": [],
   "source": [
    "#IMPORTING STUFFS\n",
    "from numpy import random\n",
    "from matplotlib import pyplot as plt\n",
    "from sklearn.linear_model import LinearRegression\n"
   ]
  },
  {
   "cell_type": "code",
   "execution_count": 2,
   "metadata": {},
   "outputs": [],
   "source": [
    "#RANDOM DATASET\n",
    "x = random.rand(100)\n",
    "xx = x.reshape(-1,1)\n",
    "y = []\n",
    "m = 10\n",
    "for i in range(100):\n",
    "    c = random.rand()\n",
    "    ytemp = (m*xx[i]) + c\n",
    "    y.append(ytemp)\n",
    "    \n"
   ]
  },
  {
   "cell_type": "code",
   "execution_count": 3,
   "metadata": {},
   "outputs": [
    {
     "name": "stdout",
     "output_type": "stream",
     "text": [
      "m : [[9.88072021]] , b : [0.6072107]\n"
     ]
    },
    {
     "data": {
      "image/png": "[encoded data removed]",
      "text/plain": [
       "<Figure size 432x288 with 1 Axes>"
      ]
     },
     "metadata": {
      "needs_background": "light"
     },
     "output_type": "display_data"
    }
   ],
   "source": [
    "#CREATING A MODEL OBJECT AND FITTING\n",
    "model = LinearRegression()\n",
    "model.fit(xx,y)\n",
    "pred = model.predict(xx)\n",
    "print(f\"m : {model.coef_} , b : {model.intercept_}\")\n",
    "#PLOTTING\n",
    "\n",
    "\n",
    "plt.scatter(x,y)\n",
    "plt.plot(x,pred,color=\"green\")\n",
    "plt.title(\"Linear Regression on Random Data\")\n",
    "plt.xlabel(\"X Man\")\n",
    "plt.ylabel(\"Y Man\")\n",
    "plt.show()"
   ]
  },
  {
   "cell_type": "code",
   "execution_count": null,
   "metadata": {},
   "outputs": [],
   "source": []
  }
 ],
 "metadata": {
  "interpreter": {
   "hash": "ac59ebe37160ed0dfa835113d9b8498d9f09ceb179beaac4002f036b9467c963"
  },
  "kernelspec": {
   "display_name": "Python 3",
   "language": "python",
   "name": "python3"
  },
  "language_info": {
   "codemirror_mode": {
    "name": "ipython",
    "version": 3
   },
   "file_extension": ".py",
   "mimetype": "text/x-python",
   "name": "python",
   "nbconvert_exporter": "python",
   "pygments_lexer": "ipython3",
   "version": "3.8.8"
  }
 },
 "nbformat": 4,
 "nbformat_minor": 2
}
