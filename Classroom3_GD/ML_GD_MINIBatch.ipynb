{
 "cells": [
  {
   "cell_type": "code",
   "execution_count": 33,
   "metadata": {},
   "outputs": [],
   "source": [
    "#CODE FOR THE MINI BATCH SDG"
   ]
  },
  {
   "cell_type": "code",
   "execution_count": 1,
   "metadata": {},
   "outputs": [],
   "source": [
    "#IMPORTING STUFFS\n",
    "import numpy as np\n",
    "from matplotlib import pyplot as plt\n",
    "from sklearn.linear_model import LinearRegression"
   ]
  },
  {
   "cell_type": "code",
   "execution_count": 2,
   "metadata": {},
   "outputs": [
    {
     "data": {
      "image/png": "[encoded data removed]",
      "text/plain": [
       "<Figure size 432x288 with 1 Axes>"
      ]
     },
     "metadata": {
      "needs_background": "light"
     },
     "output_type": "display_data"
    }
   ],
   "source": [
    "#CREATING RANDOM DATASET\n",
    "x = np.random.uniform(1,101,50)     \n",
    "xx = x.reshape(-1,1)\n",
    "c = np.random.uniform(1,50,50)\n",
    "y = np.array([0 for i in range(50)])\n",
    "m = 2\n",
    "for i in range(len(x)):\n",
    "    y[i] = (m*xx[i]) + c[i]\n",
    "\n",
    "plt.scatter(xx,y)\n",
    "plt.show()\n"
   ]
  },
  {
   "cell_type": "code",
   "execution_count": 5,
   "metadata": {},
   "outputs": [
    {
     "data": {
      "image/png": "[encoded data removed]",
      "text/plain": [
       "<Figure size 432x288 with 1 Axes>"
      ]
     },
     "metadata": {
      "needs_background": "light"
     },
     "output_type": "display_data"
    },
    {
     "name": "stdout",
     "output_type": "stream",
     "text": [
      "coef : [2.04814727], Intercept : 22.25871182730957\n"
     ]
    }
   ],
   "source": [
    "#Just to check my GD Algo is working fine with linear regreesion. If (working fine): same results\n",
    "model = LinearRegression()\n",
    "model.fit(xx,y)\n",
    "pred = model.predict(xx)\n",
    "\n",
    "plt.scatter(xx,y)\n",
    "plt.plot(x,pred)\n",
    "plt.show()\n",
    "\n",
    "print(f\"coef : {model.coef_}, Intercept : {model.intercept_}\")\n"
   ]
  },
  {
   "cell_type": "code",
   "execution_count": 7,
   "metadata": {
    "tags": []
   },
   "outputs": [
    {
     "name": "stdout",
     "output_type": "stream",
     "text": [
      "m : 2.0816761966816806, b : 23.289116907863672\n"
     ]
    },
    {
     "data": {
      "image/png": "[encoded data removed]",
      "text/plain": [
       "<Figure size 432x288 with 1 Axes>"
      ]
     },
     "metadata": {
      "needs_background": "light"
     },
     "output_type": "display_data"
    }
   ],
   "source": [
    "#CODING FOR MINI BATCH\n",
    "\n",
    "def GDMini(x,y,batchsize):\n",
    "    B = batchsize\n",
    "    mcurr = 0\n",
    "    bcurr = 0\n",
    "    epoch = 100000\n",
    "    lr = 0.0001 \n",
    "    xmini = np.array([0 for i in range(B)])         #TO STORE THE X MINI BATCH\n",
    "    ymini = np.array([0 for i in range(B)])         #TO STORE THE Y MINIBATCH\n",
    "    for i in range(epoch):\n",
    "        for j in range(B):                         #LOOP TO GET RANDOM DATA FROM THE ORIGINAL DATASET\n",
    "            xtemp = np.random.choice(x)\n",
    "            xmini[j] = xtemp\n",
    "            indextemp = np.where(x == xtemp)\n",
    "            index = indextemp[0][0]\n",
    "            ymini[j] = y[index] \n",
    "        ypred = mcurr*xmini + bcurr\n",
    "        derivm = -(2/B) * sum(xmini*(ymini-ypred))\n",
    "        derivb = -(2/B) * sum(ymini - ypred)\n",
    "        mcurr = mcurr - lr*derivm\n",
    "        bcurr = bcurr - lr*derivb\n",
    "\n",
    "    return (mcurr,bcurr)        \n",
    "\n",
    "mcurrr,bcurrr = GDMini(x,y,10)\n",
    "print(f\"m : {mcurrr}, b : {bcurrr}\")\n",
    "#Same results\n",
    "\n",
    "plt.scatter(x,y)\n",
    "plt.plot(x,mcurrr*x + bcurrr,'g')\n",
    "plt.show()\n",
    "\n"
   ]
  },
  {
   "cell_type": "code",
   "execution_count": null,
   "metadata": {},
   "outputs": [],
   "source": []
  }
 ],
 "metadata": {
  "interpreter": {
   "hash": "ac59ebe37160ed0dfa835113d9b8498d9f09ceb179beaac4002f036b9467c963"
  },
  "kernelspec": {
   "display_name": "Python 3",
   "language": "python",
   "name": "python3"
  },
  "language_info": {
   "codemirror_mode": {
    "name": "ipython",
    "version": 3
   },
   "file_extension": ".py",
   "mimetype": "text/x-python",
   "name": "python",
   "nbconvert_exporter": "python",
   "pygments_lexer": "ipython3",
   "version": "3.8.8"
  }
 },
 "nbformat": 4,
 "nbformat_minor": 2
}
