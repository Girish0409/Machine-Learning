{
 "cells": [
  {
   "cell_type": "code",
   "execution_count": 59,
   "source": [
    "from matplotlib import pyplot as plt\r\n",
    "import pandas as pd\r\n",
    "import numpy as np\r\n",
    "from sklearn.model_selection import train_test_split as tts\r\n",
    "from pprint import pprint\r\n"
   ],
   "outputs": [],
   "metadata": {}
  },
  {
   "cell_type": "code",
   "execution_count": 66,
   "source": [
    "data = pd.read_csv(\"haberman.csv\")      #Importing data\r\n",
    "data2 = data.rename_axis().values       #pandas df to multidim array. Why? Cuz I liked it\r\n",
    "print(data2)\r\n",
    "print(len(data2))"
   ],
   "outputs": [
    {
     "output_type": "stream",
     "name": "stdout",
     "text": [
      "[[30 64  1  1]\n",
      " [30 62  3  1]\n",
      " [30 65  0  1]\n",
      " ...\n",
      " [77 65  3  1]\n",
      " [78 65  1 -1]\n",
      " [83 58  2 -1]]\n",
      "306\n"
     ]
    }
   ],
   "metadata": {}
  },
  {
   "cell_type": "code",
   "execution_count": 88,
   "source": [
    "X_train, X_test = tts(data2, test_size=0.33, random_state=42)       #Splittng\r\n",
    "print(len(X_train))\r\n",
    "print(len(X_test))"
   ],
   "outputs": [
    {
     "output_type": "stream",
     "name": "stdout",
     "text": [
      "205\n",
      "101\n"
     ]
    }
   ],
   "metadata": {}
  },
  {
   "cell_type": "code",
   "execution_count": 111,
   "source": [
    "def percep(data,epoch):    \r\n",
    "    w = [0,0,0]\r\n",
    "    bias = 1\r\n",
    "    thresh = 0\r\n",
    "    g = 0\r\n",
    "    lr = 0.5\r\n",
    "\r\n",
    "    while g < epoch:\r\n",
    "        for j in range(len(data)):\r\n",
    "            sum = 0\r\n",
    "            out = 0\r\n",
    "            \r\n",
    "            for k in range(len(data[0])-1):\r\n",
    "                sum = sum + data[j][k]*w[k]\r\n",
    "            out = sum + bias\r\n",
    "            if out > thresh:\r\n",
    "                tempy = 1\r\n",
    "            else:\r\n",
    "                tempy = -1\r\n",
    "            if tempy != data[j][3]:\r\n",
    "                for m in range(len(data[0])-1):\r\n",
    "                    w[m] = w[m] + lr*data[j][m]*data[j][3]\r\n",
    "                bias = bias + lr*data[j][3]\r\n",
    "        g = g+1\r\n",
    "\r\n",
    "    return w,bias\r\n",
    "\r\n",
    "w,b = percep(X_train,100)\r\n",
    "print(w)\r\n",
    "print(b)\r\n",
    "\r\n",
    "def toTest(testdata,w,b):\r\n",
    "    thresh = 0\r\n",
    "    count = 0\r\n",
    "    for i in range(len(testdata)):\r\n",
    "        sum = 0\r\n",
    "        out = 0\r\n",
    "        for j in range(len(testdata[0])-1):\r\n",
    "            sum = sum + testdata[i][j]*w[j]\r\n",
    "        out = sum + b \r\n",
    "        if out > thresh:\r\n",
    "            tempy = 1\r\n",
    "        else:\r\n",
    "            tempy = -1\r\n",
    "        if tempy == testdata[i][3]:\r\n",
    "            count = count + 1\r\n",
    "\r\n",
    "    return (count/len(testdata))\r\n",
    "\r\n",
    "accuracy = toTest(X_test,w,b)\r\n",
    "\r\n",
    "print(f\"Accuracy : {accuracy*100} %\")\r\n",
    "\r\n",
    "        \r\n",
    "\r\n",
    "\r\n",
    "\r\n",
    "\r\n",
    "\r\n",
    "\r\n",
    "\r\n"
   ],
   "outputs": [
    {
     "output_type": "stream",
     "name": "stdout",
     "text": [
      "[-62.5, 96.5, -96.5]\n",
      "-12.5\n",
      "Accuracy : 74.25742574257426 %\n"
     ]
    }
   ],
   "metadata": {}
  },
  {
   "cell_type": "code",
   "execution_count": 115,
   "source": [
    "epoch = [1,10,20,50,70,100]\r\n",
    "accuracy_arr = []\r\n",
    "for i in epoch:\r\n",
    "    w,b = percep(X_train,i)\r\n",
    "    acc = toTest(X_test,w,b)\r\n",
    "    accuracy_arr.append(acc)\r\n",
    "\r\n",
    "plt.plot(epoch,accuracy_arr)\r\n",
    "plt.ylim(0.5,1)\r\n",
    "plt.show()\r\n",
    "\r\n",
    "    "
   ],
   "outputs": [
    {
     "output_type": "display_data",
     "data": {
      "image/png": "[encoded data removed]",
      "text/plain": [
       "<Figure size 432x288 with 1 Axes>"
      ]
     },
     "metadata": {
      "needs_background": "light"
     }
    }
   ],
   "metadata": {}
  },
  {
   "cell_type": "code",
   "execution_count": null,
   "source": [],
   "outputs": [],
   "metadata": {}
  }
 ],
 "metadata": {
  "orig_nbformat": 4,
  "language_info": {
   "name": "python",
   "version": "3.9.5",
   "mimetype": "text/x-python",
   "codemirror_mode": {
    "name": "ipython",
    "version": 3
   },
   "pygments_lexer": "ipython3",
   "nbconvert_exporter": "python",
   "file_extension": ".py"
  },
  "kernelspec": {
   "name": "python3",
   "display_name": "Python 3.9.5 64-bit"
  },
  "interpreter": {
   "hash": "ac59ebe37160ed0dfa835113d9b8498d9f09ceb179beaac4002f036b9467c963"
  }
 },
 "nbformat": 4,
 "nbformat_minor": 2
}